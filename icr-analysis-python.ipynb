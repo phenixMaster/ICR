{
 "cells": [
  {
   "cell_type": "markdown",
   "id": "2c90816f",
   "metadata": {
    "papermill": {
     "duration": 0.015246,
     "end_time": "2023-07-24T16:25:01.264699",
     "exception": false,
     "start_time": "2023-07-24T16:25:01.249453",
     "status": "completed"
    },
    "tags": []
   },
   "source": [
    "# ICR - Identifying Age-Related Conditions Dataset with TensorFlow Decision Forests"
   ]
  },
  {
   "cell_type": "markdown",
   "id": "d9c170f6",
   "metadata": {
    "papermill": {
     "duration": 0.014961,
     "end_time": "2023-07-24T16:25:01.294332",
     "exception": false,
     "start_time": "2023-07-24T16:25:01.279371",
     "status": "completed"
    },
    "tags": []
   },
   "source": [
    "This notebook walks you through how to train a baseline Random Forest model using TensorFlow Decision Forests on the ICR - Identifying Age-Related Conditions dataset made available for this competition. The goal of the model is to predict if a person has one or more of any of three medical conditions or none.\n",
    "\n",
    "Roughly, the code will look as follows:\n",
    "\n",
    "```\n",
    "import tensorflow_decision_forests as tfdf\n",
    "import pandas as pd\n",
    "\n",
    "dataset = pd.read_csv(\"project/dataset.csv\")\n",
    "tf_dataset = tfdf.keras.pd_dataframe_to_tf_dataset(dataset, label=\"my_label\")\n",
    "\n",
    "model = tfdf.keras.RandomForestModel()\n",
    "model.fit(tf_dataset)\n",
    "\n",
    "print(model.summary())\n",
    "```\n",
    "\n",
    "Decision Forests are a family of tree-based models including Random Forests and Gradient Boosted Trees. They are the best place to start when working with tabular data, and will often outperform (or provide a strong baseline) before you begin experimenting with neural networks."
   ]
  },
  {
   "cell_type": "markdown",
   "id": "8fe108f0",
   "metadata": {
    "papermill": {
     "duration": 0.014621,
     "end_time": "2023-07-24T16:25:01.323899",
     "exception": false,
     "start_time": "2023-07-24T16:25:01.309278",
     "status": "completed"
    },
    "tags": []
   },
   "source": [
    "# Import the libraries"
   ]
  },
  {
   "cell_type": "code",
   "execution_count": 1,
   "id": "98b5fc1d",
   "metadata": {
    "execution": {
     "iopub.execute_input": "2023-07-24T16:25:01.354456Z",
     "iopub.status.busy": "2023-07-24T16:25:01.354083Z",
     "iopub.status.idle": "2023-07-24T16:25:03.624652Z",
     "shell.execute_reply": "2023-07-24T16:25:03.623554Z"
    },
    "papermill": {
     "duration": 2.289412,
     "end_time": "2023-07-24T16:25:03.627727",
     "exception": false,
     "start_time": "2023-07-24T16:25:01.338315",
     "status": "completed"
    },
    "tags": []
   },
   "outputs": [],
   "source": [
    "#import tensorflow as tf\n",
    "#import tensorflow_decision_forests as tfdf\n",
    "import pandas as pd\n",
    "import numpy as np\n",
    "import seaborn as sns\n",
    "import matplotlib.pyplot as plt\n",
    "import sklearn \n",
    "from sklearn import linear_model\n",
    "\n",
    "from sklearn.model_selection import cross_val_score\n",
    "from sklearn.datasets import make_blobs\n",
    "from sklearn.ensemble import RandomForestClassifier\n",
    "from sklearn.ensemble import ExtraTreesClassifier\n",
    "from sklearn.tree import DecisionTreeClassifier\n"
   ]
  },
  {
   "cell_type": "code",
   "execution_count": 2,
   "id": "8b3b7873",
   "metadata": {
    "execution": {
     "iopub.execute_input": "2023-07-24T16:25:03.659230Z",
     "iopub.status.busy": "2023-07-24T16:25:03.658215Z",
     "iopub.status.idle": "2023-07-24T16:25:03.662903Z",
     "shell.execute_reply": "2023-07-24T16:25:03.661764Z"
    },
    "papermill": {
     "duration": 0.023046,
     "end_time": "2023-07-24T16:25:03.665341",
     "exception": false,
     "start_time": "2023-07-24T16:25:03.642295",
     "status": "completed"
    },
    "tags": []
   },
   "outputs": [],
   "source": [
    "#print(\"TensorFlow v\" + tf.__version__)\n",
    "#print(\"TensorFlow Decision Forests v\" + tfdf.__version__)"
   ]
  },
  {
   "cell_type": "markdown",
   "id": "57d1ed07",
   "metadata": {
    "papermill": {
     "duration": 0.014182,
     "end_time": "2023-07-24T16:25:03.694063",
     "exception": false,
     "start_time": "2023-07-24T16:25:03.679881",
     "status": "completed"
    },
    "tags": []
   },
   "source": [
    "# Load the Dataset"
   ]
  },
  {
   "cell_type": "code",
   "execution_count": 3,
   "id": "c6af70c6",
   "metadata": {
    "execution": {
     "iopub.execute_input": "2023-07-24T16:25:03.724982Z",
     "iopub.status.busy": "2023-07-24T16:25:03.724559Z",
     "iopub.status.idle": "2023-07-24T16:25:03.767104Z",
     "shell.execute_reply": "2023-07-24T16:25:03.766283Z"
    },
    "papermill": {
     "duration": 0.060648,
     "end_time": "2023-07-24T16:25:03.769481",
     "exception": false,
     "start_time": "2023-07-24T16:25:03.708833",
     "status": "completed"
    },
    "tags": []
   },
   "outputs": [
    {
     "name": "stdout",
     "output_type": "stream",
     "text": [
      "Full train dataset shape is (617, 58)\n"
     ]
    }
   ],
   "source": [
    "dataset_df = pd.read_csv('/kaggle/input/icr-identify-age-related-conditions/train.csv')\n",
    "print(f\"Full train dataset shape is {dataset_df.shape}\")"
   ]
  },
  {
   "cell_type": "markdown",
   "id": "e9fc1c56",
   "metadata": {
    "papermill": {
     "duration": 0.014311,
     "end_time": "2023-07-24T16:25:03.798846",
     "exception": false,
     "start_time": "2023-07-24T16:25:03.784535",
     "status": "completed"
    },
    "tags": []
   },
   "source": [
    "The data is composed of 58 columns and 617 entries. We can see all 58 dimensions(results will be truncated since the number of columns is big) of our dataset by printing out the first 5 entries using the following code:"
   ]
  },
  {
   "cell_type": "code",
   "execution_count": 4,
   "id": "7b5f214d",
   "metadata": {
    "execution": {
     "iopub.execute_input": "2023-07-24T16:25:03.830351Z",
     "iopub.status.busy": "2023-07-24T16:25:03.829405Z",
     "iopub.status.idle": "2023-07-24T16:25:03.878721Z",
     "shell.execute_reply": "2023-07-24T16:25:03.877572Z"
    },
    "papermill": {
     "duration": 0.067631,
     "end_time": "2023-07-24T16:25:03.881223",
     "exception": false,
     "start_time": "2023-07-24T16:25:03.813592",
     "status": "completed"
    },
    "tags": []
   },
   "outputs": [
    {
     "data": {
      "text/html": [
       "<div>\n",
       "<style scoped>\n",
       "    .dataframe tbody tr th:only-of-type {\n",
       "        vertical-align: middle;\n",
       "    }\n",
       "\n",
       "    .dataframe tbody tr th {\n",
       "        vertical-align: top;\n",
       "    }\n",
       "\n",
       "    .dataframe thead th {\n",
       "        text-align: right;\n",
       "    }\n",
       "</style>\n",
       "<table border=\"1\" class=\"dataframe\">\n",
       "  <thead>\n",
       "    <tr style=\"text-align: right;\">\n",
       "      <th></th>\n",
       "      <th>Id</th>\n",
       "      <th>AB</th>\n",
       "      <th>AF</th>\n",
       "      <th>AH</th>\n",
       "      <th>AM</th>\n",
       "      <th>AR</th>\n",
       "      <th>AX</th>\n",
       "      <th>AY</th>\n",
       "      <th>AZ</th>\n",
       "      <th>BC</th>\n",
       "      <th>...</th>\n",
       "      <th>FL</th>\n",
       "      <th>FR</th>\n",
       "      <th>FS</th>\n",
       "      <th>GB</th>\n",
       "      <th>GE</th>\n",
       "      <th>GF</th>\n",
       "      <th>GH</th>\n",
       "      <th>GI</th>\n",
       "      <th>GL</th>\n",
       "      <th>Class</th>\n",
       "    </tr>\n",
       "  </thead>\n",
       "  <tbody>\n",
       "    <tr>\n",
       "      <th>0</th>\n",
       "      <td>000ff2bfdfe9</td>\n",
       "      <td>0.209377</td>\n",
       "      <td>3109.03329</td>\n",
       "      <td>85.200147</td>\n",
       "      <td>22.394407</td>\n",
       "      <td>8.138688</td>\n",
       "      <td>0.699861</td>\n",
       "      <td>0.025578</td>\n",
       "      <td>9.812214</td>\n",
       "      <td>5.555634</td>\n",
       "      <td>...</td>\n",
       "      <td>7.298162</td>\n",
       "      <td>1.73855</td>\n",
       "      <td>0.094822</td>\n",
       "      <td>11.339138</td>\n",
       "      <td>72.611063</td>\n",
       "      <td>2003.810319</td>\n",
       "      <td>22.136229</td>\n",
       "      <td>69.834944</td>\n",
       "      <td>0.120343</td>\n",
       "      <td>1</td>\n",
       "    </tr>\n",
       "    <tr>\n",
       "      <th>1</th>\n",
       "      <td>007255e47698</td>\n",
       "      <td>0.145282</td>\n",
       "      <td>978.76416</td>\n",
       "      <td>85.200147</td>\n",
       "      <td>36.968889</td>\n",
       "      <td>8.138688</td>\n",
       "      <td>3.632190</td>\n",
       "      <td>0.025578</td>\n",
       "      <td>13.517790</td>\n",
       "      <td>1.229900</td>\n",
       "      <td>...</td>\n",
       "      <td>0.173229</td>\n",
       "      <td>0.49706</td>\n",
       "      <td>0.568932</td>\n",
       "      <td>9.292698</td>\n",
       "      <td>72.611063</td>\n",
       "      <td>27981.562750</td>\n",
       "      <td>29.135430</td>\n",
       "      <td>32.131996</td>\n",
       "      <td>21.978000</td>\n",
       "      <td>0</td>\n",
       "    </tr>\n",
       "    <tr>\n",
       "      <th>2</th>\n",
       "      <td>013f2bd269f5</td>\n",
       "      <td>0.470030</td>\n",
       "      <td>2635.10654</td>\n",
       "      <td>85.200147</td>\n",
       "      <td>32.360553</td>\n",
       "      <td>8.138688</td>\n",
       "      <td>6.732840</td>\n",
       "      <td>0.025578</td>\n",
       "      <td>12.824570</td>\n",
       "      <td>1.229900</td>\n",
       "      <td>...</td>\n",
       "      <td>7.709560</td>\n",
       "      <td>0.97556</td>\n",
       "      <td>1.198821</td>\n",
       "      <td>37.077772</td>\n",
       "      <td>88.609437</td>\n",
       "      <td>13676.957810</td>\n",
       "      <td>28.022851</td>\n",
       "      <td>35.192676</td>\n",
       "      <td>0.196941</td>\n",
       "      <td>0</td>\n",
       "    </tr>\n",
       "    <tr>\n",
       "      <th>3</th>\n",
       "      <td>043ac50845d5</td>\n",
       "      <td>0.252107</td>\n",
       "      <td>3819.65177</td>\n",
       "      <td>120.201618</td>\n",
       "      <td>77.112203</td>\n",
       "      <td>8.138688</td>\n",
       "      <td>3.685344</td>\n",
       "      <td>0.025578</td>\n",
       "      <td>11.053708</td>\n",
       "      <td>1.229900</td>\n",
       "      <td>...</td>\n",
       "      <td>6.122162</td>\n",
       "      <td>0.49706</td>\n",
       "      <td>0.284466</td>\n",
       "      <td>18.529584</td>\n",
       "      <td>82.416803</td>\n",
       "      <td>2094.262452</td>\n",
       "      <td>39.948656</td>\n",
       "      <td>90.493248</td>\n",
       "      <td>0.155829</td>\n",
       "      <td>0</td>\n",
       "    </tr>\n",
       "    <tr>\n",
       "      <th>4</th>\n",
       "      <td>044fb8a146ec</td>\n",
       "      <td>0.380297</td>\n",
       "      <td>3733.04844</td>\n",
       "      <td>85.200147</td>\n",
       "      <td>14.103738</td>\n",
       "      <td>8.138688</td>\n",
       "      <td>3.942255</td>\n",
       "      <td>0.054810</td>\n",
       "      <td>3.396778</td>\n",
       "      <td>102.151980</td>\n",
       "      <td>...</td>\n",
       "      <td>8.153058</td>\n",
       "      <td>48.50134</td>\n",
       "      <td>0.121914</td>\n",
       "      <td>16.408728</td>\n",
       "      <td>146.109943</td>\n",
       "      <td>8524.370502</td>\n",
       "      <td>45.381316</td>\n",
       "      <td>36.262628</td>\n",
       "      <td>0.096614</td>\n",
       "      <td>1</td>\n",
       "    </tr>\n",
       "  </tbody>\n",
       "</table>\n",
       "<p>5 rows × 58 columns</p>\n",
       "</div>"
      ],
      "text/plain": [
       "             Id        AB          AF          AH         AM        AR  \\\n",
       "0  000ff2bfdfe9  0.209377  3109.03329   85.200147  22.394407  8.138688   \n",
       "1  007255e47698  0.145282   978.76416   85.200147  36.968889  8.138688   \n",
       "2  013f2bd269f5  0.470030  2635.10654   85.200147  32.360553  8.138688   \n",
       "3  043ac50845d5  0.252107  3819.65177  120.201618  77.112203  8.138688   \n",
       "4  044fb8a146ec  0.380297  3733.04844   85.200147  14.103738  8.138688   \n",
       "\n",
       "         AX        AY         AZ          BC  ...        FL        FR  \\\n",
       "0  0.699861  0.025578   9.812214    5.555634  ...  7.298162   1.73855   \n",
       "1  3.632190  0.025578  13.517790    1.229900  ...  0.173229   0.49706   \n",
       "2  6.732840  0.025578  12.824570    1.229900  ...  7.709560   0.97556   \n",
       "3  3.685344  0.025578  11.053708    1.229900  ...  6.122162   0.49706   \n",
       "4  3.942255  0.054810   3.396778  102.151980  ...  8.153058  48.50134   \n",
       "\n",
       "         FS         GB          GE            GF         GH         GI  \\\n",
       "0  0.094822  11.339138   72.611063   2003.810319  22.136229  69.834944   \n",
       "1  0.568932   9.292698   72.611063  27981.562750  29.135430  32.131996   \n",
       "2  1.198821  37.077772   88.609437  13676.957810  28.022851  35.192676   \n",
       "3  0.284466  18.529584   82.416803   2094.262452  39.948656  90.493248   \n",
       "4  0.121914  16.408728  146.109943   8524.370502  45.381316  36.262628   \n",
       "\n",
       "          GL  Class  \n",
       "0   0.120343      1  \n",
       "1  21.978000      0  \n",
       "2   0.196941      0  \n",
       "3   0.155829      0  \n",
       "4   0.096614      1  \n",
       "\n",
       "[5 rows x 58 columns]"
      ]
     },
     "execution_count": 4,
     "metadata": {},
     "output_type": "execute_result"
    }
   ],
   "source": [
    "dataset_df.head()"
   ]
  },
  {
   "cell_type": "markdown",
   "id": "f4de49b7",
   "metadata": {
    "papermill": {
     "duration": 0.014717,
     "end_time": "2023-07-24T16:25:03.911159",
     "exception": false,
     "start_time": "2023-07-24T16:25:03.896442",
     "status": "completed"
    },
    "tags": []
   },
   "source": [
    "`Class` is the label column indicating if a person has one or more of any of the three medical conditions (i.e,`Class 1`), or none of the three medical conditions (i.e,`Class 0`).\n",
    "Given the features of the dataset, the goal of our model is to predict the value of `Class` for any person."
   ]
  },
  {
   "cell_type": "markdown",
   "id": "2a195c7d",
   "metadata": {
    "papermill": {
     "duration": 0.014588,
     "end_time": "2023-07-24T16:25:03.940677",
     "exception": false,
     "start_time": "2023-07-24T16:25:03.926089",
     "status": "completed"
    },
    "tags": []
   },
   "source": [
    "# Quick basic dataset exploration"
   ]
  },
  {
   "cell_type": "code",
   "execution_count": 5,
   "id": "7ce2c186",
   "metadata": {
    "execution": {
     "iopub.execute_input": "2023-07-24T16:25:03.972905Z",
     "iopub.status.busy": "2023-07-24T16:25:03.972470Z",
     "iopub.status.idle": "2023-07-24T16:25:03.976665Z",
     "shell.execute_reply": "2023-07-24T16:25:03.975868Z"
    },
    "papermill": {
     "duration": 0.023008,
     "end_time": "2023-07-24T16:25:03.978813",
     "exception": false,
     "start_time": "2023-07-24T16:25:03.955805",
     "status": "completed"
    },
    "tags": []
   },
   "outputs": [],
   "source": [
    "#dataset_df.info()"
   ]
  },
  {
   "cell_type": "markdown",
   "id": "0c4beed6",
   "metadata": {
    "papermill": {
     "duration": 0.014645,
     "end_time": "2023-07-24T16:25:04.008639",
     "exception": false,
     "start_time": "2023-07-24T16:25:03.993994",
     "status": "completed"
    },
    "tags": []
   },
   "source": [
    "## Pie chart for label column: Class"
   ]
  },
  {
   "cell_type": "code",
   "execution_count": 6,
   "id": "15841858",
   "metadata": {
    "execution": {
     "iopub.execute_input": "2023-07-24T16:25:04.040652Z",
     "iopub.status.busy": "2023-07-24T16:25:04.039960Z",
     "iopub.status.idle": "2023-07-24T16:25:04.279754Z",
     "shell.execute_reply": "2023-07-24T16:25:04.278271Z"
    },
    "papermill": {
     "duration": 0.260483,
     "end_time": "2023-07-24T16:25:04.284107",
     "exception": false,
     "start_time": "2023-07-24T16:25:04.023624",
     "status": "completed"
    },
    "tags": []
   },
   "outputs": [
    {
     "data": {
      "text/plain": [
       "<Axes: ylabel='Class'>"
      ]
     },
     "execution_count": 6,
     "metadata": {},
     "output_type": "execute_result"
    },
    {
     "data": {
      "image/png": "[encoded data removed]",
      "text/plain": [
       "<Figure size 640x480 with 1 Axes>"
      ]
     },
     "metadata": {},
     "output_type": "display_data"
    }
   ],
   "source": [
    "plot_df = dataset_df.Class.value_counts()\n",
    "plot_df.plot(kind=\"pie\")"
   ]
  },
  {
   "cell_type": "markdown",
   "id": "50cbe7b5",
   "metadata": {
    "papermill": {
     "duration": 0.025524,
     "end_time": "2023-07-24T16:25:04.342237",
     "exception": false,
     "start_time": "2023-07-24T16:25:04.316713",
     "status": "completed"
    },
    "tags": []
   },
   "source": [
    "**Important**: From the pie chart we can see that the dataset is heavily imbalanced since the fraction of positive(`1`) samples is very small compared to the negative(`0`) samples."
   ]
  },
  {
   "cell_type": "markdown",
   "id": "1a6a1cf2",
   "metadata": {
    "papermill": {
     "duration": 0.015343,
     "end_time": "2023-07-24T16:25:04.373039",
     "exception": false,
     "start_time": "2023-07-24T16:25:04.357696",
     "status": "completed"
    },
    "tags": []
   },
   "source": [
    "Dataset is imbalanced ! let's solve this "
   ]
  },
  {
   "cell_type": "markdown",
   "id": "d2aeca8e",
   "metadata": {
    "papermill": {
     "duration": 0.01497,
     "end_time": "2023-07-24T16:25:04.403481",
     "exception": false,
     "start_time": "2023-07-24T16:25:04.388511",
     "status": "completed"
    },
    "tags": []
   },
   "source": [
    "Class Weighting "
   ]
  },
  {
   "cell_type": "code",
   "execution_count": 7,
   "id": "ce86f8bc",
   "metadata": {
    "execution": {
     "iopub.execute_input": "2023-07-24T16:25:04.435891Z",
     "iopub.status.busy": "2023-07-24T16:25:04.435511Z",
     "iopub.status.idle": "2023-07-24T16:25:04.442744Z",
     "shell.execute_reply": "2023-07-24T16:25:04.441974Z"
    },
    "papermill": {
     "duration": 0.026042,
     "end_time": "2023-07-24T16:25:04.444878",
     "exception": false,
     "start_time": "2023-07-24T16:25:04.418836",
     "status": "completed"
    },
    "tags": []
   },
   "outputs": [
    {
     "name": "stdout",
     "output_type": "stream",
     "text": [
      "Weight for class 0: 0.61\n",
      "Weight for class 1: 2.86\n"
     ]
    }
   ],
   "source": [
    "# Calculate the number of samples for each label.\n",
    "neg, pos = np.bincount(dataset_df['Class'])\n",
    "\n",
    "# Calculate total samples.\n",
    "total = neg + pos\n",
    "\n",
    "# Calculate the weight for each label.\n",
    "weight_for_0 = total / (neg * 2.0)\n",
    "weight_for_1 = total / (pos *  2.0) \n",
    "\n",
    "class_weight = {0: weight_for_0, 1: weight_for_1}\n",
    "\n",
    "print('Weight for class 0: {:.2f}'.format(weight_for_0))\n",
    "print('Weight for class 1: {:.2f}'.format(weight_for_1))"
   ]
  },
  {
   "cell_type": "markdown",
   "id": "d178f870",
   "metadata": {
    "papermill": {
     "duration": 0.015187,
     "end_time": "2023-07-24T16:25:04.475663",
     "exception": false,
     "start_time": "2023-07-24T16:25:04.460476",
     "status": "completed"
    },
    "tags": []
   },
   "source": [
    "========== data splitting ============"
   ]
  },
  {
   "cell_type": "code",
   "execution_count": 8,
   "id": "6f4b547c",
   "metadata": {
    "execution": {
     "iopub.execute_input": "2023-07-24T16:25:04.508867Z",
     "iopub.status.busy": "2023-07-24T16:25:04.508237Z",
     "iopub.status.idle": "2023-07-24T16:25:04.516037Z",
     "shell.execute_reply": "2023-07-24T16:25:04.515203Z"
    },
    "papermill": {
     "duration": 0.026954,
     "end_time": "2023-07-24T16:25:04.518138",
     "exception": false,
     "start_time": "2023-07-24T16:25:04.491184",
     "status": "completed"
    },
    "tags": []
   },
   "outputs": [
    {
     "data": {
      "text/plain": [
       "0.0036606494159727265"
      ]
     },
     "execution_count": 8,
     "metadata": {},
     "output_type": "execute_result"
    }
   ],
   "source": [
    "dataset_df.isna().mean().mean()"
   ]
  },
  {
   "cell_type": "markdown",
   "id": "4e9b8798",
   "metadata": {
    "papermill": {
     "duration": 0.015379,
     "end_time": "2023-07-24T16:25:04.549554",
     "exception": false,
     "start_time": "2023-07-24T16:25:04.534175",
     "status": "completed"
    },
    "tags": []
   },
   "source": [
    "There are some NA's in dataset. Let's impute it. "
   ]
  },
  {
   "cell_type": "code",
   "execution_count": 9,
   "id": "701f04ee",
   "metadata": {
    "execution": {
     "iopub.execute_input": "2023-07-24T16:25:04.582820Z",
     "iopub.status.busy": "2023-07-24T16:25:04.582146Z",
     "iopub.status.idle": "2023-07-24T16:25:04.589229Z",
     "shell.execute_reply": "2023-07-24T16:25:04.588467Z"
    },
    "papermill": {
     "duration": 0.026403,
     "end_time": "2023-07-24T16:25:04.591567",
     "exception": false,
     "start_time": "2023-07-24T16:25:04.565164",
     "status": "completed"
    },
    "tags": []
   },
   "outputs": [],
   "source": [
    "# select numeric data\n",
    "X = dataset_df.select_dtypes(exclude=object).drop(\"Class\",axis = 1)"
   ]
  },
  {
   "cell_type": "markdown",
   "id": "6a614420",
   "metadata": {
    "papermill": {
     "duration": 0.016166,
     "end_time": "2023-07-24T16:25:04.623626",
     "exception": false,
     "start_time": "2023-07-24T16:25:04.607460",
     "status": "completed"
    },
    "tags": []
   },
   "source": [
    "What is the proportion of NAs in datatset ?"
   ]
  },
  {
   "cell_type": "code",
   "execution_count": 10,
   "id": "b6bd8208",
   "metadata": {
    "execution": {
     "iopub.execute_input": "2023-07-24T16:25:04.657513Z",
     "iopub.status.busy": "2023-07-24T16:25:04.656433Z",
     "iopub.status.idle": "2023-07-24T16:25:04.663697Z",
     "shell.execute_reply": "2023-07-24T16:25:04.662545Z"
    },
    "papermill": {
     "duration": 0.026715,
     "end_time": "2023-07-24T16:25:04.666043",
     "exception": false,
     "start_time": "2023-07-24T16:25:04.639328",
     "status": "completed"
    },
    "tags": []
   },
   "outputs": [
    {
     "name": "stdout",
     "output_type": "stream",
     "text": [
      "The proportion of NAs is : 0.004\n",
      "\n"
     ]
    }
   ],
   "source": [
    "### proportion NA's\n",
    "print(f\"The proportion of NAs is : {X.isna().mean().mean().round(3)}\\n\")"
   ]
  },
  {
   "cell_type": "code",
   "execution_count": 11,
   "id": "bc3d957e",
   "metadata": {
    "execution": {
     "iopub.execute_input": "2023-07-24T16:25:04.699570Z",
     "iopub.status.busy": "2023-07-24T16:25:04.699169Z",
     "iopub.status.idle": "2023-07-24T16:25:04.723299Z",
     "shell.execute_reply": "2023-07-24T16:25:04.722155Z"
    },
    "papermill": {
     "duration": 0.043885,
     "end_time": "2023-07-24T16:25:04.725699",
     "exception": false,
     "start_time": "2023-07-24T16:25:04.681814",
     "status": "completed"
    },
    "tags": []
   },
   "outputs": [],
   "source": [
    "# impute dataset\n",
    "#import numpy as np\n",
    "import numpy as np\n",
    "#from sklearn.impute import KNNImputer\n",
    "#imputer = KNNImputer(n_neighbors=5)\n",
    "for var in X.columns :\n",
    "    if X[var].isna().mean() > 0 :\n",
    "        X[X[var].isna()] = X[var].median()\n",
    "   "
   ]
  },
  {
   "cell_type": "code",
   "execution_count": 12,
   "id": "4ef502ef",
   "metadata": {
    "execution": {
     "iopub.execute_input": "2023-07-24T16:25:04.759380Z",
     "iopub.status.busy": "2023-07-24T16:25:04.758974Z",
     "iopub.status.idle": "2023-07-24T16:25:04.766183Z",
     "shell.execute_reply": "2023-07-24T16:25:04.764812Z"
    },
    "papermill": {
     "duration": 0.026867,
     "end_time": "2023-07-24T16:25:04.768355",
     "exception": false,
     "start_time": "2023-07-24T16:25:04.741488",
     "status": "completed"
    },
    "tags": []
   },
   "outputs": [
    {
     "name": "stdout",
     "output_type": "stream",
     "text": [
      "The proportion of NAs is : 0.0\n",
      "\n"
     ]
    }
   ],
   "source": [
    "# check proportion of NA's\n",
    "print(f\"The proportion of NAs is : {X.isna().mean().mean()}\\n\")"
   ]
  },
  {
   "cell_type": "code",
   "execution_count": 13,
   "id": "d5b894c9",
   "metadata": {
    "execution": {
     "iopub.execute_input": "2023-07-24T16:25:04.802456Z",
     "iopub.status.busy": "2023-07-24T16:25:04.802077Z",
     "iopub.status.idle": "2023-07-24T16:25:04.818811Z",
     "shell.execute_reply": "2023-07-24T16:25:04.817842Z"
    },
    "papermill": {
     "duration": 0.036845,
     "end_time": "2023-07-24T16:25:04.821439",
     "exception": false,
     "start_time": "2023-07-24T16:25:04.784594",
     "status": "completed"
    },
    "tags": []
   },
   "outputs": [],
   "source": [
    "# replace imputed columns in original dataset \n",
    "dataset_df[X.columns.to_list()] = X"
   ]
  },
  {
   "cell_type": "code",
   "execution_count": 14,
   "id": "c414e017",
   "metadata": {
    "execution": {
     "iopub.execute_input": "2023-07-24T16:25:04.858250Z",
     "iopub.status.busy": "2023-07-24T16:25:04.857873Z",
     "iopub.status.idle": "2023-07-24T16:25:04.887292Z",
     "shell.execute_reply": "2023-07-24T16:25:04.885942Z"
    },
    "papermill": {
     "duration": 0.050013,
     "end_time": "2023-07-24T16:25:04.889925",
     "exception": false,
     "start_time": "2023-07-24T16:25:04.839912",
     "status": "completed"
    },
    "tags": []
   },
   "outputs": [
    {
     "data": {
      "text/html": [
       "<div>\n",
       "<style scoped>\n",
       "    .dataframe tbody tr th:only-of-type {\n",
       "        vertical-align: middle;\n",
       "    }\n",
       "\n",
       "    .dataframe tbody tr th {\n",
       "        vertical-align: top;\n",
       "    }\n",
       "\n",
       "    .dataframe thead th {\n",
       "        text-align: right;\n",
       "    }\n",
       "</style>\n",
       "<table border=\"1\" class=\"dataframe\">\n",
       "  <thead>\n",
       "    <tr style=\"text-align: right;\">\n",
       "      <th></th>\n",
       "      <th>Id</th>\n",
       "      <th>AB</th>\n",
       "      <th>AF</th>\n",
       "      <th>AH</th>\n",
       "      <th>AM</th>\n",
       "      <th>AR</th>\n",
       "      <th>AX</th>\n",
       "      <th>AY</th>\n",
       "      <th>AZ</th>\n",
       "      <th>BC</th>\n",
       "      <th>...</th>\n",
       "      <th>FL</th>\n",
       "      <th>FR</th>\n",
       "      <th>FS</th>\n",
       "      <th>GB</th>\n",
       "      <th>GE</th>\n",
       "      <th>GF</th>\n",
       "      <th>GH</th>\n",
       "      <th>GI</th>\n",
       "      <th>GL</th>\n",
       "      <th>Class</th>\n",
       "    </tr>\n",
       "  </thead>\n",
       "  <tbody>\n",
       "    <tr>\n",
       "      <th>0</th>\n",
       "      <td>000ff2bfdfe9</td>\n",
       "      <td>0.209377</td>\n",
       "      <td>3109.03329</td>\n",
       "      <td>85.200147</td>\n",
       "      <td>22.394407</td>\n",
       "      <td>8.138688</td>\n",
       "      <td>0.699861</td>\n",
       "      <td>0.025578</td>\n",
       "      <td>9.812214</td>\n",
       "      <td>5.555634</td>\n",
       "      <td>...</td>\n",
       "      <td>7.298162</td>\n",
       "      <td>1.73855</td>\n",
       "      <td>0.094822</td>\n",
       "      <td>11.339138</td>\n",
       "      <td>72.611063</td>\n",
       "      <td>2003.810319</td>\n",
       "      <td>22.136229</td>\n",
       "      <td>69.834944</td>\n",
       "      <td>0.120343</td>\n",
       "      <td>1</td>\n",
       "    </tr>\n",
       "    <tr>\n",
       "      <th>1</th>\n",
       "      <td>007255e47698</td>\n",
       "      <td>0.145282</td>\n",
       "      <td>978.76416</td>\n",
       "      <td>85.200147</td>\n",
       "      <td>36.968889</td>\n",
       "      <td>8.138688</td>\n",
       "      <td>3.632190</td>\n",
       "      <td>0.025578</td>\n",
       "      <td>13.517790</td>\n",
       "      <td>1.229900</td>\n",
       "      <td>...</td>\n",
       "      <td>0.173229</td>\n",
       "      <td>0.49706</td>\n",
       "      <td>0.568932</td>\n",
       "      <td>9.292698</td>\n",
       "      <td>72.611063</td>\n",
       "      <td>27981.562750</td>\n",
       "      <td>29.135430</td>\n",
       "      <td>32.131996</td>\n",
       "      <td>21.978000</td>\n",
       "      <td>0</td>\n",
       "    </tr>\n",
       "    <tr>\n",
       "      <th>2</th>\n",
       "      <td>013f2bd269f5</td>\n",
       "      <td>0.470030</td>\n",
       "      <td>2635.10654</td>\n",
       "      <td>85.200147</td>\n",
       "      <td>32.360553</td>\n",
       "      <td>8.138688</td>\n",
       "      <td>6.732840</td>\n",
       "      <td>0.025578</td>\n",
       "      <td>12.824570</td>\n",
       "      <td>1.229900</td>\n",
       "      <td>...</td>\n",
       "      <td>7.709560</td>\n",
       "      <td>0.97556</td>\n",
       "      <td>1.198821</td>\n",
       "      <td>37.077772</td>\n",
       "      <td>88.609437</td>\n",
       "      <td>13676.957810</td>\n",
       "      <td>28.022851</td>\n",
       "      <td>35.192676</td>\n",
       "      <td>0.196941</td>\n",
       "      <td>0</td>\n",
       "    </tr>\n",
       "    <tr>\n",
       "      <th>3</th>\n",
       "      <td>043ac50845d5</td>\n",
       "      <td>0.252107</td>\n",
       "      <td>3819.65177</td>\n",
       "      <td>120.201618</td>\n",
       "      <td>77.112203</td>\n",
       "      <td>8.138688</td>\n",
       "      <td>3.685344</td>\n",
       "      <td>0.025578</td>\n",
       "      <td>11.053708</td>\n",
       "      <td>1.229900</td>\n",
       "      <td>...</td>\n",
       "      <td>6.122162</td>\n",
       "      <td>0.49706</td>\n",
       "      <td>0.284466</td>\n",
       "      <td>18.529584</td>\n",
       "      <td>82.416803</td>\n",
       "      <td>2094.262452</td>\n",
       "      <td>39.948656</td>\n",
       "      <td>90.493248</td>\n",
       "      <td>0.155829</td>\n",
       "      <td>0</td>\n",
       "    </tr>\n",
       "    <tr>\n",
       "      <th>4</th>\n",
       "      <td>044fb8a146ec</td>\n",
       "      <td>0.380297</td>\n",
       "      <td>3733.04844</td>\n",
       "      <td>85.200147</td>\n",
       "      <td>14.103738</td>\n",
       "      <td>8.138688</td>\n",
       "      <td>3.942255</td>\n",
       "      <td>0.054810</td>\n",
       "      <td>3.396778</td>\n",
       "      <td>102.151980</td>\n",
       "      <td>...</td>\n",
       "      <td>8.153058</td>\n",
       "      <td>48.50134</td>\n",
       "      <td>0.121914</td>\n",
       "      <td>16.408728</td>\n",
       "      <td>146.109943</td>\n",
       "      <td>8524.370502</td>\n",
       "      <td>45.381316</td>\n",
       "      <td>36.262628</td>\n",
       "      <td>0.096614</td>\n",
       "      <td>1</td>\n",
       "    </tr>\n",
       "  </tbody>\n",
       "</table>\n",
       "<p>5 rows × 58 columns</p>\n",
       "</div>"
      ],
      "text/plain": [
       "             Id        AB          AF          AH         AM        AR  \\\n",
       "0  000ff2bfdfe9  0.209377  3109.03329   85.200147  22.394407  8.138688   \n",
       "1  007255e47698  0.145282   978.76416   85.200147  36.968889  8.138688   \n",
       "2  013f2bd269f5  0.470030  2635.10654   85.200147  32.360553  8.138688   \n",
       "3  043ac50845d5  0.252107  3819.65177  120.201618  77.112203  8.138688   \n",
       "4  044fb8a146ec  0.380297  3733.04844   85.200147  14.103738  8.138688   \n",
       "\n",
       "         AX        AY         AZ          BC  ...        FL        FR  \\\n",
       "0  0.699861  0.025578   9.812214    5.555634  ...  7.298162   1.73855   \n",
       "1  3.632190  0.025578  13.517790    1.229900  ...  0.173229   0.49706   \n",
       "2  6.732840  0.025578  12.824570    1.229900  ...  7.709560   0.97556   \n",
       "3  3.685344  0.025578  11.053708    1.229900  ...  6.122162   0.49706   \n",
       "4  3.942255  0.054810   3.396778  102.151980  ...  8.153058  48.50134   \n",
       "\n",
       "         FS         GB          GE            GF         GH         GI  \\\n",
       "0  0.094822  11.339138   72.611063   2003.810319  22.136229  69.834944   \n",
       "1  0.568932   9.292698   72.611063  27981.562750  29.135430  32.131996   \n",
       "2  1.198821  37.077772   88.609437  13676.957810  28.022851  35.192676   \n",
       "3  0.284466  18.529584   82.416803   2094.262452  39.948656  90.493248   \n",
       "4  0.121914  16.408728  146.109943   8524.370502  45.381316  36.262628   \n",
       "\n",
       "          GL  Class  \n",
       "0   0.120343      1  \n",
       "1  21.978000      0  \n",
       "2   0.196941      0  \n",
       "3   0.155829      0  \n",
       "4   0.096614      1  \n",
       "\n",
       "[5 rows x 58 columns]"
      ]
     },
     "execution_count": 14,
     "metadata": {},
     "output_type": "execute_result"
    }
   ],
   "source": [
    "# head dataset \n",
    "dataset_df.head()"
   ]
  },
  {
   "cell_type": "code",
   "execution_count": 15,
   "id": "d251b336",
   "metadata": {
    "execution": {
     "iopub.execute_input": "2023-07-24T16:25:04.924761Z",
     "iopub.status.busy": "2023-07-24T16:25:04.924377Z",
     "iopub.status.idle": "2023-07-24T16:25:04.938573Z",
     "shell.execute_reply": "2023-07-24T16:25:04.937242Z"
    },
    "papermill": {
     "duration": 0.034805,
     "end_time": "2023-07-24T16:25:04.941235",
     "exception": false,
     "start_time": "2023-07-24T16:25:04.906430",
     "status": "completed"
    },
    "tags": []
   },
   "outputs": [],
   "source": [
    "from sklearn.model_selection import train_test_split\n",
    "y = dataset_df[\"Class\"]\n",
    "train0, test = train_test_split(dataset_df,test_size = 0.2,\n",
    "                                stratify=dataset_df.Class, random_state=42)\n",
    "train, valid = train_test_split(train0,test_size = 0.2,\n",
    "                                stratify=train0.Class, random_state=42)"
   ]
  },
  {
   "cell_type": "markdown",
   "id": "dcb75225",
   "metadata": {
    "papermill": {
     "duration": 0.016171,
     "end_time": "2023-07-24T16:25:04.974069",
     "exception": false,
     "start_time": "2023-07-24T16:25:04.957898",
     "status": "completed"
    },
    "tags": []
   },
   "source": [
    "=========== model testing ========="
   ]
  },
  {
   "cell_type": "markdown",
   "id": "ef51db2b",
   "metadata": {
    "papermill": {
     "duration": 0.017273,
     "end_time": "2023-07-24T16:25:05.008104",
     "exception": false,
     "start_time": "2023-07-24T16:25:04.990831",
     "status": "completed"
    },
    "tags": []
   },
   "source": [
    "=== Logistic regression === "
   ]
  },
  {
   "cell_type": "code",
   "execution_count": 16,
   "id": "b3d5ff26",
   "metadata": {
    "execution": {
     "iopub.execute_input": "2023-07-24T16:25:05.042516Z",
     "iopub.status.busy": "2023-07-24T16:25:05.042149Z",
     "iopub.status.idle": "2023-07-24T16:25:05.056150Z",
     "shell.execute_reply": "2023-07-24T16:25:05.055143Z"
    },
    "papermill": {
     "duration": 0.033769,
     "end_time": "2023-07-24T16:25:05.058294",
     "exception": false,
     "start_time": "2023-07-24T16:25:05.024525",
     "status": "completed"
    },
    "tags": []
   },
   "outputs": [],
   "source": [
    "#### logistic regresion\n",
    "num_var = [var for var in dataset_df.columns if var not in [\"Id\",\"EJ\",\"Class\"]]\n",
    "X_train = train0[num_var]\n",
    "y_train0 = y[X_train.index]\n",
    "\n",
    "# scale X \n",
    "from sklearn import preprocessing\n",
    "scaler = preprocessing.StandardScaler().fit(X_train) # scaler\n",
    "X_train_scaled = scaler.transform(X_train)"
   ]
  },
  {
   "cell_type": "code",
   "execution_count": 17,
   "id": "0bffc30e",
   "metadata": {
    "execution": {
     "iopub.execute_input": "2023-07-24T16:25:05.093358Z",
     "iopub.status.busy": "2023-07-24T16:25:05.092977Z",
     "iopub.status.idle": "2023-07-24T16:25:05.185401Z",
     "shell.execute_reply": "2023-07-24T16:25:05.183876Z"
    },
    "papermill": {
     "duration": 0.114188,
     "end_time": "2023-07-24T16:25:05.189622",
     "exception": false,
     "start_time": "2023-07-24T16:25:05.075434",
     "status": "completed"
    },
    "tags": []
   },
   "outputs": [],
   "source": [
    "# logistic regression \n",
    "from sklearn.linear_model import LogisticRegression\n",
    "regClf = LogisticRegression(random_state=42,\n",
    "                             class_weight ='balanced',\n",
    "                             multi_class = 'auto',\n",
    "                             max_iter= 1000)\n",
    "regClfModel = regClf.fit(X_train_scaled, y_train0)\n",
    " "
   ]
  },
  {
   "cell_type": "code",
   "execution_count": 18,
   "id": "d9c88604",
   "metadata": {
    "execution": {
     "iopub.execute_input": "2023-07-24T16:25:05.273136Z",
     "iopub.status.busy": "2023-07-24T16:25:05.271537Z",
     "iopub.status.idle": "2023-07-24T16:25:05.319925Z",
     "shell.execute_reply": "2023-07-24T16:25:05.317425Z"
    },
    "papermill": {
     "duration": 0.092287,
     "end_time": "2023-07-24T16:25:05.325231",
     "exception": false,
     "start_time": "2023-07-24T16:25:05.232944",
     "status": "completed"
    },
    "tags": []
   },
   "outputs": [],
   "source": [
    "# ridge \n",
    "from sklearn.linear_model import RidgeClassifier\n",
    "ridgeClf = RidgeClassifier(alpha = 0.1,\n",
    "                                random_state=42,\n",
    "                               class_weight ='balanced',\n",
    "                           max_iter= 1000\n",
    "                                ).fit(X_train_scaled,\n",
    "                                 y_train0,\n",
    "                                )\n"
   ]
  },
  {
   "cell_type": "code",
   "execution_count": 19,
   "id": "45e6ff44",
   "metadata": {
    "execution": {
     "iopub.execute_input": "2023-07-24T16:25:05.422303Z",
     "iopub.status.busy": "2023-07-24T16:25:05.421904Z",
     "iopub.status.idle": "2023-07-24T16:25:05.427589Z",
     "shell.execute_reply": "2023-07-24T16:25:05.426471Z"
    },
    "papermill": {
     "duration": 0.037246,
     "end_time": "2023-07-24T16:25:05.429912",
     "exception": false,
     "start_time": "2023-07-24T16:25:05.392666",
     "status": "completed"
    },
    "tags": []
   },
   "outputs": [],
   "source": [
    "# ridgeCV\n",
    "from sklearn import linear_model\n",
    "ridgeCV = linear_model.RidgeCV(alphas=np.logspace(-6, 6, 13),cv = 5)"
   ]
  },
  {
   "cell_type": "code",
   "execution_count": 20,
   "id": "2b912ed7",
   "metadata": {
    "execution": {
     "iopub.execute_input": "2023-07-24T16:25:05.464876Z",
     "iopub.status.busy": "2023-07-24T16:25:05.464064Z",
     "iopub.status.idle": "2023-07-24T16:25:05.469073Z",
     "shell.execute_reply": "2023-07-24T16:25:05.468295Z"
    },
    "papermill": {
     "duration": 0.025058,
     "end_time": "2023-07-24T16:25:05.471292",
     "exception": false,
     "start_time": "2023-07-24T16:25:05.446234",
     "status": "completed"
    },
    "tags": []
   },
   "outputs": [],
   "source": [
    "from sklearn.ensemble import RandomForestClassifier\n",
    "Rf = RandomForestClassifier(n_estimators=10)"
   ]
  },
  {
   "cell_type": "code",
   "execution_count": 21,
   "id": "e4df669a",
   "metadata": {
    "execution": {
     "iopub.execute_input": "2023-07-24T16:25:05.505387Z",
     "iopub.status.busy": "2023-07-24T16:25:05.505003Z",
     "iopub.status.idle": "2023-07-24T16:25:05.510186Z",
     "shell.execute_reply": "2023-07-24T16:25:05.509031Z"
    },
    "papermill": {
     "duration": 0.025027,
     "end_time": "2023-07-24T16:25:05.512423",
     "exception": false,
     "start_time": "2023-07-24T16:25:05.487396",
     "status": "completed"
    },
    "tags": []
   },
   "outputs": [],
   "source": [
    "DTclf = DecisionTreeClassifier(max_depth=None, min_samples_split=2,\n",
    "     random_state=0)\n",
    "#scores = cross_val_score(clf, X, y, cv=5)\n",
    "#scores.mean()\n"
   ]
  },
  {
   "cell_type": "code",
   "execution_count": 22,
   "id": "bdcb766b",
   "metadata": {
    "execution": {
     "iopub.execute_input": "2023-07-24T16:25:05.547822Z",
     "iopub.status.busy": "2023-07-24T16:25:05.547400Z",
     "iopub.status.idle": "2023-07-24T16:25:05.553223Z",
     "shell.execute_reply": "2023-07-24T16:25:05.552083Z"
    },
    "papermill": {
     "duration": 0.026555,
     "end_time": "2023-07-24T16:25:05.555664",
     "exception": false,
     "start_time": "2023-07-24T16:25:05.529109",
     "status": "completed"
    },
    "tags": []
   },
   "outputs": [],
   "source": [
    "# extra tree classifier \n",
    "XTclf = ExtraTreesClassifier(n_estimators=10, max_depth=None,\n",
    "     min_samples_split=2, random_state=0)\n",
    " #scores = cross_val_score(clf, X, y, cv=5)\n"
   ]
  },
  {
   "cell_type": "code",
   "execution_count": 23,
   "id": "f9b2b826",
   "metadata": {
    "execution": {
     "iopub.execute_input": "2023-07-24T16:25:05.590758Z",
     "iopub.status.busy": "2023-07-24T16:25:05.590000Z",
     "iopub.status.idle": "2023-07-24T16:25:05.595475Z",
     "shell.execute_reply": "2023-07-24T16:25:05.594722Z"
    },
    "papermill": {
     "duration": 0.025732,
     "end_time": "2023-07-24T16:25:05.597710",
     "exception": false,
     "start_time": "2023-07-24T16:25:05.571978",
     "status": "completed"
    },
    "tags": []
   },
   "outputs": [],
   "source": [
    "from sklearn.ensemble import BaggingClassifier\n",
    "from sklearn.neighbors import KNeighborsClassifier\n",
    "bagging = BaggingClassifier(KNeighborsClassifier(),\n",
    "                             max_samples=0.5, max_features=0.5)"
   ]
  },
  {
   "cell_type": "code",
   "execution_count": 24,
   "id": "62d0fdf0",
   "metadata": {
    "execution": {
     "iopub.execute_input": "2023-07-24T16:25:05.632256Z",
     "iopub.status.busy": "2023-07-24T16:25:05.631606Z",
     "iopub.status.idle": "2023-07-24T16:25:05.636496Z",
     "shell.execute_reply": "2023-07-24T16:25:05.635781Z"
    },
    "papermill": {
     "duration": 0.024578,
     "end_time": "2023-07-24T16:25:05.638585",
     "exception": false,
     "start_time": "2023-07-24T16:25:05.614007",
     "status": "completed"
    },
    "tags": []
   },
   "outputs": [],
   "source": [
    "from sklearn.ensemble import AdaBoostClassifier\n",
    "\n",
    "adaClf = AdaBoostClassifier(n_estimators=100)"
   ]
  },
  {
   "cell_type": "code",
   "execution_count": 25,
   "id": "a254adae",
   "metadata": {
    "execution": {
     "iopub.execute_input": "2023-07-24T16:25:05.673249Z",
     "iopub.status.busy": "2023-07-24T16:25:05.672568Z",
     "iopub.status.idle": "2023-07-24T16:25:05.677711Z",
     "shell.execute_reply": "2023-07-24T16:25:05.676960Z"
    },
    "papermill": {
     "duration": 0.024935,
     "end_time": "2023-07-24T16:25:05.679858",
     "exception": false,
     "start_time": "2023-07-24T16:25:05.654923",
     "status": "completed"
    },
    "tags": []
   },
   "outputs": [],
   "source": [
    "# gradient boosting classifier\n",
    "from sklearn.ensemble import GradientBoostingClassifier\n",
    "\n",
    "gbclf = GradientBoostingClassifier(n_estimators=100, learning_rate=1.0,\n",
    "     max_depth=1, random_state=0)"
   ]
  },
  {
   "cell_type": "code",
   "execution_count": 26,
   "id": "7ea2b390",
   "metadata": {
    "execution": {
     "iopub.execute_input": "2023-07-24T16:25:05.713768Z",
     "iopub.status.busy": "2023-07-24T16:25:05.713368Z",
     "iopub.status.idle": "2023-07-24T16:25:05.718730Z",
     "shell.execute_reply": "2023-07-24T16:25:05.717694Z"
    },
    "papermill": {
     "duration": 0.025187,
     "end_time": "2023-07-24T16:25:05.721149",
     "exception": false,
     "start_time": "2023-07-24T16:25:05.695962",
     "status": "completed"
    },
    "tags": []
   },
   "outputs": [],
   "source": [
    "# Histogram based Gradient Boosting Classifier\n",
    "from sklearn.ensemble import HistGradientBoostingClassifier\n",
    "\n",
    "hbGbclf = HistGradientBoostingClassifier(max_iter=100)\n"
   ]
  },
  {
   "cell_type": "code",
   "execution_count": 27,
   "id": "c8bc55a5",
   "metadata": {
    "execution": {
     "iopub.execute_input": "2023-07-24T16:25:05.755609Z",
     "iopub.status.busy": "2023-07-24T16:25:05.755206Z",
     "iopub.status.idle": "2023-07-24T16:25:05.760872Z",
     "shell.execute_reply": "2023-07-24T16:25:05.759835Z"
    },
    "papermill": {
     "duration": 0.025384,
     "end_time": "2023-07-24T16:25:05.762883",
     "exception": false,
     "start_time": "2023-07-24T16:25:05.737499",
     "status": "completed"
    },
    "tags": []
   },
   "outputs": [],
   "source": [
    "# model dictionary\n",
    "model_dict = {\"regClf\": regClf,\n",
    "              \"ridge\": ridgeClf,\n",
    "              \"ridgeCV\": ridgeCV,\n",
    "    # average meodels \n",
    "              \"Rf\": Rf,\n",
    "              \"DTclf\": DTclf,\n",
    "              \"XTclf\": XTclf,\n",
    "              \"bagCl\": bagging,\n",
    "    # boosting models \n",
    "             \"adaClf\": adaClf,\n",
    "            \"gbCl\": gbclf ,\n",
    "            \"hbGbclf\" : hbGbclf\n",
    "    # voting classifier\n",
    "    # stacked (generalization ) classifier\n",
    "        }"
   ]
  },
  {
   "cell_type": "code",
   "execution_count": 28,
   "id": "4eb7f764",
   "metadata": {
    "execution": {
     "iopub.execute_input": "2023-07-24T16:25:05.797480Z",
     "iopub.status.busy": "2023-07-24T16:25:05.796810Z",
     "iopub.status.idle": "2023-07-24T16:25:05.803493Z",
     "shell.execute_reply": "2023-07-24T16:25:05.802785Z"
    },
    "papermill": {
     "duration": 0.026247,
     "end_time": "2023-07-24T16:25:05.805626",
     "exception": false,
     "start_time": "2023-07-24T16:25:05.779379",
     "status": "completed"
    },
    "tags": []
   },
   "outputs": [],
   "source": [
    "# function to run models \n",
    "def runModel(model_dict,train_data,y_train):\n",
    "    scores = {}\n",
    "    for model in model_dict :\n",
    "        model0 =model_dict[model].fit(train_data,y_train)\n",
    "        perf0 = cross_val_score(model0,train_data,y_train,cv= 5).mean()\n",
    "        scores[model] = perf0\n",
    "        print(model)\n",
    "    perf_df = (pd.DataFrame(data = scores.values(), index = scores.keys(), columns = [\"perf\"])\n",
    "        .sort_values(by=\"perf\",ascending = False)\n",
    "        )\n",
    "    print(\"\\n\")\n",
    "    return perf_df.iloc[:1,0]\n"
   ]
  },
  {
   "cell_type": "code",
   "execution_count": 29,
   "id": "59e7fd65",
   "metadata": {
    "execution": {
     "iopub.execute_input": "2023-07-24T16:25:05.839707Z",
     "iopub.status.busy": "2023-07-24T16:25:05.839317Z",
     "iopub.status.idle": "2023-07-24T16:25:20.868676Z",
     "shell.execute_reply": "2023-07-24T16:25:20.867524Z"
    },
    "papermill": {
     "duration": 15.049204,
     "end_time": "2023-07-24T16:25:20.871123",
     "exception": false,
     "start_time": "2023-07-24T16:25:05.821919",
     "status": "completed"
    },
    "tags": []
   },
   "outputs": [
    {
     "name": "stderr",
     "output_type": "stream",
     "text": [
      "/opt/conda/lib/python3.10/site-packages/sklearn/linear_model/_logistic.py:458: ConvergenceWarning: lbfgs failed to converge (status=1):\n",
      "STOP: TOTAL NO. of ITERATIONS REACHED LIMIT.\n",
      "\n",
      "Increase the number of iterations (max_iter) or scale the data as shown in:\n",
      "    https://scikit-learn.org/stable/modules/preprocessing.html\n",
      "Please also refer to the documentation for alternative solver options:\n",
      "    https://scikit-learn.org/stable/modules/linear_model.html#logistic-regression\n",
      "  n_iter_i = _check_optimize_result(\n",
      "/opt/conda/lib/python3.10/site-packages/sklearn/linear_model/_logistic.py:458: ConvergenceWarning: lbfgs failed to converge (status=1):\n",
      "STOP: TOTAL NO. of ITERATIONS REACHED LIMIT.\n",
      "\n",
      "Increase the number of iterations (max_iter) or scale the data as shown in:\n",
      "    https://scikit-learn.org/stable/modules/preprocessing.html\n",
      "Please also refer to the documentation for alternative solver options:\n",
      "    https://scikit-learn.org/stable/modules/linear_model.html#logistic-regression\n",
      "  n_iter_i = _check_optimize_result(\n",
      "/opt/conda/lib/python3.10/site-packages/sklearn/linear_model/_logistic.py:458: ConvergenceWarning: lbfgs failed to converge (status=1):\n",
      "STOP: TOTAL NO. of ITERATIONS REACHED LIMIT.\n",
      "\n",
      "Increase the number of iterations (max_iter) or scale the data as shown in:\n",
      "    https://scikit-learn.org/stable/modules/preprocessing.html\n",
      "Please also refer to the documentation for alternative solver options:\n",
      "    https://scikit-learn.org/stable/modules/linear_model.html#logistic-regression\n",
      "  n_iter_i = _check_optimize_result(\n",
      "/opt/conda/lib/python3.10/site-packages/sklearn/linear_model/_logistic.py:458: ConvergenceWarning: lbfgs failed to converge (status=1):\n",
      "STOP: TOTAL NO. of ITERATIONS REACHED LIMIT.\n",
      "\n",
      "Increase the number of iterations (max_iter) or scale the data as shown in:\n",
      "    https://scikit-learn.org/stable/modules/preprocessing.html\n",
      "Please also refer to the documentation for alternative solver options:\n",
      "    https://scikit-learn.org/stable/modules/linear_model.html#logistic-regression\n",
      "  n_iter_i = _check_optimize_result(\n",
      "/opt/conda/lib/python3.10/site-packages/sklearn/linear_model/_logistic.py:458: ConvergenceWarning: lbfgs failed to converge (status=1):\n",
      "STOP: TOTAL NO. of ITERATIONS REACHED LIMIT.\n",
      "\n",
      "Increase the number of iterations (max_iter) or scale the data as shown in:\n",
      "    https://scikit-learn.org/stable/modules/preprocessing.html\n",
      "Please also refer to the documentation for alternative solver options:\n",
      "    https://scikit-learn.org/stable/modules/linear_model.html#logistic-regression\n",
      "  n_iter_i = _check_optimize_result(\n",
      "/opt/conda/lib/python3.10/site-packages/sklearn/linear_model/_logistic.py:458: ConvergenceWarning: lbfgs failed to converge (status=1):\n",
      "STOP: TOTAL NO. of ITERATIONS REACHED LIMIT.\n",
      "\n",
      "Increase the number of iterations (max_iter) or scale the data as shown in:\n",
      "    https://scikit-learn.org/stable/modules/preprocessing.html\n",
      "Please also refer to the documentation for alternative solver options:\n",
      "    https://scikit-learn.org/stable/modules/linear_model.html#logistic-regression\n",
      "  n_iter_i = _check_optimize_result(\n"
     ]
    },
    {
     "name": "stdout",
     "output_type": "stream",
     "text": [
      "regClf\n",
      "ridge\n",
      "ridgeCV\n",
      "Rf\n",
      "DTclf\n",
      "XTclf\n",
      "bagCl\n",
      "adaClf\n",
      "gbCl\n",
      "hbGbclf\n",
      "\n",
      "\n"
     ]
    },
    {
     "data": {
      "text/plain": [
       "hbGbclf    0.931107\n",
       "Name: perf, dtype: float64"
      ]
     },
     "execution_count": 29,
     "metadata": {},
     "output_type": "execute_result"
    }
   ],
   "source": [
    "perf = runModel(model_dict=model_dict,train_data = X_train,y_train = y_train0)\n",
    "perf"
   ]
  },
  {
   "cell_type": "code",
   "execution_count": 30,
   "id": "d1be70b5",
   "metadata": {
    "execution": {
     "iopub.execute_input": "2023-07-24T16:25:20.909037Z",
     "iopub.status.busy": "2023-07-24T16:25:20.908631Z",
     "iopub.status.idle": "2023-07-24T16:25:21.342238Z",
     "shell.execute_reply": "2023-07-24T16:25:21.341274Z"
    },
    "papermill": {
     "duration": 0.454998,
     "end_time": "2023-07-24T16:25:21.344604",
     "exception": false,
     "start_time": "2023-07-24T16:25:20.889606",
     "status": "completed"
    },
    "tags": []
   },
   "outputs": [
    {
     "name": "stdout",
     "output_type": "stream",
     "text": [
      "valid score: 99.0 %\n",
      "\n"
     ]
    }
   ],
   "source": [
    "#valid score\n",
    "# fit model \n",
    "hbGbclf.fit(X_train,y_train0)\n",
    "\n",
    "# predict\n",
    "pred_val = hbGbclf.predict_proba(valid[num_var])\n",
    "pred_val2 = hbGbclf.predict(valid[num_var])\n",
    "print(f'valid score: {hbGbclf.score(valid[num_var],valid[\"Class\"]).round(2)*100} %\\n')"
   ]
  },
  {
   "cell_type": "code",
   "execution_count": 31,
   "id": "98fb52f3",
   "metadata": {
    "execution": {
     "iopub.execute_input": "2023-07-24T16:25:21.383086Z",
     "iopub.status.busy": "2023-07-24T16:25:21.382691Z",
     "iopub.status.idle": "2023-07-24T16:25:21.397466Z",
     "shell.execute_reply": "2023-07-24T16:25:21.396299Z"
    },
    "papermill": {
     "duration": 0.036422,
     "end_time": "2023-07-24T16:25:21.399973",
     "exception": false,
     "start_time": "2023-07-24T16:25:21.363551",
     "status": "completed"
    },
    "tags": []
   },
   "outputs": [
    {
     "name": "stdout",
     "output_type": "stream",
     "text": [
      "              precision    recall  f1-score   support\n",
      "\n",
      "     class_0       0.99      1.00      0.99        82\n",
      "     class_1       1.00      0.94      0.97        17\n",
      "\n",
      "    accuracy                           0.99        99\n",
      "   macro avg       0.99      0.97      0.98        99\n",
      "weighted avg       0.99      0.99      0.99        99\n",
      "\n"
     ]
    }
   ],
   "source": [
    "from sklearn.metrics import classification_report\n",
    "\n",
    "y_true = valid['Class']\n",
    "y_pred = pred_val2\n",
    "target_names = ['class_0', 'class_1']\n",
    "print(classification_report(y_true, y_pred, target_names=target_names))"
   ]
  },
  {
   "cell_type": "markdown",
   "id": "da183b0a",
   "metadata": {
    "papermill": {
     "duration": 0.017525,
     "end_time": "2023-07-24T16:25:21.435724",
     "exception": false,
     "start_time": "2023-07-24T16:25:21.418199",
     "status": "completed"
    },
    "tags": []
   },
   "source": [
    "Let us now plot the first 6 numerical columns and their values using bar charts."
   ]
  },
  {
   "cell_type": "code",
   "execution_count": 32,
   "id": "7628a5ac",
   "metadata": {
    "execution": {
     "iopub.execute_input": "2023-07-24T16:25:21.473907Z",
     "iopub.status.busy": "2023-07-24T16:25:21.473055Z",
     "iopub.status.idle": "2023-07-24T16:25:21.481880Z",
     "shell.execute_reply": "2023-07-24T16:25:21.480840Z"
    },
    "papermill": {
     "duration": 0.030628,
     "end_time": "2023-07-24T16:25:21.484130",
     "exception": false,
     "start_time": "2023-07-24T16:25:21.453502",
     "status": "completed"
    },
    "tags": []
   },
   "outputs": [
    {
     "data": {
      "text/plain": [
       "array([[82,  0],\n",
       "       [ 1, 16]])"
      ]
     },
     "execution_count": 32,
     "metadata": {},
     "output_type": "execute_result"
    }
   ],
   "source": [
    "from sklearn.metrics import confusion_matrix\n",
    "confusion_matrix(y_true, y_pred)"
   ]
  },
  {
   "cell_type": "markdown",
   "id": "5f455f32",
   "metadata": {
    "papermill": {
     "duration": 0.017679,
     "end_time": "2023-07-24T16:25:21.519758",
     "exception": false,
     "start_time": "2023-07-24T16:25:21.502079",
     "status": "completed"
    },
    "tags": []
   },
   "source": [
    "# Submission"
   ]
  },
  {
   "cell_type": "code",
   "execution_count": 33,
   "id": "dbb1acc0",
   "metadata": {
    "execution": {
     "iopub.execute_input": "2023-07-24T16:25:21.558819Z",
     "iopub.status.busy": "2023-07-24T16:25:21.557720Z",
     "iopub.status.idle": "2023-07-24T16:25:21.581889Z",
     "shell.execute_reply": "2023-07-24T16:25:21.580788Z"
    },
    "papermill": {
     "duration": 0.04711,
     "end_time": "2023-07-24T16:25:21.584949",
     "exception": false,
     "start_time": "2023-07-24T16:25:21.537839",
     "status": "completed"
    },
    "tags": []
   },
   "outputs": [],
   "source": [
    "# read test dataframe and predict \n",
    "test_df = pd.read_csv('/kaggle/input/icr-identify-age-related-conditions/test.csv')\n",
    "predictions = hbGbclf.predict_proba(test_df.select_dtypes(exclude=object))\n",
    "\n",
    "predictions = pd.DataFrame(predictions)\n",
    "\n",
    "# add test Id\n",
    "predictions['Id'] = test_df['Id']\n",
    "predictions['class_0'] = predictions.iloc[:,0]\n",
    "predictions['class_1'] = predictions.iloc[:,1]\n",
    "predictions = predictions[['Id','class_0','class_1']]"
   ]
  },
  {
   "cell_type": "code",
   "execution_count": 34,
   "id": "0b184019",
   "metadata": {
    "execution": {
     "iopub.execute_input": "2023-07-24T16:25:21.624869Z",
     "iopub.status.busy": "2023-07-24T16:25:21.623577Z",
     "iopub.status.idle": "2023-07-24T16:25:21.643737Z",
     "shell.execute_reply": "2023-07-24T16:25:21.642594Z"
    },
    "papermill": {
     "duration": 0.041955,
     "end_time": "2023-07-24T16:25:21.646218",
     "exception": false,
     "start_time": "2023-07-24T16:25:21.604263",
     "status": "completed"
    },
    "tags": []
   },
   "outputs": [
    {
     "data": {
      "text/html": [
       "<div>\n",
       "<style scoped>\n",
       "    .dataframe tbody tr th:only-of-type {\n",
       "        vertical-align: middle;\n",
       "    }\n",
       "\n",
       "    .dataframe tbody tr th {\n",
       "        vertical-align: top;\n",
       "    }\n",
       "\n",
       "    .dataframe thead th {\n",
       "        text-align: right;\n",
       "    }\n",
       "</style>\n",
       "<table border=\"1\" class=\"dataframe\">\n",
       "  <thead>\n",
       "    <tr style=\"text-align: right;\">\n",
       "      <th></th>\n",
       "      <th>Id</th>\n",
       "      <th>class_0</th>\n",
       "      <th>class_1</th>\n",
       "    </tr>\n",
       "  </thead>\n",
       "  <tbody>\n",
       "    <tr>\n",
       "      <th>0</th>\n",
       "      <td>00eed32682bb</td>\n",
       "      <td>0.030582</td>\n",
       "      <td>0.969418</td>\n",
       "    </tr>\n",
       "    <tr>\n",
       "      <th>1</th>\n",
       "      <td>010ebe33f668</td>\n",
       "      <td>0.030582</td>\n",
       "      <td>0.969418</td>\n",
       "    </tr>\n",
       "    <tr>\n",
       "      <th>2</th>\n",
       "      <td>02fa521e1838</td>\n",
       "      <td>0.030582</td>\n",
       "      <td>0.969418</td>\n",
       "    </tr>\n",
       "    <tr>\n",
       "      <th>3</th>\n",
       "      <td>040e15f562a2</td>\n",
       "      <td>0.030582</td>\n",
       "      <td>0.969418</td>\n",
       "    </tr>\n",
       "    <tr>\n",
       "      <th>4</th>\n",
       "      <td>046e85c7cc7f</td>\n",
       "      <td>0.030582</td>\n",
       "      <td>0.969418</td>\n",
       "    </tr>\n",
       "  </tbody>\n",
       "</table>\n",
       "</div>"
      ],
      "text/plain": [
       "             Id   class_0   class_1\n",
       "0  00eed32682bb  0.030582  0.969418\n",
       "1  010ebe33f668  0.030582  0.969418\n",
       "2  02fa521e1838  0.030582  0.969418\n",
       "3  040e15f562a2  0.030582  0.969418\n",
       "4  046e85c7cc7f  0.030582  0.969418"
      ]
     },
     "execution_count": 34,
     "metadata": {},
     "output_type": "execute_result"
    }
   ],
   "source": [
    "# write csv \n",
    "predictions.to_csv(\"submission.csv\", index = None)\n",
    "pd.read_csv(\"/kaggle/working/submission.csv\")"
   ]
  },
  {
   "cell_type": "code",
   "execution_count": 35,
   "id": "d8c261ef",
   "metadata": {
    "execution": {
     "iopub.execute_input": "2023-07-24T16:25:21.684724Z",
     "iopub.status.busy": "2023-07-24T16:25:21.684337Z",
     "iopub.status.idle": "2023-07-24T16:25:21.688523Z",
     "shell.execute_reply": "2023-07-24T16:25:21.687446Z"
    },
    "papermill": {
     "duration": 0.026333,
     "end_time": "2023-07-24T16:25:21.690935",
     "exception": false,
     "start_time": "2023-07-24T16:25:21.664602",
     "status": "completed"
    },
    "tags": []
   },
   "outputs": [],
   "source": [
    "#sample_submission = pd.read_csv(\"/kaggle/input/icr-identify-age-related-conditions/sample_submission.csv\")\n",
    "#sample_submission[['class_0', 'class_1']] = predictions[['class_0', 'class_1']]\n",
    "#sample_submission.to_csv('/kaggle/working/submission.csv', index=False)\n",
    "#pd.read_csv(\"/kaggle/working/submission.csv\")"
   ]
  }
 ],
 "metadata": {
  "kernelspec": {
   "display_name": "Python 3",
   "language": "python",
   "name": "python3"
  },
  "language_info": {
   "codemirror_mode": {
    "name": "ipython",
    "version": 3
   },
   "file_extension": ".py",
   "mimetype": "text/x-python",
   "name": "python",
   "nbconvert_exporter": "python",
   "pygments_lexer": "ipython3",
   "version": "3.10.10"
  },
  "papermill": {
   "default_parameters": {},
   "duration": 34.822414,
   "end_time": "2023-07-24T16:25:22.730887",
   "environment_variables": {},
   "exception": null,
   "input_path": "__notebook__.ipynb",
   "output_path": "__notebook__.ipynb",
   "parameters": {},
   "start_time": "2023-07-24T16:24:47.908473",
   "version": "2.4.0"
  }
 },
 "nbformat": 4,
 "nbformat_minor": 5
}
