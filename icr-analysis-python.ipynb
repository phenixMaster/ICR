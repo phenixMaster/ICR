{
 "cells": [
  {
   "cell_type": "markdown",
   "id": "c53376ac",
   "metadata": {
    "papermill": {
     "duration": 0.010731,
     "end_time": "2023-07-19T08:23:48.210543",
     "exception": false,
     "start_time": "2023-07-19T08:23:48.199812",
     "status": "completed"
    },
    "tags": []
   },
   "source": [
    "# ICR - Identifying Age-Related Conditions Dataset with TensorFlow Decision Forests"
   ]
  },
  {
   "cell_type": "markdown",
   "id": "582d009b",
   "metadata": {
    "papermill": {
     "duration": 0.009997,
     "end_time": "2023-07-19T08:23:48.230934",
     "exception": false,
     "start_time": "2023-07-19T08:23:48.220937",
     "status": "completed"
    },
    "tags": []
   },
   "source": [
    "This notebook walks you through how to train a baseline Random Forest model using TensorFlow Decision Forests on the ICR - Identifying Age-Related Conditions dataset made available for this competition. The goal of the model is to predict if a person has one or more of any of three medical conditions or none.\n",
    "\n",
    "Roughly, the code will look as follows:\n",
    "\n",
    "```\n",
    "import tensorflow_decision_forests as tfdf\n",
    "import pandas as pd\n",
    "\n",
    "dataset = pd.read_csv(\"project/dataset.csv\")\n",
    "tf_dataset = tfdf.keras.pd_dataframe_to_tf_dataset(dataset, label=\"my_label\")\n",
    "\n",
    "model = tfdf.keras.RandomForestModel()\n",
    "model.fit(tf_dataset)\n",
    "\n",
    "print(model.summary())\n",
    "```\n",
    "\n",
    "Decision Forests are a family of tree-based models including Random Forests and Gradient Boosted Trees. They are the best place to start when working with tabular data, and will often outperform (or provide a strong baseline) before you begin experimenting with neural networks."
   ]
  },
  {
   "cell_type": "markdown",
   "id": "dea14f2b",
   "metadata": {
    "papermill": {
     "duration": 0.009891,
     "end_time": "2023-07-19T08:23:48.251120",
     "exception": false,
     "start_time": "2023-07-19T08:23:48.241229",
     "status": "completed"
    },
    "tags": []
   },
   "source": [
    "# Import the libraries"
   ]
  },
  {
   "cell_type": "code",
   "execution_count": 1,
   "id": "cf77de59",
   "metadata": {
    "execution": {
     "iopub.execute_input": "2023-07-19T08:23:48.273729Z",
     "iopub.status.busy": "2023-07-19T08:23:48.273044Z",
     "iopub.status.idle": "2023-07-19T08:23:58.465814Z",
     "shell.execute_reply": "2023-07-19T08:23:58.464736Z"
    },
    "papermill": {
     "duration": 10.207095,
     "end_time": "2023-07-19T08:23:58.468466",
     "exception": false,
     "start_time": "2023-07-19T08:23:48.261371",
     "status": "completed"
    },
    "tags": []
   },
   "outputs": [
    {
     "name": "stderr",
     "output_type": "stream",
     "text": [
      "/opt/conda/lib/python3.10/site-packages/tensorflow_io/python/ops/__init__.py:98: UserWarning: unable to load libtensorflow_io_plugins.so: unable to open file: libtensorflow_io_plugins.so, from paths: ['/opt/conda/lib/python3.10/site-packages/tensorflow_io/python/ops/libtensorflow_io_plugins.so']\n",
      "caused by: ['/opt/conda/lib/python3.10/site-packages/tensorflow_io/python/ops/libtensorflow_io_plugins.so: undefined symbol: _ZN3tsl6StatusC1EN10tensorflow5error4CodeESt17basic_string_viewIcSt11char_traitsIcEENS_14SourceLocationE']\n",
      "  warnings.warn(f\"unable to load libtensorflow_io_plugins.so: {e}\")\n",
      "/opt/conda/lib/python3.10/site-packages/tensorflow_io/python/ops/__init__.py:104: UserWarning: file system plugins are not loaded: unable to open file: libtensorflow_io.so, from paths: ['/opt/conda/lib/python3.10/site-packages/tensorflow_io/python/ops/libtensorflow_io.so']\n",
      "caused by: ['/opt/conda/lib/python3.10/site-packages/tensorflow_io/python/ops/libtensorflow_io.so: undefined symbol: _ZTVN10tensorflow13GcsFileSystemE']\n",
      "  warnings.warn(f\"file system plugins are not loaded: {e}\")\n"
     ]
    }
   ],
   "source": [
    "import tensorflow as tf\n",
    "import tensorflow_decision_forests as tfdf\n",
    "import pandas as pd\n",
    "import numpy as np\n",
    "import seaborn as sns\n",
    "import matplotlib.pyplot as plt\n",
    "\n",
    "from sklearn.model_selection import KFold"
   ]
  },
  {
   "cell_type": "code",
   "execution_count": 2,
   "id": "a7969e96",
   "metadata": {
    "execution": {
     "iopub.execute_input": "2023-07-19T08:23:58.492471Z",
     "iopub.status.busy": "2023-07-19T08:23:58.491297Z",
     "iopub.status.idle": "2023-07-19T08:23:58.497329Z",
     "shell.execute_reply": "2023-07-19T08:23:58.496301Z"
    },
    "papermill": {
     "duration": 0.020321,
     "end_time": "2023-07-19T08:23:58.499749",
     "exception": false,
     "start_time": "2023-07-19T08:23:58.479428",
     "status": "completed"
    },
    "tags": []
   },
   "outputs": [
    {
     "name": "stdout",
     "output_type": "stream",
     "text": [
      "TensorFlow v2.12.0\n",
      "TensorFlow Decision Forests v1.3.0\n"
     ]
    }
   ],
   "source": [
    "print(\"TensorFlow v\" + tf.__version__)\n",
    "print(\"TensorFlow Decision Forests v\" + tfdf.__version__)"
   ]
  },
  {
   "cell_type": "markdown",
   "id": "febe90e8",
   "metadata": {
    "papermill": {
     "duration": 0.01054,
     "end_time": "2023-07-19T08:23:58.521065",
     "exception": false,
     "start_time": "2023-07-19T08:23:58.510525",
     "status": "completed"
    },
    "tags": []
   },
   "source": [
    "# Load the Dataset"
   ]
  },
  {
   "cell_type": "code",
   "execution_count": 3,
   "id": "dd7d830f",
   "metadata": {
    "execution": {
     "iopub.execute_input": "2023-07-19T08:23:58.544450Z",
     "iopub.status.busy": "2023-07-19T08:23:58.543801Z",
     "iopub.status.idle": "2023-07-19T08:23:58.575774Z",
     "shell.execute_reply": "2023-07-19T08:23:58.574177Z"
    },
    "papermill": {
     "duration": 0.046255,
     "end_time": "2023-07-19T08:23:58.577989",
     "exception": false,
     "start_time": "2023-07-19T08:23:58.531734",
     "status": "completed"
    },
    "tags": []
   },
   "outputs": [
    {
     "name": "stdout",
     "output_type": "stream",
     "text": [
      "Full train dataset shape is (617, 58)\n"
     ]
    }
   ],
   "source": [
    "dataset_df = pd.read_csv('/kaggle/input/icr-identify-age-related-conditions/train.csv')\n",
    "print(f\"Full train dataset shape is {dataset_df.shape}\")"
   ]
  },
  {
   "cell_type": "markdown",
   "id": "a192f87c",
   "metadata": {
    "papermill": {
     "duration": 0.010982,
     "end_time": "2023-07-19T08:23:58.600241",
     "exception": false,
     "start_time": "2023-07-19T08:23:58.589259",
     "status": "completed"
    },
    "tags": []
   },
   "source": [
    "The data is composed of 58 columns and 617 entries. We can see all 58 dimensions(results will be truncated since the number of columns is big) of our dataset by printing out the first 5 entries using the following code:"
   ]
  },
  {
   "cell_type": "code",
   "execution_count": 4,
   "id": "67c752a1",
   "metadata": {
    "execution": {
     "iopub.execute_input": "2023-07-19T08:23:58.623521Z",
     "iopub.status.busy": "2023-07-19T08:23:58.622730Z",
     "iopub.status.idle": "2023-07-19T08:23:58.666590Z",
     "shell.execute_reply": "2023-07-19T08:23:58.665429Z"
    },
    "papermill": {
     "duration": 0.057882,
     "end_time": "2023-07-19T08:23:58.668735",
     "exception": false,
     "start_time": "2023-07-19T08:23:58.610853",
     "status": "completed"
    },
    "tags": []
   },
   "outputs": [
    {
     "data": {
      "text/html": [
       "<div>\n",
       "<style scoped>\n",
       "    .dataframe tbody tr th:only-of-type {\n",
       "        vertical-align: middle;\n",
       "    }\n",
       "\n",
       "    .dataframe tbody tr th {\n",
       "        vertical-align: top;\n",
       "    }\n",
       "\n",
       "    .dataframe thead th {\n",
       "        text-align: right;\n",
       "    }\n",
       "</style>\n",
       "<table border=\"1\" class=\"dataframe\">\n",
       "  <thead>\n",
       "    <tr style=\"text-align: right;\">\n",
       "      <th></th>\n",
       "      <th>Id</th>\n",
       "      <th>AB</th>\n",
       "      <th>AF</th>\n",
       "      <th>AH</th>\n",
       "      <th>AM</th>\n",
       "      <th>AR</th>\n",
       "      <th>AX</th>\n",
       "      <th>AY</th>\n",
       "      <th>AZ</th>\n",
       "      <th>BC</th>\n",
       "      <th>...</th>\n",
       "      <th>FL</th>\n",
       "      <th>FR</th>\n",
       "      <th>FS</th>\n",
       "      <th>GB</th>\n",
       "      <th>GE</th>\n",
       "      <th>GF</th>\n",
       "      <th>GH</th>\n",
       "      <th>GI</th>\n",
       "      <th>GL</th>\n",
       "      <th>Class</th>\n",
       "    </tr>\n",
       "  </thead>\n",
       "  <tbody>\n",
       "    <tr>\n",
       "      <th>0</th>\n",
       "      <td>000ff2bfdfe9</td>\n",
       "      <td>0.209377</td>\n",
       "      <td>3109.03329</td>\n",
       "      <td>85.200147</td>\n",
       "      <td>22.394407</td>\n",
       "      <td>8.138688</td>\n",
       "      <td>0.699861</td>\n",
       "      <td>0.025578</td>\n",
       "      <td>9.812214</td>\n",
       "      <td>5.555634</td>\n",
       "      <td>...</td>\n",
       "      <td>7.298162</td>\n",
       "      <td>1.73855</td>\n",
       "      <td>0.094822</td>\n",
       "      <td>11.339138</td>\n",
       "      <td>72.611063</td>\n",
       "      <td>2003.810319</td>\n",
       "      <td>22.136229</td>\n",
       "      <td>69.834944</td>\n",
       "      <td>0.120343</td>\n",
       "      <td>1</td>\n",
       "    </tr>\n",
       "    <tr>\n",
       "      <th>1</th>\n",
       "      <td>007255e47698</td>\n",
       "      <td>0.145282</td>\n",
       "      <td>978.76416</td>\n",
       "      <td>85.200147</td>\n",
       "      <td>36.968889</td>\n",
       "      <td>8.138688</td>\n",
       "      <td>3.632190</td>\n",
       "      <td>0.025578</td>\n",
       "      <td>13.517790</td>\n",
       "      <td>1.229900</td>\n",
       "      <td>...</td>\n",
       "      <td>0.173229</td>\n",
       "      <td>0.49706</td>\n",
       "      <td>0.568932</td>\n",
       "      <td>9.292698</td>\n",
       "      <td>72.611063</td>\n",
       "      <td>27981.562750</td>\n",
       "      <td>29.135430</td>\n",
       "      <td>32.131996</td>\n",
       "      <td>21.978000</td>\n",
       "      <td>0</td>\n",
       "    </tr>\n",
       "    <tr>\n",
       "      <th>2</th>\n",
       "      <td>013f2bd269f5</td>\n",
       "      <td>0.470030</td>\n",
       "      <td>2635.10654</td>\n",
       "      <td>85.200147</td>\n",
       "      <td>32.360553</td>\n",
       "      <td>8.138688</td>\n",
       "      <td>6.732840</td>\n",
       "      <td>0.025578</td>\n",
       "      <td>12.824570</td>\n",
       "      <td>1.229900</td>\n",
       "      <td>...</td>\n",
       "      <td>7.709560</td>\n",
       "      <td>0.97556</td>\n",
       "      <td>1.198821</td>\n",
       "      <td>37.077772</td>\n",
       "      <td>88.609437</td>\n",
       "      <td>13676.957810</td>\n",
       "      <td>28.022851</td>\n",
       "      <td>35.192676</td>\n",
       "      <td>0.196941</td>\n",
       "      <td>0</td>\n",
       "    </tr>\n",
       "    <tr>\n",
       "      <th>3</th>\n",
       "      <td>043ac50845d5</td>\n",
       "      <td>0.252107</td>\n",
       "      <td>3819.65177</td>\n",
       "      <td>120.201618</td>\n",
       "      <td>77.112203</td>\n",
       "      <td>8.138688</td>\n",
       "      <td>3.685344</td>\n",
       "      <td>0.025578</td>\n",
       "      <td>11.053708</td>\n",
       "      <td>1.229900</td>\n",
       "      <td>...</td>\n",
       "      <td>6.122162</td>\n",
       "      <td>0.49706</td>\n",
       "      <td>0.284466</td>\n",
       "      <td>18.529584</td>\n",
       "      <td>82.416803</td>\n",
       "      <td>2094.262452</td>\n",
       "      <td>39.948656</td>\n",
       "      <td>90.493248</td>\n",
       "      <td>0.155829</td>\n",
       "      <td>0</td>\n",
       "    </tr>\n",
       "    <tr>\n",
       "      <th>4</th>\n",
       "      <td>044fb8a146ec</td>\n",
       "      <td>0.380297</td>\n",
       "      <td>3733.04844</td>\n",
       "      <td>85.200147</td>\n",
       "      <td>14.103738</td>\n",
       "      <td>8.138688</td>\n",
       "      <td>3.942255</td>\n",
       "      <td>0.054810</td>\n",
       "      <td>3.396778</td>\n",
       "      <td>102.151980</td>\n",
       "      <td>...</td>\n",
       "      <td>8.153058</td>\n",
       "      <td>48.50134</td>\n",
       "      <td>0.121914</td>\n",
       "      <td>16.408728</td>\n",
       "      <td>146.109943</td>\n",
       "      <td>8524.370502</td>\n",
       "      <td>45.381316</td>\n",
       "      <td>36.262628</td>\n",
       "      <td>0.096614</td>\n",
       "      <td>1</td>\n",
       "    </tr>\n",
       "  </tbody>\n",
       "</table>\n",
       "<p>5 rows × 58 columns</p>\n",
       "</div>"
      ],
      "text/plain": [
       "             Id        AB          AF          AH         AM        AR  \\\n",
       "0  000ff2bfdfe9  0.209377  3109.03329   85.200147  22.394407  8.138688   \n",
       "1  007255e47698  0.145282   978.76416   85.200147  36.968889  8.138688   \n",
       "2  013f2bd269f5  0.470030  2635.10654   85.200147  32.360553  8.138688   \n",
       "3  043ac50845d5  0.252107  3819.65177  120.201618  77.112203  8.138688   \n",
       "4  044fb8a146ec  0.380297  3733.04844   85.200147  14.103738  8.138688   \n",
       "\n",
       "         AX        AY         AZ          BC  ...        FL        FR  \\\n",
       "0  0.699861  0.025578   9.812214    5.555634  ...  7.298162   1.73855   \n",
       "1  3.632190  0.025578  13.517790    1.229900  ...  0.173229   0.49706   \n",
       "2  6.732840  0.025578  12.824570    1.229900  ...  7.709560   0.97556   \n",
       "3  3.685344  0.025578  11.053708    1.229900  ...  6.122162   0.49706   \n",
       "4  3.942255  0.054810   3.396778  102.151980  ...  8.153058  48.50134   \n",
       "\n",
       "         FS         GB          GE            GF         GH         GI  \\\n",
       "0  0.094822  11.339138   72.611063   2003.810319  22.136229  69.834944   \n",
       "1  0.568932   9.292698   72.611063  27981.562750  29.135430  32.131996   \n",
       "2  1.198821  37.077772   88.609437  13676.957810  28.022851  35.192676   \n",
       "3  0.284466  18.529584   82.416803   2094.262452  39.948656  90.493248   \n",
       "4  0.121914  16.408728  146.109943   8524.370502  45.381316  36.262628   \n",
       "\n",
       "          GL  Class  \n",
       "0   0.120343      1  \n",
       "1  21.978000      0  \n",
       "2   0.196941      0  \n",
       "3   0.155829      0  \n",
       "4   0.096614      1  \n",
       "\n",
       "[5 rows x 58 columns]"
      ]
     },
     "execution_count": 4,
     "metadata": {},
     "output_type": "execute_result"
    }
   ],
   "source": [
    "dataset_df.head()"
   ]
  },
  {
   "cell_type": "markdown",
   "id": "b5cf206a",
   "metadata": {
    "papermill": {
     "duration": 0.011176,
     "end_time": "2023-07-19T08:23:58.690989",
     "exception": false,
     "start_time": "2023-07-19T08:23:58.679813",
     "status": "completed"
    },
    "tags": []
   },
   "source": [
    "`Class` is the label column indicating if a person has one or more of any of the three medical conditions (i.e,`Class 1`), or none of the three medical conditions (i.e,`Class 0`).\n",
    "Given the features of the dataset, the goal of our model is to predict the value of `Class` for any person."
   ]
  },
  {
   "cell_type": "markdown",
   "id": "a200e324",
   "metadata": {
    "papermill": {
     "duration": 0.010756,
     "end_time": "2023-07-19T08:23:58.712719",
     "exception": false,
     "start_time": "2023-07-19T08:23:58.701963",
     "status": "completed"
    },
    "tags": []
   },
   "source": [
    "# Quick basic dataset exploration"
   ]
  },
  {
   "cell_type": "code",
   "execution_count": 5,
   "id": "d809c134",
   "metadata": {
    "execution": {
     "iopub.execute_input": "2023-07-19T08:23:58.736448Z",
     "iopub.status.busy": "2023-07-19T08:23:58.735997Z",
     "iopub.status.idle": "2023-07-19T08:23:58.742864Z",
     "shell.execute_reply": "2023-07-19T08:23:58.741806Z"
    },
    "papermill": {
     "duration": 0.021381,
     "end_time": "2023-07-19T08:23:58.745113",
     "exception": false,
     "start_time": "2023-07-19T08:23:58.723732",
     "status": "completed"
    },
    "tags": []
   },
   "outputs": [
    {
     "data": {
      "text/plain": [
       "pandas.core.frame.DataFrame"
      ]
     },
     "execution_count": 5,
     "metadata": {},
     "output_type": "execute_result"
    }
   ],
   "source": [
    "# dataset type \n",
    "type(dataset_df)"
   ]
  },
  {
   "cell_type": "code",
   "execution_count": 6,
   "id": "9a26e1ba",
   "metadata": {
    "execution": {
     "iopub.execute_input": "2023-07-19T08:23:58.769941Z",
     "iopub.status.busy": "2023-07-19T08:23:58.769519Z",
     "iopub.status.idle": "2023-07-19T08:23:58.776309Z",
     "shell.execute_reply": "2023-07-19T08:23:58.775142Z"
    },
    "papermill": {
     "duration": 0.021672,
     "end_time": "2023-07-19T08:23:58.778551",
     "exception": false,
     "start_time": "2023-07-19T08:23:58.756879",
     "status": "completed"
    },
    "tags": []
   },
   "outputs": [
    {
     "data": {
      "text/plain": [
       "(617, 58)"
      ]
     },
     "execution_count": 6,
     "metadata": {},
     "output_type": "execute_result"
    }
   ],
   "source": [
    "dataset_df.shape"
   ]
  },
  {
   "cell_type": "code",
   "execution_count": 7,
   "id": "4310d8f4",
   "metadata": {
    "execution": {
     "iopub.execute_input": "2023-07-19T08:23:58.802859Z",
     "iopub.status.busy": "2023-07-19T08:23:58.802481Z",
     "iopub.status.idle": "2023-07-19T08:23:58.806970Z",
     "shell.execute_reply": "2023-07-19T08:23:58.805851Z"
    },
    "papermill": {
     "duration": 0.01928,
     "end_time": "2023-07-19T08:23:58.809223",
     "exception": false,
     "start_time": "2023-07-19T08:23:58.789943",
     "status": "completed"
    },
    "tags": []
   },
   "outputs": [],
   "source": [
    "#dataset_df.info()"
   ]
  },
  {
   "cell_type": "markdown",
   "id": "eee85278",
   "metadata": {
    "papermill": {
     "duration": 0.01175,
     "end_time": "2023-07-19T08:23:58.833031",
     "exception": false,
     "start_time": "2023-07-19T08:23:58.821281",
     "status": "completed"
    },
    "tags": []
   },
   "source": [
    "## Pie chart for label column: Class"
   ]
  },
  {
   "cell_type": "code",
   "execution_count": 8,
   "id": "55b733a2",
   "metadata": {
    "execution": {
     "iopub.execute_input": "2023-07-19T08:23:58.858794Z",
     "iopub.status.busy": "2023-07-19T08:23:58.858164Z",
     "iopub.status.idle": "2023-07-19T08:23:59.071602Z",
     "shell.execute_reply": "2023-07-19T08:23:59.070426Z"
    },
    "papermill": {
     "duration": 0.230411,
     "end_time": "2023-07-19T08:23:59.075107",
     "exception": false,
     "start_time": "2023-07-19T08:23:58.844696",
     "status": "completed"
    },
    "tags": []
   },
   "outputs": [
    {
     "data": {
      "text/plain": [
       "<Axes: ylabel='Class'>"
      ]
     },
     "execution_count": 8,
     "metadata": {},
     "output_type": "execute_result"
    },
    {
     "data": {
      "image/png": "[encoded data removed]",
      "text/plain": [
       "<Figure size 640x480 with 1 Axes>"
      ]
     },
     "metadata": {},
     "output_type": "display_data"
    }
   ],
   "source": [
    "plot_df = dataset_df.Class.value_counts()\n",
    "plot_df.plot(kind=\"pie\")"
   ]
  },
  {
   "cell_type": "markdown",
   "id": "9cc58648",
   "metadata": {
    "papermill": {
     "duration": 0.022897,
     "end_time": "2023-07-19T08:23:59.117817",
     "exception": false,
     "start_time": "2023-07-19T08:23:59.094920",
     "status": "completed"
    },
    "tags": []
   },
   "source": [
    "**Important**: From the pie chart we can see that the dataset is heavily imbalanced since the fraction of positive(`1`) samples is very small compared to the negative(`0`) samples."
   ]
  },
  {
   "cell_type": "markdown",
   "id": "f6177235",
   "metadata": {
    "papermill": {
     "duration": 0.013781,
     "end_time": "2023-07-19T08:23:59.152113",
     "exception": false,
     "start_time": "2023-07-19T08:23:59.138332",
     "status": "completed"
    },
    "tags": []
   },
   "source": [
    "# Numerical data distribution\n",
    "\n",
    "First, we will list all the numerical columns names."
   ]
  },
  {
   "cell_type": "code",
   "execution_count": 9,
   "id": "f2a9e210",
   "metadata": {
    "execution": {
     "iopub.execute_input": "2023-07-19T08:23:59.177532Z",
     "iopub.status.busy": "2023-07-19T08:23:59.176502Z",
     "iopub.status.idle": "2023-07-19T08:23:59.181132Z",
     "shell.execute_reply": "2023-07-19T08:23:59.180415Z"
    },
    "papermill": {
     "duration": 0.019332,
     "end_time": "2023-07-19T08:23:59.183034",
     "exception": false,
     "start_time": "2023-07-19T08:23:59.163702",
     "status": "completed"
    },
    "tags": []
   },
   "outputs": [],
   "source": [
    "# Store all the numerical column names into a list\n",
    "NUM_FEATURE_COLUMNS = [i for i in dataset_df.columns if i not in [\"Id\", \"EJ\", \"Class\"]]"
   ]
  },
  {
   "cell_type": "markdown",
   "id": "91b2d75b",
   "metadata": {
    "papermill": {
     "duration": 0.011316,
     "end_time": "2023-07-19T08:23:59.206170",
     "exception": false,
     "start_time": "2023-07-19T08:23:59.194854",
     "status": "completed"
    },
    "tags": []
   },
   "source": [
    "Let us now plot the first 6 numerical columns and their values using bar charts."
   ]
  },
  {
   "cell_type": "code",
   "execution_count": 10,
   "id": "7cb3af18",
   "metadata": {
    "execution": {
     "iopub.execute_input": "2023-07-19T08:23:59.232186Z",
     "iopub.status.busy": "2023-07-19T08:23:59.231773Z",
     "iopub.status.idle": "2023-07-19T08:23:59.236097Z",
     "shell.execute_reply": "2023-07-19T08:23:59.235300Z"
    },
    "papermill": {
     "duration": 0.019723,
     "end_time": "2023-07-19T08:23:59.237923",
     "exception": false,
     "start_time": "2023-07-19T08:23:59.218200",
     "status": "completed"
    },
    "tags": []
   },
   "outputs": [],
   "source": [
    "#figure, axis = plt.subplots(3, 2, figsize=(15, 15))\n",
    "#plt.subplots_adjust(hspace=0.25, wspace=0.3)\n",
    "\n",
    "#for i, column_name in enumerate(NUM_FEATURE_COLUMNS[:6]):\n",
    "  #  row = i//2\n",
    "  #  col = i % 2\n",
    "  #  bp = sns.barplot(ax=axis[row, col], x=dataset_df['Id'], y=dataset_df[column_name])\n",
    "  #  bp.set(xticklabels=[])\n",
    "    #bp.set_xticklabels(bp.get_xticklabels(), rotation=90, size = 7)\n",
    "   # axis[row, col].set_title(column_name)\n",
    "#plt.show()"
   ]
  },
  {
   "cell_type": "markdown",
   "id": "4c113221",
   "metadata": {
    "papermill": {
     "duration": 0.011439,
     "end_time": "2023-07-19T08:23:59.261164",
     "exception": false,
     "start_time": "2023-07-19T08:23:59.249725",
     "status": "completed"
    },
    "tags": []
   },
   "source": [
    "We will also create a list of feature columns that will be used for training. We will drop `Id` from the list since it is not needed."
   ]
  },
  {
   "cell_type": "code",
   "execution_count": 11,
   "id": "2a151d6e",
   "metadata": {
    "execution": {
     "iopub.execute_input": "2023-07-19T08:23:59.286510Z",
     "iopub.status.busy": "2023-07-19T08:23:59.286074Z",
     "iopub.status.idle": "2023-07-19T08:23:59.290869Z",
     "shell.execute_reply": "2023-07-19T08:23:59.289751Z"
    },
    "papermill": {
     "duration": 0.020067,
     "end_time": "2023-07-19T08:23:59.292925",
     "exception": false,
     "start_time": "2023-07-19T08:23:59.272858",
     "status": "completed"
    },
    "tags": []
   },
   "outputs": [],
   "source": [
    "FEATURE_COLUMNS = [i for i in dataset_df.columns if i not in [\"Id\"]]"
   ]
  },
  {
   "cell_type": "markdown",
   "id": "26886875",
   "metadata": {
    "papermill": {
     "duration": 0.011735,
     "end_time": "2023-07-19T08:23:59.316397",
     "exception": false,
     "start_time": "2023-07-19T08:23:59.304662",
     "status": "completed"
    },
    "tags": []
   },
   "source": [
    "Now let us split the dataset into training and testing datasets:"
   ]
  },
  {
   "cell_type": "markdown",
   "id": "a93ef512",
   "metadata": {
    "papermill": {
     "duration": 0.011417,
     "end_time": "2023-07-19T08:23:59.339430",
     "exception": false,
     "start_time": "2023-07-19T08:23:59.328013",
     "status": "completed"
    },
    "tags": []
   },
   "source": [
    "# KFold validation\n",
    "\n",
    "We will use KFold cross validation for training this model since the normal train/test split training won't be enough to acheive decent score.\n",
    "\n",
    "We will split the dataset into 5 consecutive folds. Each fold is then used once as a validation set while the 4 (5-1) remaining folds form the training set.\n",
    "\n",
    "Read more about KFold [here](https://scikit-learn.org/stable/modules/generated/sklearn.model_selection.KFold.html)."
   ]
  },
  {
   "cell_type": "code",
   "execution_count": 12,
   "id": "0bfb166a",
   "metadata": {
    "execution": {
     "iopub.execute_input": "2023-07-19T08:23:59.364156Z",
     "iopub.status.busy": "2023-07-19T08:23:59.363747Z",
     "iopub.status.idle": "2023-07-19T08:23:59.368237Z",
     "shell.execute_reply": "2023-07-19T08:23:59.367435Z"
    },
    "papermill": {
     "duration": 0.019053,
     "end_time": "2023-07-19T08:23:59.370062",
     "exception": false,
     "start_time": "2023-07-19T08:23:59.351009",
     "status": "completed"
    },
    "tags": []
   },
   "outputs": [],
   "source": [
    "# Creates a GroupKFold with 5 splits\n",
    "kf = KFold(n_splits=5)"
   ]
  },
  {
   "cell_type": "markdown",
   "id": "3f31205f",
   "metadata": {
    "papermill": {
     "duration": 0.011335,
     "end_time": "2023-07-19T08:23:59.393151",
     "exception": false,
     "start_time": "2023-07-19T08:23:59.381816",
     "status": "completed"
    },
    "tags": []
   },
   "source": [
    "REPRISE 😉"
   ]
  },
  {
   "cell_type": "markdown",
   "id": "6e85e19f",
   "metadata": {
    "papermill": {
     "duration": 0.011379,
     "end_time": "2023-07-19T08:23:59.416460",
     "exception": false,
     "start_time": "2023-07-19T08:23:59.405081",
     "status": "completed"
    },
    "tags": []
   },
   "source": [
    "# Out of Fold (OOF)\n",
    "\n",
    "During KFold cross validation, the predictions made on the test set of each fold is known as Out of Fold(OOF) predictions. We will estimate the performance of the model using the predictions made across all the k (5 in this example) folds.\n",
    "\n",
    "For our training loop, we will create a pandas dataframe named `oof` to store the predictions of the validation set during each fold."
   ]
  },
  {
   "cell_type": "code",
   "execution_count": 13,
   "id": "5e341034",
   "metadata": {
    "execution": {
     "iopub.execute_input": "2023-07-19T08:23:59.442258Z",
     "iopub.status.busy": "2023-07-19T08:23:59.441515Z",
     "iopub.status.idle": "2023-07-19T08:23:59.447843Z",
     "shell.execute_reply": "2023-07-19T08:23:59.446677Z"
    },
    "papermill": {
     "duration": 0.021882,
     "end_time": "2023-07-19T08:23:59.450034",
     "exception": false,
     "start_time": "2023-07-19T08:23:59.428152",
     "status": "completed"
    },
    "tags": []
   },
   "outputs": [],
   "source": [
    "# Create list of ids for the creation of oof dataframe.\n",
    "ID_LIST = dataset_df.index\n",
    "\n",
    "# Create a dataframe of required size with zero values.\n",
    "oof = pd.DataFrame(data=np.zeros((len(ID_LIST),1)), index=ID_LIST)\n",
    "\n",
    "# Create an empty dictionary to store the models trained for each fold.\n",
    "models = {}\n",
    "\n",
    "# Create empty dict to save metircs for the models trained for each fold.\n",
    "accuracy = {}\n",
    "cross_entropy = {}\n",
    "\n",
    "# Save the name of the label column to a variable.\n",
    "label = \"Class\""
   ]
  },
  {
   "cell_type": "markdown",
   "id": "a6dec770",
   "metadata": {
    "papermill": {
     "duration": 0.011468,
     "end_time": "2023-07-19T08:23:59.473363",
     "exception": false,
     "start_time": "2023-07-19T08:23:59.461895",
     "status": "completed"
    },
    "tags": []
   },
   "source": [
    "# Select a Model\n",
    "\n",
    "There are several tree-based models for you to choose from.\n",
    "\n",
    "* RandomForestModel\n",
    "* GradientBoostedTreesModel\n",
    "* CartModel\n",
    "* DistributedGradientBoostedTreesModel\n",
    "\n",
    "To start, we'll work with a Random Forest. This is the most well-known of the Decision Forest training algorithms.\n",
    "\n",
    "A Random Forest is a collection of decision trees, each trained independently on a random subset of the training dataset (sampled with replacement). The algorithm is unique in that it is robust to overfitting, and easy to use.\n",
    "\n",
    "We can list the all the available models in TensorFlow Decision Forests using the following code:"
   ]
  },
  {
   "cell_type": "code",
   "execution_count": 14,
   "id": "8772d21e",
   "metadata": {
    "execution": {
     "iopub.execute_input": "2023-07-19T08:23:59.498727Z",
     "iopub.status.busy": "2023-07-19T08:23:59.498309Z",
     "iopub.status.idle": "2023-07-19T08:23:59.504906Z",
     "shell.execute_reply": "2023-07-19T08:23:59.503831Z"
    },
    "papermill": {
     "duration": 0.021936,
     "end_time": "2023-07-19T08:23:59.506987",
     "exception": false,
     "start_time": "2023-07-19T08:23:59.485051",
     "status": "completed"
    },
    "tags": []
   },
   "outputs": [
    {
     "data": {
      "text/plain": [
       "[tensorflow_decision_forests.keras.RandomForestModel,\n",
       " tensorflow_decision_forests.keras.GradientBoostedTreesModel,\n",
       " tensorflow_decision_forests.keras.CartModel,\n",
       " tensorflow_decision_forests.keras.DistributedGradientBoostedTreesModel]"
      ]
     },
     "execution_count": 14,
     "metadata": {},
     "output_type": "execute_result"
    }
   ],
   "source": [
    "tfdf.keras.get_all_models()"
   ]
  },
  {
   "cell_type": "markdown",
   "id": "1543af6d",
   "metadata": {
    "papermill": {
     "duration": 0.011457,
     "end_time": "2023-07-19T08:23:59.530175",
     "exception": false,
     "start_time": "2023-07-19T08:23:59.518718",
     "status": "completed"
    },
    "tags": []
   },
   "source": [
    "# How can I configure them?\n",
    "\n",
    "TensorFlow Decision Forests provides good defaults for you (e.g. the top ranking hyperparameters on our benchmarks, slightly modified to run in reasonable time). If you would like to configure the learning algorithm, you will find many options you can explore to get a better score.\n",
    "\n",
    "You can select a template and/or set parameters as follows:\n",
    "\n",
    "```rf = tfdf.keras.RandomForestModel(hyperparameter_template=\"benchmark_rank1\")```\n",
    "\n",
    "Read more [here](https://www.tensorflow.org/decision_forests/api_docs/python/tfdf/keras/RandomForestModel)."
   ]
  },
  {
   "cell_type": "markdown",
   "id": "4948be99",
   "metadata": {
    "papermill": {
     "duration": 0.011513,
     "end_time": "2023-07-19T08:23:59.553443",
     "exception": false,
     "start_time": "2023-07-19T08:23:59.541930",
     "status": "completed"
    },
    "tags": []
   },
   "source": [
    "# Hyperparameter tuning to avoid overfitting\n",
    "\n",
    "Because of the smaller size of the dataset, it is likely that the model will overfit during training.\n",
    "Numerous parameters, primarily `max_depth` and `num_trees` can be changed to fine-tune the model and prevent overfitting.\n",
    "\n",
    "The attribute`max_depth` indicates the maximum depth of the tree. To avoid overfitting, we can try to reduce the depth of the tree from it's default value, which is `16`. Another way to tackle overfitting is to increase the number of individual decision trees. To do this, we have to increase the value of the parameter `num_trees` from its default value(`300`).\n",
    "\n",
    "You can set these parameters as follows:\n",
    "\n",
    "```rf = tfdf.keras.RandomForestModel(max_depth=5, num_trees=500)```"
   ]
  },
  {
   "cell_type": "markdown",
   "id": "7c704306",
   "metadata": {
    "papermill": {
     "duration": 0.011641,
     "end_time": "2023-07-19T08:23:59.576767",
     "exception": false,
     "start_time": "2023-07-19T08:23:59.565126",
     "status": "completed"
    },
    "tags": []
   },
   "source": [
    "# Strategies to handle the dataset imbalance\n",
    "\n",
    "Let's examine the fraction of positive and negative samples in this dataset's  by examining the`Class` column."
   ]
  },
  {
   "cell_type": "code",
   "execution_count": 15,
   "id": "a87c1886",
   "metadata": {
    "execution": {
     "iopub.execute_input": "2023-07-19T08:23:59.603110Z",
     "iopub.status.busy": "2023-07-19T08:23:59.602478Z",
     "iopub.status.idle": "2023-07-19T08:23:59.609039Z",
     "shell.execute_reply": "2023-07-19T08:23:59.607810Z"
    },
    "papermill": {
     "duration": 0.022013,
     "end_time": "2023-07-19T08:23:59.611093",
     "exception": false,
     "start_time": "2023-07-19T08:23:59.589080",
     "status": "completed"
    },
    "tags": []
   },
   "outputs": [
    {
     "name": "stdout",
     "output_type": "stream",
     "text": [
      "Examples:\n",
      "Total: 617\n",
      "Positive: 108 (0.18 % of total)\n"
     ]
    }
   ],
   "source": [
    "# Calculate the number of negative and positive values in `Class` column\n",
    "neg, pos = np.bincount(dataset_df['Class'])\n",
    "# Calculate total samples\n",
    "total = neg + pos\n",
    "print(f'Examples:\\nTotal: {total}\\nPositive: {pos} ({round(pos/total,2)} % of total)')"
   ]
  },
  {
   "cell_type": "markdown",
   "id": "167fa7c6",
   "metadata": {
    "papermill": {
     "duration": 0.011531,
     "end_time": "2023-07-19T08:23:59.634458",
     "exception": false,
     "start_time": "2023-07-19T08:23:59.622927",
     "status": "completed"
    },
    "tags": []
   },
   "source": [
    "As we can see, positive samples only account for 17.50% of the data. This means that our datastet is heavily imbalanced.\n",
    "\n",
    "In classification problems with imbalanced datasets, a model tends to be more biased towards the majority class leading to the model performing poorly on the samples belonging to the minority class."
   ]
  },
  {
   "cell_type": "markdown",
   "id": "9e462cbe",
   "metadata": {
    "papermill": {
     "duration": 0.011407,
     "end_time": "2023-07-19T08:23:59.657500",
     "exception": false,
     "start_time": "2023-07-19T08:23:59.646093",
     "status": "completed"
    },
    "tags": []
   },
   "source": [
    "There are many techniques for dealing with imbalanced data. The most suitable techniques for this dataset are:\n",
    "\n",
    "* Undersampling\n",
    "* Class weighting\n",
    "\n",
    "In this notebook we will use **Class weighting** to deal with imbalanced data. But first, we will quickly outline how undersampling can be performed."
   ]
  },
  {
   "cell_type": "markdown",
   "id": "badb6619",
   "metadata": {
    "papermill": {
     "duration": 0.011717,
     "end_time": "2023-07-19T08:23:59.681137",
     "exception": false,
     "start_time": "2023-07-19T08:23:59.669420",
     "status": "completed"
    },
    "tags": []
   },
   "source": [
    "# Undersampling\n",
    "\n",
    "One approach to deal with an imbalanced dataset would be to under-sample the majority class(es) by choosing a smaller subset of the majority class samples(negative or `0` class in this case) from the dataset rather than picking the entire data.\n",
    "\n",
    "Note: You have to loop through the dataset and try different random subsets for a better score.\n",
    "\n",
    "The code snippet below illustrates how to perform undersampling.\n",
    "\n",
    "```\n",
    "# This function generates undersampled dataset.\n",
    "def random_under_sampler(df):\n",
    "    # Calculate the number of samples for each label. \n",
    "    neg, pos = np.bincount(df['Class'])\n",
    "\n",
    "    # Choose the samples with class label `1`.\n",
    "    one_df = df.loc[df['Class'] == 1] \n",
    "    # Choose the samples with class label `0`.\n",
    "    zero_df = df.loc[df['Class'] == 0]\n",
    "    # Select `pos` number of negative samples.\n",
    "    # This makes sure that we have equal number of samples for each label.\n",
    "    zero_df = zero_df.sample(n=pos)\n",
    "\n",
    "    # Join both label dataframes.\n",
    "    undersampled_df = pd.concat([zero_df, one_df])\n",
    "\n",
    "    # Shuffle the data and return\n",
    "    return undersampled_df.sample(frac = 1)\n",
    "```"
   ]
  },
  {
   "cell_type": "markdown",
   "id": "093511cc",
   "metadata": {
    "papermill": {
     "duration": 0.011549,
     "end_time": "2023-07-19T08:23:59.704412",
     "exception": false,
     "start_time": "2023-07-19T08:23:59.692863",
     "status": "completed"
    },
    "tags": []
   },
   "source": [
    "# Class weighting\n",
    "\n",
    "Since the postive(`1`) `Class` labels are only a small fraction of the dataset, we would want the classifier to heavily weight those examples. You can do this by passing **Keras weights** for each class through a parameter. This will cause the model to \"pay more attention\" to examples from an under-represented class. Read more about class weights [here](https://www.tensorflow.org/tutorials/structured_data/imbalanced_data#class_weights)."
   ]
  },
  {
   "cell_type": "code",
   "execution_count": 16,
   "id": "5f16fcbb",
   "metadata": {
    "execution": {
     "iopub.execute_input": "2023-07-19T08:23:59.729592Z",
     "iopub.status.busy": "2023-07-19T08:23:59.728948Z",
     "iopub.status.idle": "2023-07-19T08:23:59.736374Z",
     "shell.execute_reply": "2023-07-19T08:23:59.735223Z"
    },
    "papermill": {
     "duration": 0.022608,
     "end_time": "2023-07-19T08:23:59.738693",
     "exception": false,
     "start_time": "2023-07-19T08:23:59.716085",
     "status": "completed"
    },
    "tags": []
   },
   "outputs": [
    {
     "name": "stdout",
     "output_type": "stream",
     "text": [
      "Weight for class 0: 0.61\n",
      "Weight for class 1: 2.86\n"
     ]
    }
   ],
   "source": [
    "# Calculate the number of samples for each label.\n",
    "neg, pos = np.bincount(dataset_df['Class'])\n",
    "\n",
    "# Calculate total samples.\n",
    "total = neg + pos\n",
    "\n",
    "# Calculate the weight for each label.\n",
    "weight_for_0 = (1 / neg) * (total / 2.0)\n",
    "weight_for_1 = (1 / pos) * (total / 2.0)\n",
    "\n",
    "class_weight = {0: weight_for_0, 1: weight_for_1}\n",
    "\n",
    "print('Weight for class 0: {:.2f}'.format(weight_for_0))\n",
    "print('Weight for class 1: {:.2f}'.format(weight_for_1))"
   ]
  },
  {
   "cell_type": "markdown",
   "id": "118c90ed",
   "metadata": {
    "papermill": {
     "duration": 0.011829,
     "end_time": "2023-07-19T08:23:59.762331",
     "exception": false,
     "start_time": "2023-07-19T08:23:59.750502",
     "status": "completed"
    },
    "tags": []
   },
   "source": [
    "To train and evaluate the models using class weights, use the dict in model.fit() as an argument as shown below.\n",
    "\n",
    "```model.fit(x=train_ds, class_weight=class_weight)```"
   ]
  },
  {
   "cell_type": "markdown",
   "id": "0a7c90ca",
   "metadata": {
    "papermill": {
     "duration": 0.01162,
     "end_time": "2023-07-19T08:23:59.785601",
     "exception": false,
     "start_time": "2023-07-19T08:23:59.773981",
     "status": "completed"
    },
    "tags": []
   },
   "source": [
    "# Train Random Forest Model\n",
    "\n",
    "Today, we will use the defaults to create the Random Forest Model. By default the model is set to train for a classification task.\n",
    "We will train a model for each fold and after training we will store the model and metrics. Here, we have chosen `accuracy` and `binary_crossentropy` as the metrics."
   ]
  },
  {
   "cell_type": "code",
   "execution_count": 17,
   "id": "bece11e0",
   "metadata": {
    "execution": {
     "iopub.execute_input": "2023-07-19T08:23:59.811556Z",
     "iopub.status.busy": "2023-07-19T08:23:59.810668Z",
     "iopub.status.idle": "2023-07-19T08:24:19.413203Z",
     "shell.execute_reply": "2023-07-19T08:24:19.411973Z"
    },
    "papermill": {
     "duration": 19.618425,
     "end_time": "2023-07-19T08:24:19.415808",
     "exception": false,
     "start_time": "2023-07-19T08:23:59.797383",
     "status": "completed"
    },
    "tags": []
   },
   "outputs": [
    {
     "name": "stdout",
     "output_type": "stream",
     "text": [
      "##### Fold 1\n",
      "Warning: Some of the feature names have been changed automatically to be compatible with SavedModels because fix_feature_names=True.\n",
      "Warning: Some of the feature names have been changed automatically to be compatible with SavedModels because fix_feature_names=True.\n",
      "Use /tmp/tmpfsdp8vjn as temporary training directory\n",
      "Reading training dataset...\n",
      "Training dataset read in 0:00:06.123551. Found 493 examples.\n",
      "Training model...\n",
      "Model trained in 0:00:00.298326\n",
      "Compiling model...\n"
     ]
    },
    {
     "name": "stderr",
     "output_type": "stream",
     "text": [
      "[INFO 23-07-19 08:24:06.4957 UTC kernel.cc:1242] Loading model from path /tmp/tmpfsdp8vjn/model/ with prefix d107c88becdd483d\n",
      "[INFO 23-07-19 08:24:06.5448 UTC decision_forest.cc:660] Model loaded with 300 root(s), 14268 node(s), and 56 input feature(s).\n",
      "[INFO 23-07-19 08:24:06.5449 UTC abstract_model.cc:1311] Engine \"RandomForestOptPred\" built\n",
      "[INFO 23-07-19 08:24:06.5449 UTC kernel.cc:1074] Use fast generic engine\n"
     ]
    },
    {
     "name": "stdout",
     "output_type": "stream",
     "text": [
      "WARNING: AutoGraph could not transform <function simple_ml_inference_op_with_handle at 0x78390a8d5870> and will run it as-is.\n",
      "Please report this to the TensorFlow team. When filing the bug, set the verbosity to 10 (on Linux, `export AUTOGRAPH_VERBOSITY=10`) and attach the full output.\n",
      "Cause: could not get source code\n",
      "To silence this warning, decorate the function with @tf.autograph.experimental.do_not_convert\n",
      "Model compiled.\n",
      "1/1 [==============================] - 0s 134ms/step\n",
      "1/1 [==============================] - 1s 662ms/step - loss: 0.0000e+00 - accuracy: 0.9516 - binary_crossentropy: 0.2182\n",
      "##### Fold 2\n",
      "Warning: Some of the feature names have been changed automatically to be compatible with SavedModels because fix_feature_names=True.\n",
      "Warning: Some of the feature names have been changed automatically to be compatible with SavedModels because fix_feature_names=True.\n",
      "Use /tmp/tmpvlajchkd as temporary training directory\n",
      "Reading training dataset...\n",
      "Training dataset read in 0:00:00.930740. Found 493 examples.\n",
      "Training model...\n",
      "Model trained in 0:00:00.249973\n",
      "Compiling model...\n"
     ]
    },
    {
     "name": "stderr",
     "output_type": "stream",
     "text": [
      "[INFO 23-07-19 08:24:11.3763 UTC kernel.cc:1242] Loading model from path /tmp/tmpvlajchkd/model/ with prefix c71316a811714495\n",
      "[INFO 23-07-19 08:24:11.4213 UTC decision_forest.cc:660] Model loaded with 300 root(s), 13582 node(s), and 56 input feature(s).\n",
      "[INFO 23-07-19 08:24:11.4214 UTC kernel.cc:1074] Use fast generic engine\n"
     ]
    },
    {
     "name": "stdout",
     "output_type": "stream",
     "text": [
      "Model compiled.\n",
      "1/1 [==============================] - 0s 133ms/step\n",
      "1/1 [==============================] - 0s 360ms/step - loss: 0.0000e+00 - accuracy: 0.8790 - binary_crossentropy: 0.2608\n",
      "##### Fold 3\n",
      "Warning: Some of the feature names have been changed automatically to be compatible with SavedModels because fix_feature_names=True.\n",
      "Warning: Some of the feature names have been changed automatically to be compatible with SavedModels because fix_feature_names=True.\n",
      "Use /tmp/tmph032rbci as temporary training directory\n",
      "Reading training dataset...\n",
      "Training dataset read in 0:00:00.934762. Found 494 examples.\n",
      "Training model...\n",
      "Model trained in 0:00:00.241894\n",
      "Compiling model...\n"
     ]
    },
    {
     "name": "stderr",
     "output_type": "stream",
     "text": [
      "[INFO 23-07-19 08:24:13.7243 UTC kernel.cc:1242] Loading model from path /tmp/tmph032rbci/model/ with prefix ff27bac7880f4570\n",
      "[INFO 23-07-19 08:24:13.7678 UTC decision_forest.cc:660] Model loaded with 300 root(s), 13376 node(s), and 56 input feature(s).\n",
      "[INFO 23-07-19 08:24:13.7679 UTC kernel.cc:1074] Use fast generic engine\n"
     ]
    },
    {
     "name": "stdout",
     "output_type": "stream",
     "text": [
      "Model compiled.\n",
      "1/1 [==============================] - 0s 137ms/step\n",
      "1/1 [==============================] - 0s 351ms/step - loss: 0.0000e+00 - accuracy: 0.9024 - binary_crossentropy: 0.2741\n",
      "##### Fold 4\n",
      "Warning: Some of the feature names have been changed automatically to be compatible with SavedModels because fix_feature_names=True.\n",
      "Warning: Some of the feature names have been changed automatically to be compatible with SavedModels because fix_feature_names=True.\n",
      "Use /tmp/tmpgpqva05r as temporary training directory\n",
      "Reading training dataset...\n",
      "Training dataset read in 0:00:00.911627. Found 494 examples.\n",
      "Training model...\n",
      "Model trained in 0:00:00.244654\n",
      "Compiling model...\n"
     ]
    },
    {
     "name": "stderr",
     "output_type": "stream",
     "text": [
      "[INFO 23-07-19 08:24:16.0373 UTC kernel.cc:1242] Loading model from path /tmp/tmpgpqva05r/model/ with prefix fc998b46c3e644a4\n",
      "[INFO 23-07-19 08:24:16.0823 UTC decision_forest.cc:660] Model loaded with 300 root(s), 13434 node(s), and 56 input feature(s).\n",
      "[INFO 23-07-19 08:24:16.0824 UTC kernel.cc:1074] Use fast generic engine\n"
     ]
    },
    {
     "name": "stdout",
     "output_type": "stream",
     "text": [
      "Model compiled.\n",
      "1/1 [==============================] - 0s 132ms/step\n",
      "1/1 [==============================] - 0s 348ms/step - loss: 0.0000e+00 - accuracy: 0.9024 - binary_crossentropy: 0.2717\n",
      "##### Fold 5\n",
      "Warning: Some of the feature names have been changed automatically to be compatible with SavedModels because fix_feature_names=True.\n",
      "Warning: Some of the feature names have been changed automatically to be compatible with SavedModels because fix_feature_names=True.\n",
      "Use /tmp/tmpq898i9tr as temporary training directory\n",
      "Reading training dataset...\n",
      "Training dataset read in 0:00:00.906704. Found 494 examples.\n",
      "Training model...\n",
      "Model trained in 0:00:00.252409\n",
      "Compiling model...\n"
     ]
    },
    {
     "name": "stderr",
     "output_type": "stream",
     "text": [
      "[INFO 23-07-19 08:24:18.3531 UTC kernel.cc:1242] Loading model from path /tmp/tmpq898i9tr/model/ with prefix a98fc933e9f64d59\n",
      "[INFO 23-07-19 08:24:18.3985 UTC decision_forest.cc:660] Model loaded with 300 root(s), 13980 node(s), and 56 input feature(s).\n",
      "[INFO 23-07-19 08:24:18.3986 UTC abstract_model.cc:1311] Engine \"RandomForestOptPred\" built\n",
      "[INFO 23-07-19 08:24:18.3986 UTC kernel.cc:1074] Use fast generic engine\n"
     ]
    },
    {
     "name": "stdout",
     "output_type": "stream",
     "text": [
      "Model compiled.\n",
      "1/1 [==============================] - 0s 134ms/step\n",
      "1/1 [==============================] - 0s 352ms/step - loss: 0.0000e+00 - accuracy: 0.9512 - binary_crossentropy: 0.2172\n"
     ]
    }
   ],
   "source": [
    "# Loop through each fold\n",
    "for i, (train_index, valid_index) in enumerate(kf.split(X=dataset_df)):\n",
    "        print('##### Fold',i+1)\n",
    "\n",
    "        # Fetch values corresponding to the index \n",
    "        train_df = dataset_df.iloc[train_index]\n",
    "        valid_df = dataset_df.iloc[valid_index]\n",
    "        valid_ids = valid_df.index.values\n",
    "        \n",
    "        # Select only feature columns for training.\n",
    "        train_df = train_df[FEATURE_COLUMNS]\n",
    "        valid_df = valid_df[FEATURE_COLUMNS]\n",
    "        \n",
    "        # There's one more step required before we can train the model. \n",
    "        # We need to convert the datatset from Pandas format (pd.DataFrame)\n",
    "        # into TensorFlow Datasets format (tf.data.Dataset).\n",
    "        # TensorFlow Datasets is a high performance data loading library \n",
    "        # which is helpful when training neural networks with accelerators like GPUs and TPUs.\n",
    "        # Note: Some column names contains white spaces at the end of their name, \n",
    "        # which is non-comaptible with SavedModels save format. \n",
    "        # By default, `pd_dataframe_to_tf_dataset` function will convert \n",
    "        # this column names into a compatible format. \n",
    "        # So you can safely ignore the warnings related to this.\n",
    "        train_ds = tfdf.keras.pd_dataframe_to_tf_dataset(train_df, label=label)\n",
    "        valid_ds = tfdf.keras.pd_dataframe_to_tf_dataset(valid_df, label=label)\n",
    "\n",
    "        # Define the model and metrics\n",
    "        rf = tfdf.keras.RandomForestModel()\n",
    "        rf.compile(metrics=[\"accuracy\", \"binary_crossentropy\"]) \n",
    "        \n",
    "        # Train the model\n",
    "        # We will train the model using a one-liner.\n",
    "        # Note: you may see a warning about Autograph. \n",
    "        # You can safely ignore this, it will be fixed in the next release.\n",
    "        # Previously calculated class weights is used to handle imbalance.\n",
    "        rf.fit(x=train_ds, class_weight=class_weight)\n",
    "        \n",
    "        # Store the model\n",
    "        models[f\"fold_{i+1}\"] = rf\n",
    "        \n",
    "        \n",
    "        # Predict OOF value for validation data\n",
    "        predict = rf.predict(x=valid_ds)\n",
    "        \n",
    "        # Store the predictions in oof dataframe\n",
    "        oof.loc[valid_ids, 0] = predict.flatten() \n",
    "        \n",
    "        # Evaluate and store the metrics in respective dicts\n",
    "        evaluation = rf.evaluate(x=valid_ds,return_dict=True)\n",
    "        accuracy[f\"fold_{i+1}\"] = evaluation[\"accuracy\"]\n",
    "        cross_entropy[f\"fold_{i+1}\"]= evaluation[\"binary_crossentropy\"]"
   ]
  },
  {
   "cell_type": "markdown",
   "id": "1df1800c",
   "metadata": {
    "papermill": {
     "duration": 0.016169,
     "end_time": "2023-07-19T08:24:19.448644",
     "exception": false,
     "start_time": "2023-07-19T08:24:19.432475",
     "status": "completed"
    },
    "tags": []
   },
   "source": [
    "# Visualize the model\n",
    "One benefit of tree-based models is that we can easily visualize them. The default number of trees used in the Random Forests is 300. We can select any tree for display.\n",
    "\n",
    "Let us pick one model from the `models` dict and select a tree for display."
   ]
  },
  {
   "cell_type": "code",
   "execution_count": 18,
   "id": "11f517d2",
   "metadata": {
    "execution": {
     "iopub.execute_input": "2023-07-19T08:24:19.483734Z",
     "iopub.status.busy": "2023-07-19T08:24:19.482684Z",
     "iopub.status.idle": "2023-07-19T08:24:19.487986Z",
     "shell.execute_reply": "2023-07-19T08:24:19.486810Z"
    },
    "papermill": {
     "duration": 0.025156,
     "end_time": "2023-07-19T08:24:19.490244",
     "exception": false,
     "start_time": "2023-07-19T08:24:19.465088",
     "status": "completed"
    },
    "tags": []
   },
   "outputs": [],
   "source": [
    "#tfdf.model_plotter.plot_model_in_colab(models['fold_1'], tree_idx=0, max_depth=3)"
   ]
  },
  {
   "cell_type": "markdown",
   "id": "22714817",
   "metadata": {
    "papermill": {
     "duration": 0.016094,
     "end_time": "2023-07-19T08:24:19.523191",
     "exception": false,
     "start_time": "2023-07-19T08:24:19.507097",
     "status": "completed"
    },
    "tags": []
   },
   "source": [
    "# Evaluate the model on the Out of bag (OOB) data and the validation dataset\n",
    "\n",
    "Before training, we have manually seperated 20% of the dataset for validation named as `valid_ds`.\n",
    "\n",
    "We can also use Out of bag (OOB) score to validate our RandomForestModel.\n",
    "To train a Random Forest Model, a set of random samples from training set are choosen by the algorithm and the rest of the samples are used to finetune the model. The subset of data that is not chosen is known as Out of bag data (OOB).\n",
    "OOB score is computed on the OOB data.\n",
    "\n",
    "Read more about OOB data [here](https://developers.google.com/machine-learning/decision-forests/out-of-bag).\n",
    "\n",
    "The training logs show the `binary_crossentropy` evaluated on the out of bag dataset according to the number of trees in the model. Let us plot this for the models of each fold.\n",
    "\n",
    "Note: Smaller values are better for this hyperparameter."
   ]
  },
  {
   "cell_type": "code",
   "execution_count": 19,
   "id": "045b8f48",
   "metadata": {
    "execution": {
     "iopub.execute_input": "2023-07-19T08:24:19.557591Z",
     "iopub.status.busy": "2023-07-19T08:24:19.557157Z",
     "iopub.status.idle": "2023-07-19T08:24:20.521379Z",
     "shell.execute_reply": "2023-07-19T08:24:20.520095Z"
    },
    "papermill": {
     "duration": 0.984215,
     "end_time": "2023-07-19T08:24:20.523637",
     "exception": false,
     "start_time": "2023-07-19T08:24:19.539422",
     "status": "completed"
    },
    "tags": []
   },
   "outputs": [
    {
     "data": {
      "image/png": "[encoded data removed]",
      "text/plain": [
       "<Figure size 1000x1000 with 6 Axes>"
      ]
     },
     "metadata": {},
     "output_type": "display_data"
    }
   ],
   "source": [
    "figure, axis = plt.subplots(3, 2, figsize=(10, 10))\n",
    "plt.subplots_adjust(hspace=0.5, wspace=0.3)\n",
    "\n",
    "for i, fold_no in enumerate(models.keys()):\n",
    "    row = i//2\n",
    "    col = i % 2\n",
    "    logs = models[fold_no].make_inspector().training_logs()\n",
    "    axis[row, col].plot([log.num_trees for log in logs], [log.evaluation.loss for log in logs])\n",
    "    axis[row, col].set_title(f\"Fold {i+1}\")\n",
    "    axis[row, col].set_xlabel('Number of trees')\n",
    "    axis[row, col].set_ylabel('Loss (out-of-bag)')\n",
    "\n",
    "axis[2][1].set_visible(False)\n",
    "plt.show()"
   ]
  },
  {
   "cell_type": "markdown",
   "id": "6a6d80b6",
   "metadata": {
    "papermill": {
     "duration": 0.017111,
     "end_time": "2023-07-19T08:24:20.558183",
     "exception": false,
     "start_time": "2023-07-19T08:24:20.541072",
     "status": "completed"
    },
    "tags": []
   },
   "source": [
    "We can also see some general stats on the OOB dataset:"
   ]
  },
  {
   "cell_type": "code",
   "execution_count": 20,
   "id": "324f6965",
   "metadata": {
    "execution": {
     "iopub.execute_input": "2023-07-19T08:24:20.596418Z",
     "iopub.status.busy": "2023-07-19T08:24:20.595986Z",
     "iopub.status.idle": "2023-07-19T08:24:20.612105Z",
     "shell.execute_reply": "2023-07-19T08:24:20.609956Z"
    },
    "papermill": {
     "duration": 0.038269,
     "end_time": "2023-07-19T08:24:20.614601",
     "exception": false,
     "start_time": "2023-07-19T08:24:20.576332",
     "status": "completed"
    },
    "tags": []
   },
   "outputs": [
    {
     "name": "stdout",
     "output_type": "stream",
     "text": [
      "fold_1 Evaluation(num_examples=493, accuracy=0.83384120423487, loss=0.4011864148867133, rmse=None, ndcg=None, aucs=None, auuc=None, qini=None)\n",
      "fold_2 Evaluation(num_examples=493, accuracy=0.86791143186256, loss=0.374230902610848, rmse=None, ndcg=None, aucs=None, auuc=None, qini=None)\n",
      "fold_3 Evaluation(num_examples=494, accuracy=0.8625237360976467, loss=0.39912028399338717, rmse=None, ndcg=None, aucs=None, auuc=None, qini=None)\n",
      "fold_4 Evaluation(num_examples=494, accuracy=0.8742180068903357, loss=0.38689070260817593, rmse=None, ndcg=None, aucs=None, auuc=None, qini=None)\n",
      "fold_5 Evaluation(num_examples=494, accuracy=0.8477430594687857, loss=0.39049966583287166, rmse=None, ndcg=None, aucs=None, auuc=None, qini=None)\n"
     ]
    }
   ],
   "source": [
    "for _model in models:\n",
    "    inspector = models[_model].make_inspector()\n",
    "    print(_model, inspector.evaluation())"
   ]
  },
  {
   "cell_type": "markdown",
   "id": "c98e45ec",
   "metadata": {
    "papermill": {
     "duration": 0.017119,
     "end_time": "2023-07-19T08:24:20.650147",
     "exception": false,
     "start_time": "2023-07-19T08:24:20.633028",
     "status": "completed"
    },
    "tags": []
   },
   "source": [
    "Now, let us check the evaluation metrics for each fold and its average value."
   ]
  },
  {
   "cell_type": "code",
   "execution_count": 21,
   "id": "ae23a462",
   "metadata": {
    "execution": {
     "iopub.execute_input": "2023-07-19T08:24:20.687891Z",
     "iopub.status.busy": "2023-07-19T08:24:20.687483Z",
     "iopub.status.idle": "2023-07-19T08:24:20.694239Z",
     "shell.execute_reply": "2023-07-19T08:24:20.693021Z"
    },
    "papermill": {
     "duration": 0.028631,
     "end_time": "2023-07-19T08:24:20.696836",
     "exception": false,
     "start_time": "2023-07-19T08:24:20.668205",
     "status": "completed"
    },
    "tags": []
   },
   "outputs": [
    {
     "name": "stdout",
     "output_type": "stream",
     "text": [
      "fold_1: acc: 0.9516 loss: 0.2182\n",
      "fold_2: acc: 0.8790 loss: 0.2608\n",
      "fold_3: acc: 0.9024 loss: 0.2741\n",
      "fold_4: acc: 0.9024 loss: 0.2717\n",
      "fold_5: acc: 0.9512 loss: 0.2172\n",
      "\n",
      "Average accuracy: 0.9173  Average loss: 0.2484\n"
     ]
    }
   ],
   "source": [
    "average_loss = 0\n",
    "average_acc = 0\n",
    "\n",
    "for _model in  models:\n",
    "    average_loss += cross_entropy[_model]\n",
    "    average_acc += accuracy[_model]\n",
    "    print(f\"{_model}: acc: {accuracy[_model]:.4f} loss: {cross_entropy[_model]:.4f}\")\n",
    "\n",
    "print(f\"\\nAverage accuracy: {average_acc/5:.4f}  Average loss: {average_loss/5:.4f}\")"
   ]
  },
  {
   "cell_type": "markdown",
   "id": "d8c1f126",
   "metadata": {
    "papermill": {
     "duration": 0.017183,
     "end_time": "2023-07-19T08:24:20.731857",
     "exception": false,
     "start_time": "2023-07-19T08:24:20.714674",
     "status": "completed"
    },
    "tags": []
   },
   "source": [
    "# Variable importances\n",
    "\n",
    "Variable importances generally indicate how much a feature contributes to the model predictions or quality. There are several ways to identify important features using TensorFlow Decision Forests. Let us pick one model from models dict and inspect it.\n",
    "\n",
    "Let us list the available `Variable Importances` for Decision Trees:"
   ]
  },
  {
   "cell_type": "code",
   "execution_count": 22,
   "id": "6e5fa259",
   "metadata": {
    "execution": {
     "iopub.execute_input": "2023-07-19T08:24:20.768762Z",
     "iopub.status.busy": "2023-07-19T08:24:20.768358Z",
     "iopub.status.idle": "2023-07-19T08:24:20.777191Z",
     "shell.execute_reply": "2023-07-19T08:24:20.776064Z"
    },
    "papermill": {
     "duration": 0.029745,
     "end_time": "2023-07-19T08:24:20.779309",
     "exception": false,
     "start_time": "2023-07-19T08:24:20.749564",
     "status": "completed"
    },
    "tags": []
   },
   "outputs": [
    {
     "name": "stdout",
     "output_type": "stream",
     "text": [
      "Available variable importances:\n",
      "\t NUM_AS_ROOT\n",
      "\t NUM_NODES\n",
      "\t INV_MEAN_MIN_DEPTH\n",
      "\t SUM_SCORE\n"
     ]
    }
   ],
   "source": [
    "inspector = models['fold_1'].make_inspector()\n",
    "\n",
    "print(f\"Available variable importances:\")\n",
    "for importance in inspector.variable_importances().keys():\n",
    "  print(\"\\t\", importance)"
   ]
  },
  {
   "cell_type": "markdown",
   "id": "246b03af",
   "metadata": {
    "papermill": {
     "duration": 0.017363,
     "end_time": "2023-07-19T08:24:20.814338",
     "exception": false,
     "start_time": "2023-07-19T08:24:20.796975",
     "status": "completed"
    },
    "tags": []
   },
   "source": [
    "As an example, let us display the important features for the Variable Importance `NUM_AS_ROOT`.\n",
    "\n",
    "The larger the importance score for `NUM_AS_ROOT`, the more impact it has on the outcome of the model.\n",
    "\n",
    "By default, the list is sorted from the most important to the least. From the output you can infer that the feature at the top of the list is used as the root node in most number of trees in the random forest than any other feature."
   ]
  },
  {
   "cell_type": "code",
   "execution_count": 23,
   "id": "cf7b2cca",
   "metadata": {
    "execution": {
     "iopub.execute_input": "2023-07-19T08:24:20.851379Z",
     "iopub.status.busy": "2023-07-19T08:24:20.850950Z",
     "iopub.status.idle": "2023-07-19T08:24:20.860378Z",
     "shell.execute_reply": "2023-07-19T08:24:20.859208Z"
    },
    "papermill": {
     "duration": 0.030442,
     "end_time": "2023-07-19T08:24:20.862366",
     "exception": false,
     "start_time": "2023-07-19T08:24:20.831924",
     "status": "completed"
    },
    "tags": []
   },
   "outputs": [
    {
     "data": {
      "text/plain": [
       "[(\"DU\" (1; #32), 47.0),\n",
       " (\"DI\" (1; #29), 25.0),\n",
       " (\"DA\" (1; #25), 21.0),\n",
       " (\"AB\" (1; #0), 19.0),\n",
       " (\"FL\" (1; #47), 19.0),\n",
       " (\"GL\" (1; #55), 18.0),\n",
       " (\"BQ\" (1; #12), 16.0),\n",
       " (\"CR\" (1; #21), 16.0),\n",
       " (\"FD_\" (1; #44), 16.0),\n",
       " (\"CD_\" (1; #17), 14.0),\n",
       " (\"AF\" (1; #1), 13.0),\n",
       " (\"CC\" (1; #16), 8.0),\n",
       " (\"DF\" (1; #27), 7.0),\n",
       " (\"AR\" (1; #4), 6.0),\n",
       " (\"DH\" (1; #28), 6.0),\n",
       " (\"EB\" (1; #35), 6.0),\n",
       " (\"FI\" (1; #46), 6.0),\n",
       " (\"BC\" (1; #8), 5.0),\n",
       " (\"EH\" (1; #38), 5.0),\n",
       " (\"FR\" (1; #48), 5.0),\n",
       " (\"DE\" (1; #26), 4.0),\n",
       " (\"DL\" (1; #30), 4.0),\n",
       " (\"EE\" (1; #36), 4.0),\n",
       " (\"FE\" (1; #45), 4.0),\n",
       " (\"EU\" (1; #42), 3.0),\n",
       " (\"BN\" (1; #10), 2.0),\n",
       " (\"EL\" (1; #40), 1.0)]"
      ]
     },
     "execution_count": 23,
     "metadata": {},
     "output_type": "execute_result"
    }
   ],
   "source": [
    "# Each line is: (feature name, (index of the feature), importance score)\n",
    "inspector.variable_importances()[\"NUM_AS_ROOT\"]"
   ]
  },
  {
   "cell_type": "markdown",
   "id": "cadac796",
   "metadata": {
    "papermill": {
     "duration": 0.017659,
     "end_time": "2023-07-19T08:24:20.898567",
     "exception": false,
     "start_time": "2023-07-19T08:24:20.880908",
     "status": "completed"
    },
    "tags": []
   },
   "source": [
    "# Submission"
   ]
  },
  {
   "cell_type": "code",
   "execution_count": 24,
   "id": "dbeb5875",
   "metadata": {
    "execution": {
     "iopub.execute_input": "2023-07-19T08:24:20.936209Z",
     "iopub.status.busy": "2023-07-19T08:24:20.935274Z",
     "iopub.status.idle": "2023-07-19T08:24:21.154996Z",
     "shell.execute_reply": "2023-07-19T08:24:21.154019Z"
    },
    "papermill": {
     "duration": 0.240969,
     "end_time": "2023-07-19T08:24:21.157158",
     "exception": false,
     "start_time": "2023-07-19T08:24:20.916189",
     "status": "completed"
    },
    "tags": []
   },
   "outputs": [
    {
     "name": "stdout",
     "output_type": "stream",
     "text": [
      "Warning: Some of the feature names have been changed automatically to be compatible with SavedModels because fix_feature_names=True.\n",
      "1/1 [==============================] - 0s 134ms/step\n",
      "[[0.65333357, 0.34666643], [0.65333357, 0.34666643], [0.65333357, 0.34666643], [0.65333357, 0.34666643], [0.65333357, 0.34666643]]\n"
     ]
    }
   ],
   "source": [
    "test_df = pd.read_csv('/kaggle/input/icr-identify-age-related-conditions/test.csv')\n",
    "test_ds_pd = test_df\n",
    "test_df_columns = test_ds_pd.columns.tolist()\n",
    "TEST_FEATURE_COLUMNS = [i for i in FEATURE_COLUMNS \\\n",
    "                        if i in test_df_columns and i != \"Class\"]\n",
    "test_ds_pd = test_ds_pd[TEST_FEATURE_COLUMNS]\n",
    "test_ds = tfdf.keras.pd_dataframe_to_tf_dataset(test_ds_pd)\n",
    "predictions = models['fold_1'].predict(test_ds)\n",
    "n_predictions= [[round(abs(i-1), 8), i] for i in predictions.ravel()]\n",
    "print(n_predictions)"
   ]
  },
  {
   "cell_type": "code",
   "execution_count": 25,
   "id": "3532cc90",
   "metadata": {
    "execution": {
     "iopub.execute_input": "2023-07-19T08:24:21.195531Z",
     "iopub.status.busy": "2023-07-19T08:24:21.195111Z",
     "iopub.status.idle": "2023-07-19T08:24:21.212391Z",
     "shell.execute_reply": "2023-07-19T08:24:21.211367Z"
    },
    "papermill": {
     "duration": 0.038988,
     "end_time": "2023-07-19T08:24:21.214840",
     "exception": false,
     "start_time": "2023-07-19T08:24:21.175852",
     "status": "completed"
    },
    "tags": []
   },
   "outputs": [],
   "source": [
    "sample_submission = pd.read_csv(\"/kaggle/input/icr-identify-age-related-conditions/sample_submission.csv\")\n",
    "sample_submission[['class_0', 'class_1']] = n_predictions\n",
    "sample_submission.to_csv('/kaggle/working/submission.csv', index=False)"
   ]
  }
 ],
 "metadata": {
  "kernelspec": {
   "display_name": "Python 3",
   "language": "python",
   "name": "python3"
  },
  "language_info": {
   "codemirror_mode": {
    "name": "ipython",
    "version": 3
   },
   "file_extension": ".py",
   "mimetype": "text/x-python",
   "name": "python",
   "nbconvert_exporter": "python",
   "pygments_lexer": "ipython3",
   "version": "3.10.10"
  },
  "papermill": {
   "default_parameters": {},
   "duration": 47.133437,
   "end_time": "2023-07-19T08:24:23.881689",
   "environment_variables": {},
   "exception": null,
   "input_path": "__notebook__.ipynb",
   "output_path": "__notebook__.ipynb",
   "parameters": {},
   "start_time": "2023-07-19T08:23:36.748252",
   "version": "2.4.0"
  }
 },
 "nbformat": 4,
 "nbformat_minor": 5
}
