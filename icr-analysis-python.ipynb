{
 "cells": [
  {
   "cell_type": "markdown",
   "id": "fd932e8b",
   "metadata": {
    "papermill": {
     "duration": 0.014457,
     "end_time": "2023-07-24T16:08:26.954009",
     "exception": false,
     "start_time": "2023-07-24T16:08:26.939552",
     "status": "completed"
    },
    "tags": []
   },
   "source": [
    "# ICR - Identifying Age-Related Conditions Dataset with TensorFlow Decision Forests"
   ]
  },
  {
   "cell_type": "markdown",
   "id": "fef2fa05",
   "metadata": {
    "papermill": {
     "duration": 0.013798,
     "end_time": "2023-07-24T16:08:26.981947",
     "exception": false,
     "start_time": "2023-07-24T16:08:26.968149",
     "status": "completed"
    },
    "tags": []
   },
   "source": [
    "This notebook walks you through how to train a baseline Random Forest model using TensorFlow Decision Forests on the ICR - Identifying Age-Related Conditions dataset made available for this competition. The goal of the model is to predict if a person has one or more of any of three medical conditions or none.\n",
    "\n",
    "Roughly, the code will look as follows:\n",
    "\n",
    "```\n",
    "import tensorflow_decision_forests as tfdf\n",
    "import pandas as pd\n",
    "\n",
    "dataset = pd.read_csv(\"project/dataset.csv\")\n",
    "tf_dataset = tfdf.keras.pd_dataframe_to_tf_dataset(dataset, label=\"my_label\")\n",
    "\n",
    "model = tfdf.keras.RandomForestModel()\n",
    "model.fit(tf_dataset)\n",
    "\n",
    "print(model.summary())\n",
    "```\n",
    "\n",
    "Decision Forests are a family of tree-based models including Random Forests and Gradient Boosted Trees. They are the best place to start when working with tabular data, and will often outperform (or provide a strong baseline) before you begin experimenting with neural networks."
   ]
  },
  {
   "cell_type": "markdown",
   "id": "ac2a7fab",
   "metadata": {
    "papermill": {
     "duration": 0.013651,
     "end_time": "2023-07-24T16:08:27.009534",
     "exception": false,
     "start_time": "2023-07-24T16:08:26.995883",
     "status": "completed"
    },
    "tags": []
   },
   "source": [
    "# Import the libraries"
   ]
  },
  {
   "cell_type": "code",
   "execution_count": 1,
   "id": "647f8c4d",
   "metadata": {
    "execution": {
     "iopub.execute_input": "2023-07-24T16:08:27.039670Z",
     "iopub.status.busy": "2023-07-24T16:08:27.039103Z",
     "iopub.status.idle": "2023-07-24T16:08:29.155982Z",
     "shell.execute_reply": "2023-07-24T16:08:29.154874Z"
    },
    "papermill": {
     "duration": 2.135232,
     "end_time": "2023-07-24T16:08:29.158697",
     "exception": false,
     "start_time": "2023-07-24T16:08:27.023465",
     "status": "completed"
    },
    "tags": []
   },
   "outputs": [],
   "source": [
    "#import tensorflow as tf\n",
    "#import tensorflow_decision_forests as tfdf\n",
    "import pandas as pd\n",
    "import numpy as np\n",
    "import seaborn as sns\n",
    "import matplotlib.pyplot as plt\n",
    "import sklearn \n",
    "from sklearn import linear_model\n",
    "\n",
    "from sklearn.model_selection import cross_val_score\n",
    "from sklearn.datasets import make_blobs\n",
    "from sklearn.ensemble import RandomForestClassifier\n",
    "from sklearn.ensemble import ExtraTreesClassifier\n",
    "from sklearn.tree import DecisionTreeClassifier\n"
   ]
  },
  {
   "cell_type": "code",
   "execution_count": 2,
   "id": "efa249fa",
   "metadata": {
    "execution": {
     "iopub.execute_input": "2023-07-24T16:08:29.189419Z",
     "iopub.status.busy": "2023-07-24T16:08:29.188757Z",
     "iopub.status.idle": "2023-07-24T16:08:29.192984Z",
     "shell.execute_reply": "2023-07-24T16:08:29.192231Z"
    },
    "papermill": {
     "duration": 0.021809,
     "end_time": "2023-07-24T16:08:29.194990",
     "exception": false,
     "start_time": "2023-07-24T16:08:29.173181",
     "status": "completed"
    },
    "tags": []
   },
   "outputs": [],
   "source": [
    "#print(\"TensorFlow v\" + tf.__version__)\n",
    "#print(\"TensorFlow Decision Forests v\" + tfdf.__version__)"
   ]
  },
  {
   "cell_type": "markdown",
   "id": "e15709ba",
   "metadata": {
    "papermill": {
     "duration": 0.013739,
     "end_time": "2023-07-24T16:08:29.222745",
     "exception": false,
     "start_time": "2023-07-24T16:08:29.209006",
     "status": "completed"
    },
    "tags": []
   },
   "source": [
    "# Load the Dataset"
   ]
  },
  {
   "cell_type": "code",
   "execution_count": 3,
   "id": "40353f4e",
   "metadata": {
    "execution": {
     "iopub.execute_input": "2023-07-24T16:08:29.252910Z",
     "iopub.status.busy": "2023-07-24T16:08:29.252258Z",
     "iopub.status.idle": "2023-07-24T16:08:29.294202Z",
     "shell.execute_reply": "2023-07-24T16:08:29.293120Z"
    },
    "papermill": {
     "duration": 0.059921,
     "end_time": "2023-07-24T16:08:29.296532",
     "exception": false,
     "start_time": "2023-07-24T16:08:29.236611",
     "status": "completed"
    },
    "tags": []
   },
   "outputs": [
    {
     "name": "stdout",
     "output_type": "stream",
     "text": [
      "Full train dataset shape is (617, 58)\n"
     ]
    }
   ],
   "source": [
    "dataset_df = pd.read_csv('/kaggle/input/icr-identify-age-related-conditions/train.csv')\n",
    "print(f\"Full train dataset shape is {dataset_df.shape}\")"
   ]
  },
  {
   "cell_type": "markdown",
   "id": "b7616af2",
   "metadata": {
    "papermill": {
     "duration": 0.014119,
     "end_time": "2023-07-24T16:08:29.324582",
     "exception": false,
     "start_time": "2023-07-24T16:08:29.310463",
     "status": "completed"
    },
    "tags": []
   },
   "source": [
    "The data is composed of 58 columns and 617 entries. We can see all 58 dimensions(results will be truncated since the number of columns is big) of our dataset by printing out the first 5 entries using the following code:"
   ]
  },
  {
   "cell_type": "code",
   "execution_count": 4,
   "id": "6f2bbaed",
   "metadata": {
    "execution": {
     "iopub.execute_input": "2023-07-24T16:08:29.354839Z",
     "iopub.status.busy": "2023-07-24T16:08:29.354055Z",
     "iopub.status.idle": "2023-07-24T16:08:29.401636Z",
     "shell.execute_reply": "2023-07-24T16:08:29.400558Z"
    },
    "papermill": {
     "duration": 0.0656,
     "end_time": "2023-07-24T16:08:29.404232",
     "exception": false,
     "start_time": "2023-07-24T16:08:29.338632",
     "status": "completed"
    },
    "tags": []
   },
   "outputs": [
    {
     "data": {
      "text/html": [
       "<div>\n",
       "<style scoped>\n",
       "    .dataframe tbody tr th:only-of-type {\n",
       "        vertical-align: middle;\n",
       "    }\n",
       "\n",
       "    .dataframe tbody tr th {\n",
       "        vertical-align: top;\n",
       "    }\n",
       "\n",
       "    .dataframe thead th {\n",
       "        text-align: right;\n",
       "    }\n",
       "</style>\n",
       "<table border=\"1\" class=\"dataframe\">\n",
       "  <thead>\n",
       "    <tr style=\"text-align: right;\">\n",
       "      <th></th>\n",
       "      <th>Id</th>\n",
       "      <th>AB</th>\n",
       "      <th>AF</th>\n",
       "      <th>AH</th>\n",
       "      <th>AM</th>\n",
       "      <th>AR</th>\n",
       "      <th>AX</th>\n",
       "      <th>AY</th>\n",
       "      <th>AZ</th>\n",
       "      <th>BC</th>\n",
       "      <th>...</th>\n",
       "      <th>FL</th>\n",
       "      <th>FR</th>\n",
       "      <th>FS</th>\n",
       "      <th>GB</th>\n",
       "      <th>GE</th>\n",
       "      <th>GF</th>\n",
       "      <th>GH</th>\n",
       "      <th>GI</th>\n",
       "      <th>GL</th>\n",
       "      <th>Class</th>\n",
       "    </tr>\n",
       "  </thead>\n",
       "  <tbody>\n",
       "    <tr>\n",
       "      <th>0</th>\n",
       "      <td>000ff2bfdfe9</td>\n",
       "      <td>0.209377</td>\n",
       "      <td>3109.03329</td>\n",
       "      <td>85.200147</td>\n",
       "      <td>22.394407</td>\n",
       "      <td>8.138688</td>\n",
       "      <td>0.699861</td>\n",
       "      <td>0.025578</td>\n",
       "      <td>9.812214</td>\n",
       "      <td>5.555634</td>\n",
       "      <td>...</td>\n",
       "      <td>7.298162</td>\n",
       "      <td>1.73855</td>\n",
       "      <td>0.094822</td>\n",
       "      <td>11.339138</td>\n",
       "      <td>72.611063</td>\n",
       "      <td>2003.810319</td>\n",
       "      <td>22.136229</td>\n",
       "      <td>69.834944</td>\n",
       "      <td>0.120343</td>\n",
       "      <td>1</td>\n",
       "    </tr>\n",
       "    <tr>\n",
       "      <th>1</th>\n",
       "      <td>007255e47698</td>\n",
       "      <td>0.145282</td>\n",
       "      <td>978.76416</td>\n",
       "      <td>85.200147</td>\n",
       "      <td>36.968889</td>\n",
       "      <td>8.138688</td>\n",
       "      <td>3.632190</td>\n",
       "      <td>0.025578</td>\n",
       "      <td>13.517790</td>\n",
       "      <td>1.229900</td>\n",
       "      <td>...</td>\n",
       "      <td>0.173229</td>\n",
       "      <td>0.49706</td>\n",
       "      <td>0.568932</td>\n",
       "      <td>9.292698</td>\n",
       "      <td>72.611063</td>\n",
       "      <td>27981.562750</td>\n",
       "      <td>29.135430</td>\n",
       "      <td>32.131996</td>\n",
       "      <td>21.978000</td>\n",
       "      <td>0</td>\n",
       "    </tr>\n",
       "    <tr>\n",
       "      <th>2</th>\n",
       "      <td>013f2bd269f5</td>\n",
       "      <td>0.470030</td>\n",
       "      <td>2635.10654</td>\n",
       "      <td>85.200147</td>\n",
       "      <td>32.360553</td>\n",
       "      <td>8.138688</td>\n",
       "      <td>6.732840</td>\n",
       "      <td>0.025578</td>\n",
       "      <td>12.824570</td>\n",
       "      <td>1.229900</td>\n",
       "      <td>...</td>\n",
       "      <td>7.709560</td>\n",
       "      <td>0.97556</td>\n",
       "      <td>1.198821</td>\n",
       "      <td>37.077772</td>\n",
       "      <td>88.609437</td>\n",
       "      <td>13676.957810</td>\n",
       "      <td>28.022851</td>\n",
       "      <td>35.192676</td>\n",
       "      <td>0.196941</td>\n",
       "      <td>0</td>\n",
       "    </tr>\n",
       "    <tr>\n",
       "      <th>3</th>\n",
       "      <td>043ac50845d5</td>\n",
       "      <td>0.252107</td>\n",
       "      <td>3819.65177</td>\n",
       "      <td>120.201618</td>\n",
       "      <td>77.112203</td>\n",
       "      <td>8.138688</td>\n",
       "      <td>3.685344</td>\n",
       "      <td>0.025578</td>\n",
       "      <td>11.053708</td>\n",
       "      <td>1.229900</td>\n",
       "      <td>...</td>\n",
       "      <td>6.122162</td>\n",
       "      <td>0.49706</td>\n",
       "      <td>0.284466</td>\n",
       "      <td>18.529584</td>\n",
       "      <td>82.416803</td>\n",
       "      <td>2094.262452</td>\n",
       "      <td>39.948656</td>\n",
       "      <td>90.493248</td>\n",
       "      <td>0.155829</td>\n",
       "      <td>0</td>\n",
       "    </tr>\n",
       "    <tr>\n",
       "      <th>4</th>\n",
       "      <td>044fb8a146ec</td>\n",
       "      <td>0.380297</td>\n",
       "      <td>3733.04844</td>\n",
       "      <td>85.200147</td>\n",
       "      <td>14.103738</td>\n",
       "      <td>8.138688</td>\n",
       "      <td>3.942255</td>\n",
       "      <td>0.054810</td>\n",
       "      <td>3.396778</td>\n",
       "      <td>102.151980</td>\n",
       "      <td>...</td>\n",
       "      <td>8.153058</td>\n",
       "      <td>48.50134</td>\n",
       "      <td>0.121914</td>\n",
       "      <td>16.408728</td>\n",
       "      <td>146.109943</td>\n",
       "      <td>8524.370502</td>\n",
       "      <td>45.381316</td>\n",
       "      <td>36.262628</td>\n",
       "      <td>0.096614</td>\n",
       "      <td>1</td>\n",
       "    </tr>\n",
       "  </tbody>\n",
       "</table>\n",
       "<p>5 rows × 58 columns</p>\n",
       "</div>"
      ],
      "text/plain": [
       "             Id        AB          AF          AH         AM        AR  \\\n",
       "0  000ff2bfdfe9  0.209377  3109.03329   85.200147  22.394407  8.138688   \n",
       "1  007255e47698  0.145282   978.76416   85.200147  36.968889  8.138688   \n",
       "2  013f2bd269f5  0.470030  2635.10654   85.200147  32.360553  8.138688   \n",
       "3  043ac50845d5  0.252107  3819.65177  120.201618  77.112203  8.138688   \n",
       "4  044fb8a146ec  0.380297  3733.04844   85.200147  14.103738  8.138688   \n",
       "\n",
       "         AX        AY         AZ          BC  ...        FL        FR  \\\n",
       "0  0.699861  0.025578   9.812214    5.555634  ...  7.298162   1.73855   \n",
       "1  3.632190  0.025578  13.517790    1.229900  ...  0.173229   0.49706   \n",
       "2  6.732840  0.025578  12.824570    1.229900  ...  7.709560   0.97556   \n",
       "3  3.685344  0.025578  11.053708    1.229900  ...  6.122162   0.49706   \n",
       "4  3.942255  0.054810   3.396778  102.151980  ...  8.153058  48.50134   \n",
       "\n",
       "         FS         GB          GE            GF         GH         GI  \\\n",
       "0  0.094822  11.339138   72.611063   2003.810319  22.136229  69.834944   \n",
       "1  0.568932   9.292698   72.611063  27981.562750  29.135430  32.131996   \n",
       "2  1.198821  37.077772   88.609437  13676.957810  28.022851  35.192676   \n",
       "3  0.284466  18.529584   82.416803   2094.262452  39.948656  90.493248   \n",
       "4  0.121914  16.408728  146.109943   8524.370502  45.381316  36.262628   \n",
       "\n",
       "          GL  Class  \n",
       "0   0.120343      1  \n",
       "1  21.978000      0  \n",
       "2   0.196941      0  \n",
       "3   0.155829      0  \n",
       "4   0.096614      1  \n",
       "\n",
       "[5 rows x 58 columns]"
      ]
     },
     "execution_count": 4,
     "metadata": {},
     "output_type": "execute_result"
    }
   ],
   "source": [
    "dataset_df.head()"
   ]
  },
  {
   "cell_type": "markdown",
   "id": "42327e39",
   "metadata": {
    "papermill": {
     "duration": 0.014036,
     "end_time": "2023-07-24T16:08:29.432829",
     "exception": false,
     "start_time": "2023-07-24T16:08:29.418793",
     "status": "completed"
    },
    "tags": []
   },
   "source": [
    "`Class` is the label column indicating if a person has one or more of any of the three medical conditions (i.e,`Class 1`), or none of the three medical conditions (i.e,`Class 0`).\n",
    "Given the features of the dataset, the goal of our model is to predict the value of `Class` for any person."
   ]
  },
  {
   "cell_type": "markdown",
   "id": "6c254a98",
   "metadata": {
    "papermill": {
     "duration": 0.014188,
     "end_time": "2023-07-24T16:08:29.461199",
     "exception": false,
     "start_time": "2023-07-24T16:08:29.447011",
     "status": "completed"
    },
    "tags": []
   },
   "source": [
    "# Quick basic dataset exploration"
   ]
  },
  {
   "cell_type": "code",
   "execution_count": 5,
   "id": "1cd821f2",
   "metadata": {
    "execution": {
     "iopub.execute_input": "2023-07-24T16:08:29.492288Z",
     "iopub.status.busy": "2023-07-24T16:08:29.491474Z",
     "iopub.status.idle": "2023-07-24T16:08:29.496010Z",
     "shell.execute_reply": "2023-07-24T16:08:29.495269Z"
    },
    "papermill": {
     "duration": 0.022632,
     "end_time": "2023-07-24T16:08:29.498130",
     "exception": false,
     "start_time": "2023-07-24T16:08:29.475498",
     "status": "completed"
    },
    "tags": []
   },
   "outputs": [],
   "source": [
    "#dataset_df.info()"
   ]
  },
  {
   "cell_type": "markdown",
   "id": "f4f3b6ba",
   "metadata": {
    "papermill": {
     "duration": 0.013773,
     "end_time": "2023-07-24T16:08:29.525571",
     "exception": false,
     "start_time": "2023-07-24T16:08:29.511798",
     "status": "completed"
    },
    "tags": []
   },
   "source": [
    "## Pie chart for label column: Class"
   ]
  },
  {
   "cell_type": "code",
   "execution_count": 6,
   "id": "4fb22959",
   "metadata": {
    "execution": {
     "iopub.execute_input": "2023-07-24T16:08:29.556919Z",
     "iopub.status.busy": "2023-07-24T16:08:29.556128Z",
     "iopub.status.idle": "2023-07-24T16:08:29.796082Z",
     "shell.execute_reply": "2023-07-24T16:08:29.794670Z"
    },
    "papermill": {
     "duration": 0.260289,
     "end_time": "2023-07-24T16:08:29.800321",
     "exception": false,
     "start_time": "2023-07-24T16:08:29.540032",
     "status": "completed"
    },
    "tags": []
   },
   "outputs": [
    {
     "data": {
      "text/plain": [
       "<Axes: ylabel='Class'>"
      ]
     },
     "execution_count": 6,
     "metadata": {},
     "output_type": "execute_result"
    },
    {
     "data": {
      "image/png": "[encoded data removed]",
      "text/plain": [
       "<Figure size 640x480 with 1 Axes>"
      ]
     },
     "metadata": {},
     "output_type": "display_data"
    }
   ],
   "source": [
    "plot_df = dataset_df.Class.value_counts()\n",
    "plot_df.plot(kind=\"pie\")"
   ]
  },
  {
   "cell_type": "markdown",
   "id": "d27d49ab",
   "metadata": {
    "papermill": {
     "duration": 0.025164,
     "end_time": "2023-07-24T16:08:29.858444",
     "exception": false,
     "start_time": "2023-07-24T16:08:29.833280",
     "status": "completed"
    },
    "tags": []
   },
   "source": [
    "**Important**: From the pie chart we can see that the dataset is heavily imbalanced since the fraction of positive(`1`) samples is very small compared to the negative(`0`) samples."
   ]
  },
  {
   "cell_type": "markdown",
   "id": "d0d8e3f5",
   "metadata": {
    "papermill": {
     "duration": 0.014988,
     "end_time": "2023-07-24T16:08:29.888601",
     "exception": false,
     "start_time": "2023-07-24T16:08:29.873613",
     "status": "completed"
    },
    "tags": []
   },
   "source": [
    "Data is imbalanced ! let's solve this "
   ]
  },
  {
   "cell_type": "markdown",
   "id": "ae332f03",
   "metadata": {
    "papermill": {
     "duration": 0.015036,
     "end_time": "2023-07-24T16:08:29.918752",
     "exception": false,
     "start_time": "2023-07-24T16:08:29.903716",
     "status": "completed"
    },
    "tags": []
   },
   "source": [
    "Class Weighting "
   ]
  },
  {
   "cell_type": "code",
   "execution_count": 7,
   "id": "3ce8afb8",
   "metadata": {
    "execution": {
     "iopub.execute_input": "2023-07-24T16:08:29.950824Z",
     "iopub.status.busy": "2023-07-24T16:08:29.950421Z",
     "iopub.status.idle": "2023-07-24T16:08:29.957309Z",
     "shell.execute_reply": "2023-07-24T16:08:29.956553Z"
    },
    "papermill": {
     "duration": 0.025902,
     "end_time": "2023-07-24T16:08:29.959858",
     "exception": false,
     "start_time": "2023-07-24T16:08:29.933956",
     "status": "completed"
    },
    "tags": []
   },
   "outputs": [
    {
     "name": "stdout",
     "output_type": "stream",
     "text": [
      "Weight for class 0: 0.61\n",
      "Weight for class 1: 2.86\n"
     ]
    }
   ],
   "source": [
    "# Calculate the number of samples for each label.\n",
    "neg, pos = np.bincount(dataset_df['Class'])\n",
    "\n",
    "# Calculate total samples.\n",
    "total = neg + pos\n",
    "\n",
    "# Calculate the weight for each label.\n",
    "weight_for_0 = total / (neg * 2.0)\n",
    "weight_for_1 = total / (pos *  2.0) \n",
    "\n",
    "class_weight = {0: weight_for_0, 1: weight_for_1}\n",
    "\n",
    "print('Weight for class 0: {:.2f}'.format(weight_for_0))\n",
    "print('Weight for class 1: {:.2f}'.format(weight_for_1))"
   ]
  },
  {
   "cell_type": "markdown",
   "id": "25108385",
   "metadata": {
    "papermill": {
     "duration": 0.014885,
     "end_time": "2023-07-24T16:08:29.989979",
     "exception": false,
     "start_time": "2023-07-24T16:08:29.975094",
     "status": "completed"
    },
    "tags": []
   },
   "source": [
    "========== data splitting ============"
   ]
  },
  {
   "cell_type": "code",
   "execution_count": 8,
   "id": "69b4093d",
   "metadata": {
    "execution": {
     "iopub.execute_input": "2023-07-24T16:08:30.022625Z",
     "iopub.status.busy": "2023-07-24T16:08:30.021537Z",
     "iopub.status.idle": "2023-07-24T16:08:30.030241Z",
     "shell.execute_reply": "2023-07-24T16:08:30.029211Z"
    },
    "papermill": {
     "duration": 0.027364,
     "end_time": "2023-07-24T16:08:30.032409",
     "exception": false,
     "start_time": "2023-07-24T16:08:30.005045",
     "status": "completed"
    },
    "tags": []
   },
   "outputs": [
    {
     "data": {
      "text/plain": [
       "0.0036606494159727265"
      ]
     },
     "execution_count": 8,
     "metadata": {},
     "output_type": "execute_result"
    }
   ],
   "source": [
    "dataset_df.isna().mean().mean()"
   ]
  },
  {
   "cell_type": "markdown",
   "id": "cab8837f",
   "metadata": {
    "papermill": {
     "duration": 0.015071,
     "end_time": "2023-07-24T16:08:30.063002",
     "exception": false,
     "start_time": "2023-07-24T16:08:30.047931",
     "status": "completed"
    },
    "tags": []
   },
   "source": [
    "There soma NA's in dataset. Let's impute it. "
   ]
  },
  {
   "cell_type": "code",
   "execution_count": 9,
   "id": "86d243b7",
   "metadata": {
    "execution": {
     "iopub.execute_input": "2023-07-24T16:08:30.095143Z",
     "iopub.status.busy": "2023-07-24T16:08:30.094724Z",
     "iopub.status.idle": "2023-07-24T16:08:30.102801Z",
     "shell.execute_reply": "2023-07-24T16:08:30.101797Z"
    },
    "papermill": {
     "duration": 0.027101,
     "end_time": "2023-07-24T16:08:30.105343",
     "exception": false,
     "start_time": "2023-07-24T16:08:30.078242",
     "status": "completed"
    },
    "tags": []
   },
   "outputs": [],
   "source": [
    "# select numeric data\n",
    "X = dataset_df.select_dtypes(exclude=object).drop(\"Class\",axis = 1)"
   ]
  },
  {
   "cell_type": "code",
   "execution_count": 10,
   "id": "1644c853",
   "metadata": {
    "execution": {
     "iopub.execute_input": "2023-07-24T16:08:30.137355Z",
     "iopub.status.busy": "2023-07-24T16:08:30.136960Z",
     "iopub.status.idle": "2023-07-24T16:08:30.144936Z",
     "shell.execute_reply": "2023-07-24T16:08:30.143912Z"
    },
    "papermill": {
     "duration": 0.026384,
     "end_time": "2023-07-24T16:08:30.147009",
     "exception": false,
     "start_time": "2023-07-24T16:08:30.120625",
     "status": "completed"
    },
    "tags": []
   },
   "outputs": [
    {
     "data": {
      "text/plain": [
       "0.003860321202298512"
      ]
     },
     "execution_count": 10,
     "metadata": {},
     "output_type": "execute_result"
    }
   ],
   "source": [
    "# proportion NA's\n",
    "X.isna().mean().mean()"
   ]
  },
  {
   "cell_type": "code",
   "execution_count": 11,
   "id": "cabd47f5",
   "metadata": {
    "execution": {
     "iopub.execute_input": "2023-07-24T16:08:30.179822Z",
     "iopub.status.busy": "2023-07-24T16:08:30.179148Z",
     "iopub.status.idle": "2023-07-24T16:08:30.201798Z",
     "shell.execute_reply": "2023-07-24T16:08:30.200881Z"
    },
    "papermill": {
     "duration": 0.041949,
     "end_time": "2023-07-24T16:08:30.204256",
     "exception": false,
     "start_time": "2023-07-24T16:08:30.162307",
     "status": "completed"
    },
    "tags": []
   },
   "outputs": [],
   "source": [
    "# impute dataset\n",
    "#import numpy as np\n",
    "import numpy as np\n",
    "#from sklearn.impute import KNNImputer\n",
    "#imputer = KNNImputer(n_neighbors=5)\n",
    "for var in X.columns :\n",
    "    if X[var].isna().mean() > 0 :\n",
    "        X[X[var].isna()] = X[var].median()\n",
    "   "
   ]
  },
  {
   "cell_type": "code",
   "execution_count": 12,
   "id": "b9995da9",
   "metadata": {
    "execution": {
     "iopub.execute_input": "2023-07-24T16:08:30.236932Z",
     "iopub.status.busy": "2023-07-24T16:08:30.236214Z",
     "iopub.status.idle": "2023-07-24T16:08:30.242975Z",
     "shell.execute_reply": "2023-07-24T16:08:30.242280Z"
    },
    "papermill": {
     "duration": 0.025201,
     "end_time": "2023-07-24T16:08:30.244833",
     "exception": false,
     "start_time": "2023-07-24T16:08:30.219632",
     "status": "completed"
    },
    "tags": []
   },
   "outputs": [
    {
     "data": {
      "text/plain": [
       "0.0"
      ]
     },
     "execution_count": 12,
     "metadata": {},
     "output_type": "execute_result"
    }
   ],
   "source": [
    "# check proportion of NA's\n",
    "X.isna().mean().mean()"
   ]
  },
  {
   "cell_type": "code",
   "execution_count": 13,
   "id": "34ed0805",
   "metadata": {
    "execution": {
     "iopub.execute_input": "2023-07-24T16:08:30.278150Z",
     "iopub.status.busy": "2023-07-24T16:08:30.277411Z",
     "iopub.status.idle": "2023-07-24T16:08:30.293545Z",
     "shell.execute_reply": "2023-07-24T16:08:30.292390Z"
    },
    "papermill": {
     "duration": 0.035904,
     "end_time": "2023-07-24T16:08:30.296110",
     "exception": false,
     "start_time": "2023-07-24T16:08:30.260206",
     "status": "completed"
    },
    "tags": []
   },
   "outputs": [],
   "source": [
    "# replace imputed columns in original dataset \n",
    "dataset_df[X.columns.to_list()] = X"
   ]
  },
  {
   "cell_type": "code",
   "execution_count": 14,
   "id": "0046c1a5",
   "metadata": {
    "execution": {
     "iopub.execute_input": "2023-07-24T16:08:30.329174Z",
     "iopub.status.busy": "2023-07-24T16:08:30.328752Z",
     "iopub.status.idle": "2023-07-24T16:08:30.357663Z",
     "shell.execute_reply": "2023-07-24T16:08:30.356624Z"
    },
    "papermill": {
     "duration": 0.048229,
     "end_time": "2023-07-24T16:08:30.360183",
     "exception": false,
     "start_time": "2023-07-24T16:08:30.311954",
     "status": "completed"
    },
    "tags": []
   },
   "outputs": [
    {
     "data": {
      "text/html": [
       "<div>\n",
       "<style scoped>\n",
       "    .dataframe tbody tr th:only-of-type {\n",
       "        vertical-align: middle;\n",
       "    }\n",
       "\n",
       "    .dataframe tbody tr th {\n",
       "        vertical-align: top;\n",
       "    }\n",
       "\n",
       "    .dataframe thead th {\n",
       "        text-align: right;\n",
       "    }\n",
       "</style>\n",
       "<table border=\"1\" class=\"dataframe\">\n",
       "  <thead>\n",
       "    <tr style=\"text-align: right;\">\n",
       "      <th></th>\n",
       "      <th>Id</th>\n",
       "      <th>AB</th>\n",
       "      <th>AF</th>\n",
       "      <th>AH</th>\n",
       "      <th>AM</th>\n",
       "      <th>AR</th>\n",
       "      <th>AX</th>\n",
       "      <th>AY</th>\n",
       "      <th>AZ</th>\n",
       "      <th>BC</th>\n",
       "      <th>...</th>\n",
       "      <th>FL</th>\n",
       "      <th>FR</th>\n",
       "      <th>FS</th>\n",
       "      <th>GB</th>\n",
       "      <th>GE</th>\n",
       "      <th>GF</th>\n",
       "      <th>GH</th>\n",
       "      <th>GI</th>\n",
       "      <th>GL</th>\n",
       "      <th>Class</th>\n",
       "    </tr>\n",
       "  </thead>\n",
       "  <tbody>\n",
       "    <tr>\n",
       "      <th>0</th>\n",
       "      <td>000ff2bfdfe9</td>\n",
       "      <td>0.209377</td>\n",
       "      <td>3109.03329</td>\n",
       "      <td>85.200147</td>\n",
       "      <td>22.394407</td>\n",
       "      <td>8.138688</td>\n",
       "      <td>0.699861</td>\n",
       "      <td>0.025578</td>\n",
       "      <td>9.812214</td>\n",
       "      <td>5.555634</td>\n",
       "      <td>...</td>\n",
       "      <td>7.298162</td>\n",
       "      <td>1.73855</td>\n",
       "      <td>0.094822</td>\n",
       "      <td>11.339138</td>\n",
       "      <td>72.611063</td>\n",
       "      <td>2003.810319</td>\n",
       "      <td>22.136229</td>\n",
       "      <td>69.834944</td>\n",
       "      <td>0.120343</td>\n",
       "      <td>1</td>\n",
       "    </tr>\n",
       "    <tr>\n",
       "      <th>1</th>\n",
       "      <td>007255e47698</td>\n",
       "      <td>0.145282</td>\n",
       "      <td>978.76416</td>\n",
       "      <td>85.200147</td>\n",
       "      <td>36.968889</td>\n",
       "      <td>8.138688</td>\n",
       "      <td>3.632190</td>\n",
       "      <td>0.025578</td>\n",
       "      <td>13.517790</td>\n",
       "      <td>1.229900</td>\n",
       "      <td>...</td>\n",
       "      <td>0.173229</td>\n",
       "      <td>0.49706</td>\n",
       "      <td>0.568932</td>\n",
       "      <td>9.292698</td>\n",
       "      <td>72.611063</td>\n",
       "      <td>27981.562750</td>\n",
       "      <td>29.135430</td>\n",
       "      <td>32.131996</td>\n",
       "      <td>21.978000</td>\n",
       "      <td>0</td>\n",
       "    </tr>\n",
       "    <tr>\n",
       "      <th>2</th>\n",
       "      <td>013f2bd269f5</td>\n",
       "      <td>0.470030</td>\n",
       "      <td>2635.10654</td>\n",
       "      <td>85.200147</td>\n",
       "      <td>32.360553</td>\n",
       "      <td>8.138688</td>\n",
       "      <td>6.732840</td>\n",
       "      <td>0.025578</td>\n",
       "      <td>12.824570</td>\n",
       "      <td>1.229900</td>\n",
       "      <td>...</td>\n",
       "      <td>7.709560</td>\n",
       "      <td>0.97556</td>\n",
       "      <td>1.198821</td>\n",
       "      <td>37.077772</td>\n",
       "      <td>88.609437</td>\n",
       "      <td>13676.957810</td>\n",
       "      <td>28.022851</td>\n",
       "      <td>35.192676</td>\n",
       "      <td>0.196941</td>\n",
       "      <td>0</td>\n",
       "    </tr>\n",
       "    <tr>\n",
       "      <th>3</th>\n",
       "      <td>043ac50845d5</td>\n",
       "      <td>0.252107</td>\n",
       "      <td>3819.65177</td>\n",
       "      <td>120.201618</td>\n",
       "      <td>77.112203</td>\n",
       "      <td>8.138688</td>\n",
       "      <td>3.685344</td>\n",
       "      <td>0.025578</td>\n",
       "      <td>11.053708</td>\n",
       "      <td>1.229900</td>\n",
       "      <td>...</td>\n",
       "      <td>6.122162</td>\n",
       "      <td>0.49706</td>\n",
       "      <td>0.284466</td>\n",
       "      <td>18.529584</td>\n",
       "      <td>82.416803</td>\n",
       "      <td>2094.262452</td>\n",
       "      <td>39.948656</td>\n",
       "      <td>90.493248</td>\n",
       "      <td>0.155829</td>\n",
       "      <td>0</td>\n",
       "    </tr>\n",
       "    <tr>\n",
       "      <th>4</th>\n",
       "      <td>044fb8a146ec</td>\n",
       "      <td>0.380297</td>\n",
       "      <td>3733.04844</td>\n",
       "      <td>85.200147</td>\n",
       "      <td>14.103738</td>\n",
       "      <td>8.138688</td>\n",
       "      <td>3.942255</td>\n",
       "      <td>0.054810</td>\n",
       "      <td>3.396778</td>\n",
       "      <td>102.151980</td>\n",
       "      <td>...</td>\n",
       "      <td>8.153058</td>\n",
       "      <td>48.50134</td>\n",
       "      <td>0.121914</td>\n",
       "      <td>16.408728</td>\n",
       "      <td>146.109943</td>\n",
       "      <td>8524.370502</td>\n",
       "      <td>45.381316</td>\n",
       "      <td>36.262628</td>\n",
       "      <td>0.096614</td>\n",
       "      <td>1</td>\n",
       "    </tr>\n",
       "  </tbody>\n",
       "</table>\n",
       "<p>5 rows × 58 columns</p>\n",
       "</div>"
      ],
      "text/plain": [
       "             Id        AB          AF          AH         AM        AR  \\\n",
       "0  000ff2bfdfe9  0.209377  3109.03329   85.200147  22.394407  8.138688   \n",
       "1  007255e47698  0.145282   978.76416   85.200147  36.968889  8.138688   \n",
       "2  013f2bd269f5  0.470030  2635.10654   85.200147  32.360553  8.138688   \n",
       "3  043ac50845d5  0.252107  3819.65177  120.201618  77.112203  8.138688   \n",
       "4  044fb8a146ec  0.380297  3733.04844   85.200147  14.103738  8.138688   \n",
       "\n",
       "         AX        AY         AZ          BC  ...        FL        FR  \\\n",
       "0  0.699861  0.025578   9.812214    5.555634  ...  7.298162   1.73855   \n",
       "1  3.632190  0.025578  13.517790    1.229900  ...  0.173229   0.49706   \n",
       "2  6.732840  0.025578  12.824570    1.229900  ...  7.709560   0.97556   \n",
       "3  3.685344  0.025578  11.053708    1.229900  ...  6.122162   0.49706   \n",
       "4  3.942255  0.054810   3.396778  102.151980  ...  8.153058  48.50134   \n",
       "\n",
       "         FS         GB          GE            GF         GH         GI  \\\n",
       "0  0.094822  11.339138   72.611063   2003.810319  22.136229  69.834944   \n",
       "1  0.568932   9.292698   72.611063  27981.562750  29.135430  32.131996   \n",
       "2  1.198821  37.077772   88.609437  13676.957810  28.022851  35.192676   \n",
       "3  0.284466  18.529584   82.416803   2094.262452  39.948656  90.493248   \n",
       "4  0.121914  16.408728  146.109943   8524.370502  45.381316  36.262628   \n",
       "\n",
       "          GL  Class  \n",
       "0   0.120343      1  \n",
       "1  21.978000      0  \n",
       "2   0.196941      0  \n",
       "3   0.155829      0  \n",
       "4   0.096614      1  \n",
       "\n",
       "[5 rows x 58 columns]"
      ]
     },
     "execution_count": 14,
     "metadata": {},
     "output_type": "execute_result"
    }
   ],
   "source": [
    "# head dataset \n",
    "dataset_df.head()"
   ]
  },
  {
   "cell_type": "code",
   "execution_count": 15,
   "id": "4f420091",
   "metadata": {
    "execution": {
     "iopub.execute_input": "2023-07-24T16:08:30.394473Z",
     "iopub.status.busy": "2023-07-24T16:08:30.393460Z",
     "iopub.status.idle": "2023-07-24T16:08:30.406671Z",
     "shell.execute_reply": "2023-07-24T16:08:30.405884Z"
    },
    "papermill": {
     "duration": 0.032682,
     "end_time": "2023-07-24T16:08:30.409093",
     "exception": false,
     "start_time": "2023-07-24T16:08:30.376411",
     "status": "completed"
    },
    "tags": []
   },
   "outputs": [],
   "source": [
    "from sklearn.model_selection import train_test_split\n",
    "y = dataset_df[\"Class\"]\n",
    "train0, test = train_test_split(dataset_df,test_size = 0.2,\n",
    "                                stratify=dataset_df.Class, random_state=42)\n",
    "train, valid = train_test_split(train0,test_size = 0.2,\n",
    "                                stratify=train0.Class, random_state=42)"
   ]
  },
  {
   "cell_type": "markdown",
   "id": "b2f6cd16",
   "metadata": {
    "papermill": {
     "duration": 0.015524,
     "end_time": "2023-07-24T16:08:30.440530",
     "exception": false,
     "start_time": "2023-07-24T16:08:30.425006",
     "status": "completed"
    },
    "tags": []
   },
   "source": [
    "=========== model testing ========="
   ]
  },
  {
   "cell_type": "markdown",
   "id": "3b49dc37",
   "metadata": {
    "papermill": {
     "duration": 0.015567,
     "end_time": "2023-07-24T16:08:30.471958",
     "exception": false,
     "start_time": "2023-07-24T16:08:30.456391",
     "status": "completed"
    },
    "tags": []
   },
   "source": [
    "=== Logistic regression === "
   ]
  },
  {
   "cell_type": "code",
   "execution_count": 16,
   "id": "78ec41d9",
   "metadata": {
    "execution": {
     "iopub.execute_input": "2023-07-24T16:08:30.505107Z",
     "iopub.status.busy": "2023-07-24T16:08:30.504150Z",
     "iopub.status.idle": "2023-07-24T16:08:30.517381Z",
     "shell.execute_reply": "2023-07-24T16:08:30.516301Z"
    },
    "papermill": {
     "duration": 0.032712,
     "end_time": "2023-07-24T16:08:30.519990",
     "exception": false,
     "start_time": "2023-07-24T16:08:30.487278",
     "status": "completed"
    },
    "tags": []
   },
   "outputs": [],
   "source": [
    "#### logistic regresion\n",
    "num_var = [var for var in dataset_df.columns if var not in [\"Id\",\"EJ\",\"Class\"]]\n",
    "X_train = train0[num_var]\n",
    "y_train0 = y[X_train.index]\n",
    "\n",
    "# scale X \n",
    "from sklearn import preprocessing\n",
    "scaler = preprocessing.StandardScaler().fit(X_train) # scaler\n",
    "X_train_scaled = scaler.transform(X_train)"
   ]
  },
  {
   "cell_type": "code",
   "execution_count": 17,
   "id": "c248ae66",
   "metadata": {
    "execution": {
     "iopub.execute_input": "2023-07-24T16:08:30.553979Z",
     "iopub.status.busy": "2023-07-24T16:08:30.553524Z",
     "iopub.status.idle": "2023-07-24T16:08:30.609943Z",
     "shell.execute_reply": "2023-07-24T16:08:30.608295Z"
    },
    "papermill": {
     "duration": 0.078049,
     "end_time": "2023-07-24T16:08:30.614279",
     "exception": false,
     "start_time": "2023-07-24T16:08:30.536230",
     "status": "completed"
    },
    "tags": []
   },
   "outputs": [],
   "source": [
    "# logistic regression \n",
    "from sklearn.linear_model import LogisticRegression\n",
    "regClf = LogisticRegression(random_state=42,\n",
    "                             class_weight ='balanced',\n",
    "                             multi_class = 'auto',\n",
    "                             max_iter= 1000)\n",
    "regClfModel = regClf.fit(X_train_scaled, y_train0)\n",
    " "
   ]
  },
  {
   "cell_type": "code",
   "execution_count": 18,
   "id": "f7c4315a",
   "metadata": {
    "execution": {
     "iopub.execute_input": "2023-07-24T16:08:30.711552Z",
     "iopub.status.busy": "2023-07-24T16:08:30.710651Z",
     "iopub.status.idle": "2023-07-24T16:08:30.748066Z",
     "shell.execute_reply": "2023-07-24T16:08:30.746566Z"
    },
    "papermill": {
     "duration": 0.0779,
     "end_time": "2023-07-24T16:08:30.752397",
     "exception": false,
     "start_time": "2023-07-24T16:08:30.674497",
     "status": "completed"
    },
    "tags": []
   },
   "outputs": [],
   "source": [
    "# ridge \n",
    "from sklearn.linear_model import RidgeClassifier\n",
    "ridgeClf = RidgeClassifier(alpha = 0.1,\n",
    "                                random_state=42,\n",
    "                               class_weight ='balanced',\n",
    "                           max_iter= 1000\n",
    "                                ).fit(X_train_scaled,\n",
    "                                 y_train0,\n",
    "                                )\n"
   ]
  },
  {
   "cell_type": "code",
   "execution_count": 19,
   "id": "0c13f5ce",
   "metadata": {
    "execution": {
     "iopub.execute_input": "2023-07-24T16:08:30.821477Z",
     "iopub.status.busy": "2023-07-24T16:08:30.820724Z",
     "iopub.status.idle": "2023-07-24T16:08:30.841971Z",
     "shell.execute_reply": "2023-07-24T16:08:30.840435Z"
    },
    "papermill": {
     "duration": 0.061183,
     "end_time": "2023-07-24T16:08:30.846332",
     "exception": false,
     "start_time": "2023-07-24T16:08:30.785149",
     "status": "completed"
    },
    "tags": []
   },
   "outputs": [],
   "source": [
    "# ridgeCV\n",
    "from sklearn import linear_model\n",
    "ridgeCV = linear_model.RidgeCV(alphas=np.logspace(-6, 6, 13),cv = 5)"
   ]
  },
  {
   "cell_type": "code",
   "execution_count": 20,
   "id": "7a6937f4",
   "metadata": {
    "execution": {
     "iopub.execute_input": "2023-07-24T16:08:30.885653Z",
     "iopub.status.busy": "2023-07-24T16:08:30.884952Z",
     "iopub.status.idle": "2023-07-24T16:08:30.890178Z",
     "shell.execute_reply": "2023-07-24T16:08:30.889065Z"
    },
    "papermill": {
     "duration": 0.025862,
     "end_time": "2023-07-24T16:08:30.893135",
     "exception": false,
     "start_time": "2023-07-24T16:08:30.867273",
     "status": "completed"
    },
    "tags": []
   },
   "outputs": [],
   "source": [
    "from sklearn.ensemble import RandomForestClassifier\n",
    "Rf = RandomForestClassifier(n_estimators=10)"
   ]
  },
  {
   "cell_type": "code",
   "execution_count": 21,
   "id": "7a8e5d58",
   "metadata": {
    "execution": {
     "iopub.execute_input": "2023-07-24T16:08:30.930403Z",
     "iopub.status.busy": "2023-07-24T16:08:30.929367Z",
     "iopub.status.idle": "2023-07-24T16:08:30.933817Z",
     "shell.execute_reply": "2023-07-24T16:08:30.933171Z"
    },
    "papermill": {
     "duration": 0.024649,
     "end_time": "2023-07-24T16:08:30.935737",
     "exception": false,
     "start_time": "2023-07-24T16:08:30.911088",
     "status": "completed"
    },
    "tags": []
   },
   "outputs": [],
   "source": [
    "DTclf = DecisionTreeClassifier(max_depth=None, min_samples_split=2,\n",
    "     random_state=0)\n",
    "#scores = cross_val_score(clf, X, y, cv=5)\n",
    "#scores.mean()\n"
   ]
  },
  {
   "cell_type": "code",
   "execution_count": 22,
   "id": "33ee48b1",
   "metadata": {
    "execution": {
     "iopub.execute_input": "2023-07-24T16:08:30.968151Z",
     "iopub.status.busy": "2023-07-24T16:08:30.967446Z",
     "iopub.status.idle": "2023-07-24T16:08:30.973022Z",
     "shell.execute_reply": "2023-07-24T16:08:30.972054Z"
    },
    "papermill": {
     "duration": 0.024619,
     "end_time": "2023-07-24T16:08:30.975376",
     "exception": false,
     "start_time": "2023-07-24T16:08:30.950757",
     "status": "completed"
    },
    "tags": []
   },
   "outputs": [],
   "source": [
    "# extra tree classifier \n",
    "XTclf = ExtraTreesClassifier(n_estimators=10, max_depth=None,\n",
    "     min_samples_split=2, random_state=0)\n",
    " #scores = cross_val_score(clf, X, y, cv=5)\n"
   ]
  },
  {
   "cell_type": "code",
   "execution_count": 23,
   "id": "e2d1f67e",
   "metadata": {
    "execution": {
     "iopub.execute_input": "2023-07-24T16:08:31.008463Z",
     "iopub.status.busy": "2023-07-24T16:08:31.008061Z",
     "iopub.status.idle": "2023-07-24T16:08:31.013079Z",
     "shell.execute_reply": "2023-07-24T16:08:31.012176Z"
    },
    "papermill": {
     "duration": 0.024264,
     "end_time": "2023-07-24T16:08:31.015188",
     "exception": false,
     "start_time": "2023-07-24T16:08:30.990924",
     "status": "completed"
    },
    "tags": []
   },
   "outputs": [],
   "source": [
    "from sklearn.ensemble import BaggingClassifier\n",
    "from sklearn.neighbors import KNeighborsClassifier\n",
    "bagging = BaggingClassifier(KNeighborsClassifier(),\n",
    "                             max_samples=0.5, max_features=0.5)"
   ]
  },
  {
   "cell_type": "code",
   "execution_count": 24,
   "id": "f901077b",
   "metadata": {
    "execution": {
     "iopub.execute_input": "2023-07-24T16:08:31.047502Z",
     "iopub.status.busy": "2023-07-24T16:08:31.046773Z",
     "iopub.status.idle": "2023-07-24T16:08:31.052292Z",
     "shell.execute_reply": "2023-07-24T16:08:31.051255Z"
    },
    "papermill": {
     "duration": 0.023789,
     "end_time": "2023-07-24T16:08:31.054295",
     "exception": false,
     "start_time": "2023-07-24T16:08:31.030506",
     "status": "completed"
    },
    "tags": []
   },
   "outputs": [],
   "source": [
    "from sklearn.ensemble import AdaBoostClassifier\n",
    "\n",
    "adaClf = AdaBoostClassifier(n_estimators=100)"
   ]
  },
  {
   "cell_type": "code",
   "execution_count": 25,
   "id": "bc791ffa",
   "metadata": {
    "execution": {
     "iopub.execute_input": "2023-07-24T16:08:31.086758Z",
     "iopub.status.busy": "2023-07-24T16:08:31.086362Z",
     "iopub.status.idle": "2023-07-24T16:08:31.091556Z",
     "shell.execute_reply": "2023-07-24T16:08:31.090605Z"
    },
    "papermill": {
     "duration": 0.023963,
     "end_time": "2023-07-24T16:08:31.093727",
     "exception": false,
     "start_time": "2023-07-24T16:08:31.069764",
     "status": "completed"
    },
    "tags": []
   },
   "outputs": [],
   "source": [
    "# gradient boosting classifier\n",
    "from sklearn.ensemble import GradientBoostingClassifier\n",
    "\n",
    "gbclf = GradientBoostingClassifier(n_estimators=100, learning_rate=1.0,\n",
    "     max_depth=1, random_state=0)"
   ]
  },
  {
   "cell_type": "code",
   "execution_count": 26,
   "id": "111bff0c",
   "metadata": {
    "execution": {
     "iopub.execute_input": "2023-07-24T16:08:31.126810Z",
     "iopub.status.busy": "2023-07-24T16:08:31.125713Z",
     "iopub.status.idle": "2023-07-24T16:08:31.130363Z",
     "shell.execute_reply": "2023-07-24T16:08:31.129655Z"
    },
    "papermill": {
     "duration": 0.023281,
     "end_time": "2023-07-24T16:08:31.132428",
     "exception": false,
     "start_time": "2023-07-24T16:08:31.109147",
     "status": "completed"
    },
    "tags": []
   },
   "outputs": [],
   "source": [
    "# Histogram based Gradient Boosting Classifier\n",
    "from sklearn.ensemble import HistGradientBoostingClassifier\n",
    "\n",
    "hbGbclf = HistGradientBoostingClassifier(max_iter=100)\n"
   ]
  },
  {
   "cell_type": "code",
   "execution_count": 27,
   "id": "4c970510",
   "metadata": {
    "execution": {
     "iopub.execute_input": "2023-07-24T16:08:31.166367Z",
     "iopub.status.busy": "2023-07-24T16:08:31.165653Z",
     "iopub.status.idle": "2023-07-24T16:08:31.171354Z",
     "shell.execute_reply": "2023-07-24T16:08:31.170642Z"
    },
    "papermill": {
     "duration": 0.025161,
     "end_time": "2023-07-24T16:08:31.173299",
     "exception": false,
     "start_time": "2023-07-24T16:08:31.148138",
     "status": "completed"
    },
    "tags": []
   },
   "outputs": [],
   "source": [
    "# model dictionary\n",
    "model_dict = {\"regClf\": regClf,\n",
    "              \"ridge\": ridgeClf,\n",
    "              \"ridgeCV\": ridgeCV,\n",
    "    # average meodels \n",
    "              \"Rf\": Rf,\n",
    "              \"DTclf\": DTclf,\n",
    "              \"XTclf\": XTclf,\n",
    "              \"bagCl\": bagging,\n",
    "    # boosting models \n",
    "             \"adaClf\": adaClf,\n",
    "            \"gbCl\": gbclf ,\n",
    "            \"hbGbclf\" : hbGbclf\n",
    "    # voting classifier\n",
    "    # stacked (generalization ) classifier\n",
    "        }"
   ]
  },
  {
   "cell_type": "code",
   "execution_count": 28,
   "id": "379c74b9",
   "metadata": {
    "execution": {
     "iopub.execute_input": "2023-07-24T16:08:31.205792Z",
     "iopub.status.busy": "2023-07-24T16:08:31.205414Z",
     "iopub.status.idle": "2023-07-24T16:08:31.212658Z",
     "shell.execute_reply": "2023-07-24T16:08:31.211627Z"
    },
    "papermill": {
     "duration": 0.026072,
     "end_time": "2023-07-24T16:08:31.214736",
     "exception": false,
     "start_time": "2023-07-24T16:08:31.188664",
     "status": "completed"
    },
    "tags": []
   },
   "outputs": [],
   "source": [
    "# function to run models \n",
    "def runModel(model_dict,train_data,y_train):\n",
    "    scores = {}\n",
    "    for model in model_dict :\n",
    "        model0 =model_dict[model].fit(train_data,y_train)\n",
    "        perf0 = cross_val_score(model0,train_data,y_train,cv= 5).mean()\n",
    "        scores[model] = perf0\n",
    "        print(model)\n",
    "    perf_df = (pd.DataFrame(data = scores.values(), index = scores.keys(), columns = [\"perf\"])\n",
    "        .sort_values(by=\"perf\",ascending = False)\n",
    "        )\n",
    "    print(\"\\n\")\n",
    "    return perf_df.iloc[:1,0]\n"
   ]
  },
  {
   "cell_type": "code",
   "execution_count": 29,
   "id": "51008981",
   "metadata": {
    "execution": {
     "iopub.execute_input": "2023-07-24T16:08:31.248856Z",
     "iopub.status.busy": "2023-07-24T16:08:31.248455Z",
     "iopub.status.idle": "2023-07-24T16:08:45.474667Z",
     "shell.execute_reply": "2023-07-24T16:08:45.473796Z"
    },
    "papermill": {
     "duration": 14.245894,
     "end_time": "2023-07-24T16:08:45.476964",
     "exception": false,
     "start_time": "2023-07-24T16:08:31.231070",
     "status": "completed"
    },
    "tags": []
   },
   "outputs": [
    {
     "name": "stderr",
     "output_type": "stream",
     "text": [
      "/opt/conda/lib/python3.10/site-packages/sklearn/linear_model/_logistic.py:458: ConvergenceWarning: lbfgs failed to converge (status=1):\n",
      "STOP: TOTAL NO. of ITERATIONS REACHED LIMIT.\n",
      "\n",
      "Increase the number of iterations (max_iter) or scale the data as shown in:\n",
      "    https://scikit-learn.org/stable/modules/preprocessing.html\n",
      "Please also refer to the documentation for alternative solver options:\n",
      "    https://scikit-learn.org/stable/modules/linear_model.html#logistic-regression\n",
      "  n_iter_i = _check_optimize_result(\n",
      "/opt/conda/lib/python3.10/site-packages/sklearn/linear_model/_logistic.py:458: ConvergenceWarning: lbfgs failed to converge (status=1):\n",
      "STOP: TOTAL NO. of ITERATIONS REACHED LIMIT.\n",
      "\n",
      "Increase the number of iterations (max_iter) or scale the data as shown in:\n",
      "    https://scikit-learn.org/stable/modules/preprocessing.html\n",
      "Please also refer to the documentation for alternative solver options:\n",
      "    https://scikit-learn.org/stable/modules/linear_model.html#logistic-regression\n",
      "  n_iter_i = _check_optimize_result(\n",
      "/opt/conda/lib/python3.10/site-packages/sklearn/linear_model/_logistic.py:458: ConvergenceWarning: lbfgs failed to converge (status=1):\n",
      "STOP: TOTAL NO. of ITERATIONS REACHED LIMIT.\n",
      "\n",
      "Increase the number of iterations (max_iter) or scale the data as shown in:\n",
      "    https://scikit-learn.org/stable/modules/preprocessing.html\n",
      "Please also refer to the documentation for alternative solver options:\n",
      "    https://scikit-learn.org/stable/modules/linear_model.html#logistic-regression\n",
      "  n_iter_i = _check_optimize_result(\n",
      "/opt/conda/lib/python3.10/site-packages/sklearn/linear_model/_logistic.py:458: ConvergenceWarning: lbfgs failed to converge (status=1):\n",
      "STOP: TOTAL NO. of ITERATIONS REACHED LIMIT.\n",
      "\n",
      "Increase the number of iterations (max_iter) or scale the data as shown in:\n",
      "    https://scikit-learn.org/stable/modules/preprocessing.html\n",
      "Please also refer to the documentation for alternative solver options:\n",
      "    https://scikit-learn.org/stable/modules/linear_model.html#logistic-regression\n",
      "  n_iter_i = _check_optimize_result(\n",
      "/opt/conda/lib/python3.10/site-packages/sklearn/linear_model/_logistic.py:458: ConvergenceWarning: lbfgs failed to converge (status=1):\n",
      "STOP: TOTAL NO. of ITERATIONS REACHED LIMIT.\n",
      "\n",
      "Increase the number of iterations (max_iter) or scale the data as shown in:\n",
      "    https://scikit-learn.org/stable/modules/preprocessing.html\n",
      "Please also refer to the documentation for alternative solver options:\n",
      "    https://scikit-learn.org/stable/modules/linear_model.html#logistic-regression\n",
      "  n_iter_i = _check_optimize_result(\n",
      "/opt/conda/lib/python3.10/site-packages/sklearn/linear_model/_logistic.py:458: ConvergenceWarning: lbfgs failed to converge (status=1):\n",
      "STOP: TOTAL NO. of ITERATIONS REACHED LIMIT.\n",
      "\n",
      "Increase the number of iterations (max_iter) or scale the data as shown in:\n",
      "    https://scikit-learn.org/stable/modules/preprocessing.html\n",
      "Please also refer to the documentation for alternative solver options:\n",
      "    https://scikit-learn.org/stable/modules/linear_model.html#logistic-regression\n",
      "  n_iter_i = _check_optimize_result(\n"
     ]
    },
    {
     "name": "stdout",
     "output_type": "stream",
     "text": [
      "regClf\n",
      "ridge\n",
      "ridgeCV\n",
      "Rf\n",
      "DTclf\n",
      "XTclf\n",
      "bagCl\n",
      "adaClf\n",
      "gbCl\n",
      "hbGbclf\n",
      "\n",
      "\n"
     ]
    },
    {
     "data": {
      "text/plain": [
       "hbGbclf    0.931107\n",
       "Name: perf, dtype: float64"
      ]
     },
     "execution_count": 29,
     "metadata": {},
     "output_type": "execute_result"
    }
   ],
   "source": [
    "perf = runModel(model_dict=model_dict,train_data = X_train,y_train = y_train0)\n",
    "perf"
   ]
  },
  {
   "cell_type": "code",
   "execution_count": 30,
   "id": "f1c207fb",
   "metadata": {
    "execution": {
     "iopub.execute_input": "2023-07-24T16:08:45.513288Z",
     "iopub.status.busy": "2023-07-24T16:08:45.512908Z",
     "iopub.status.idle": "2023-07-24T16:08:45.931566Z",
     "shell.execute_reply": "2023-07-24T16:08:45.930688Z"
    },
    "papermill": {
     "duration": 0.439489,
     "end_time": "2023-07-24T16:08:45.934214",
     "exception": false,
     "start_time": "2023-07-24T16:08:45.494725",
     "status": "completed"
    },
    "tags": []
   },
   "outputs": [
    {
     "name": "stdout",
     "output_type": "stream",
     "text": [
      "valid score: 99.0 %\n",
      "\n"
     ]
    }
   ],
   "source": [
    "#valid score\n",
    "# fit model \n",
    "hbGbclf.fit(X_train,y_train0)\n",
    "\n",
    "# predict\n",
    "pred_val = hbGbclf.predict_proba(valid[num_var])\n",
    "pred_val2 = hbGbclf.predict(valid[num_var])\n",
    "print(f'valid score: {hbGbclf.score(valid[num_var],valid[\"Class\"]).round(2)*100} %\\n')"
   ]
  },
  {
   "cell_type": "code",
   "execution_count": 31,
   "id": "145fc4e8",
   "metadata": {
    "execution": {
     "iopub.execute_input": "2023-07-24T16:08:45.972102Z",
     "iopub.status.busy": "2023-07-24T16:08:45.971665Z",
     "iopub.status.idle": "2023-07-24T16:08:45.986658Z",
     "shell.execute_reply": "2023-07-24T16:08:45.985442Z"
    },
    "papermill": {
     "duration": 0.036137,
     "end_time": "2023-07-24T16:08:45.988948",
     "exception": false,
     "start_time": "2023-07-24T16:08:45.952811",
     "status": "completed"
    },
    "tags": []
   },
   "outputs": [
    {
     "name": "stdout",
     "output_type": "stream",
     "text": [
      "              precision    recall  f1-score   support\n",
      "\n",
      "     class_0       0.99      1.00      0.99        82\n",
      "     class_1       1.00      0.94      0.97        17\n",
      "\n",
      "    accuracy                           0.99        99\n",
      "   macro avg       0.99      0.97      0.98        99\n",
      "weighted avg       0.99      0.99      0.99        99\n",
      "\n"
     ]
    }
   ],
   "source": [
    "from sklearn.metrics import classification_report\n",
    "\n",
    "y_true = valid['Class']\n",
    "y_pred = pred_val2\n",
    "target_names = ['class_0', 'class_1']\n",
    "print(classification_report(y_true, y_pred, target_names=target_names))"
   ]
  },
  {
   "cell_type": "markdown",
   "id": "3fbe209e",
   "metadata": {
    "papermill": {
     "duration": 0.017482,
     "end_time": "2023-07-24T16:08:46.024362",
     "exception": false,
     "start_time": "2023-07-24T16:08:46.006880",
     "status": "completed"
    },
    "tags": []
   },
   "source": [
    "Let us now plot the first 6 numerical columns and their values using bar charts."
   ]
  },
  {
   "cell_type": "code",
   "execution_count": 32,
   "id": "fa414c60",
   "metadata": {
    "execution": {
     "iopub.execute_input": "2023-07-24T16:08:46.061502Z",
     "iopub.status.busy": "2023-07-24T16:08:46.061103Z",
     "iopub.status.idle": "2023-07-24T16:08:46.069203Z",
     "shell.execute_reply": "2023-07-24T16:08:46.068143Z"
    },
    "papermill": {
     "duration": 0.029476,
     "end_time": "2023-07-24T16:08:46.071457",
     "exception": false,
     "start_time": "2023-07-24T16:08:46.041981",
     "status": "completed"
    },
    "tags": []
   },
   "outputs": [
    {
     "data": {
      "text/plain": [
       "array([[82,  0],\n",
       "       [ 1, 16]])"
      ]
     },
     "execution_count": 32,
     "metadata": {},
     "output_type": "execute_result"
    }
   ],
   "source": [
    "from sklearn.metrics import confusion_matrix\n",
    "confusion_matrix(y_true, y_pred)"
   ]
  },
  {
   "cell_type": "markdown",
   "id": "e07e5266",
   "metadata": {
    "papermill": {
     "duration": 0.017083,
     "end_time": "2023-07-24T16:08:46.106601",
     "exception": false,
     "start_time": "2023-07-24T16:08:46.089518",
     "status": "completed"
    },
    "tags": []
   },
   "source": [
    "# Submission"
   ]
  },
  {
   "cell_type": "code",
   "execution_count": 33,
   "id": "639e13f9",
   "metadata": {
    "execution": {
     "iopub.execute_input": "2023-07-24T16:08:46.143625Z",
     "iopub.status.busy": "2023-07-24T16:08:46.143201Z",
     "iopub.status.idle": "2023-07-24T16:08:46.168078Z",
     "shell.execute_reply": "2023-07-24T16:08:46.167163Z"
    },
    "papermill": {
     "duration": 0.046672,
     "end_time": "2023-07-24T16:08:46.170980",
     "exception": false,
     "start_time": "2023-07-24T16:08:46.124308",
     "status": "completed"
    },
    "tags": []
   },
   "outputs": [],
   "source": [
    "# read test dataframe and predict \n",
    "test_df = pd.read_csv('/kaggle/input/icr-identify-age-related-conditions/test.csv')\n",
    "predictions = hbGbclf.predict_proba(test_df.select_dtypes(exclude=object))\n",
    "\n",
    "predictions = pd.DataFrame(predictions)\n",
    "\n",
    "# add test Id\n",
    "predictions[\"Id\"] = test_df[\"Id\"]\n",
    "predictions[\"class_0\"] = predictions.iloc[:,0]\n",
    "predictions[\"class_1\"] = predictions.iloc[:,1]\n",
    "predictions = predictions[[\"Id\",\"class_0\",\"class_1\"]]"
   ]
  },
  {
   "cell_type": "code",
   "execution_count": 34,
   "id": "37f6a04d",
   "metadata": {
    "execution": {
     "iopub.execute_input": "2023-07-24T16:08:46.210893Z",
     "iopub.status.busy": "2023-07-24T16:08:46.210422Z",
     "iopub.status.idle": "2023-07-24T16:08:46.229911Z",
     "shell.execute_reply": "2023-07-24T16:08:46.228898Z"
    },
    "papermill": {
     "duration": 0.040789,
     "end_time": "2023-07-24T16:08:46.232102",
     "exception": false,
     "start_time": "2023-07-24T16:08:46.191313",
     "status": "completed"
    },
    "tags": []
   },
   "outputs": [
    {
     "data": {
      "text/html": [
       "<div>\n",
       "<style scoped>\n",
       "    .dataframe tbody tr th:only-of-type {\n",
       "        vertical-align: middle;\n",
       "    }\n",
       "\n",
       "    .dataframe tbody tr th {\n",
       "        vertical-align: top;\n",
       "    }\n",
       "\n",
       "    .dataframe thead th {\n",
       "        text-align: right;\n",
       "    }\n",
       "</style>\n",
       "<table border=\"1\" class=\"dataframe\">\n",
       "  <thead>\n",
       "    <tr style=\"text-align: right;\">\n",
       "      <th></th>\n",
       "      <th>Id</th>\n",
       "      <th>class_0</th>\n",
       "      <th>class_1</th>\n",
       "    </tr>\n",
       "  </thead>\n",
       "  <tbody>\n",
       "    <tr>\n",
       "      <th>0</th>\n",
       "      <td>00eed32682bb</td>\n",
       "      <td>0.030582</td>\n",
       "      <td>0.969418</td>\n",
       "    </tr>\n",
       "    <tr>\n",
       "      <th>1</th>\n",
       "      <td>010ebe33f668</td>\n",
       "      <td>0.030582</td>\n",
       "      <td>0.969418</td>\n",
       "    </tr>\n",
       "    <tr>\n",
       "      <th>2</th>\n",
       "      <td>02fa521e1838</td>\n",
       "      <td>0.030582</td>\n",
       "      <td>0.969418</td>\n",
       "    </tr>\n",
       "    <tr>\n",
       "      <th>3</th>\n",
       "      <td>040e15f562a2</td>\n",
       "      <td>0.030582</td>\n",
       "      <td>0.969418</td>\n",
       "    </tr>\n",
       "    <tr>\n",
       "      <th>4</th>\n",
       "      <td>046e85c7cc7f</td>\n",
       "      <td>0.030582</td>\n",
       "      <td>0.969418</td>\n",
       "    </tr>\n",
       "  </tbody>\n",
       "</table>\n",
       "</div>"
      ],
      "text/plain": [
       "             Id   class_0   class_1\n",
       "0  00eed32682bb  0.030582  0.969418\n",
       "1  010ebe33f668  0.030582  0.969418\n",
       "2  02fa521e1838  0.030582  0.969418\n",
       "3  040e15f562a2  0.030582  0.969418\n",
       "4  046e85c7cc7f  0.030582  0.969418"
      ]
     },
     "execution_count": 34,
     "metadata": {},
     "output_type": "execute_result"
    }
   ],
   "source": [
    "# write csv \n",
    "predictions.to_csv(\"submission.csv\", index = None)\n",
    "pd.read_csv(\"/kaggle/working/submission.csv\")\n",
    "#pd.read_csv('/kaggle/input/icr-identify-age-related-conditions/sample_submission.csv')"
   ]
  },
  {
   "cell_type": "code",
   "execution_count": 35,
   "id": "a14673e2",
   "metadata": {
    "execution": {
     "iopub.execute_input": "2023-07-24T16:08:46.270139Z",
     "iopub.status.busy": "2023-07-24T16:08:46.269428Z",
     "iopub.status.idle": "2023-07-24T16:08:46.274500Z",
     "shell.execute_reply": "2023-07-24T16:08:46.273426Z"
    },
    "papermill": {
     "duration": 0.026608,
     "end_time": "2023-07-24T16:08:46.276698",
     "exception": false,
     "start_time": "2023-07-24T16:08:46.250090",
     "status": "completed"
    },
    "tags": []
   },
   "outputs": [],
   "source": [
    "#sample_submission = pd.read_csv(\"/kaggle/input/icr-identify-age-related-conditions/sample_submission.csv\")\n",
    "#sample_submission[['class_0', 'class_1']] = predictions[['class_0', 'class_1']]\n",
    "#sample_submission.to_csv('/kaggle/working/submission.csv', index=False)\n",
    "#pd.read_csv(\"/kaggle/working/submission.csv\")"
   ]
  }
 ],
 "metadata": {
  "kernelspec": {
   "display_name": "Python 3",
   "language": "python",
   "name": "python3"
  },
  "language_info": {
   "codemirror_mode": {
    "name": "ipython",
    "version": 3
   },
   "file_extension": ".py",
   "mimetype": "text/x-python",
   "name": "python",
   "nbconvert_exporter": "python",
   "pygments_lexer": "ipython3",
   "version": "3.10.10"
  },
  "papermill": {
   "default_parameters": {},
   "duration": 33.094355,
   "end_time": "2023-07-24T16:08:47.316963",
   "environment_variables": {},
   "exception": null,
   "input_path": "__notebook__.ipynb",
   "output_path": "__notebook__.ipynb",
   "parameters": {},
   "start_time": "2023-07-24T16:08:14.222608",
   "version": "2.4.0"
  }
 },
 "nbformat": 4,
 "nbformat_minor": 5
}
