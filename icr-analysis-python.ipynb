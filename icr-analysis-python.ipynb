{
 "cells": [
  {
   "cell_type": "markdown",
   "id": "5ce6097f",
   "metadata": {
    "papermill": {
     "duration": 0.011068,
     "end_time": "2023-07-24T16:03:03.661012",
     "exception": false,
     "start_time": "2023-07-24T16:03:03.649944",
     "status": "completed"
    },
    "tags": []
   },
   "source": [
    "# ICR - Identifying Age-Related Conditions Dataset with TensorFlow Decision Forests"
   ]
  },
  {
   "cell_type": "markdown",
   "id": "9b02bfc5",
   "metadata": {
    "papermill": {
     "duration": 0.008971,
     "end_time": "2023-07-24T16:03:03.679366",
     "exception": false,
     "start_time": "2023-07-24T16:03:03.670395",
     "status": "completed"
    },
    "tags": []
   },
   "source": [
    "This notebook walks you through how to train a baseline Random Forest model using TensorFlow Decision Forests on the ICR - Identifying Age-Related Conditions dataset made available for this competition. The goal of the model is to predict if a person has one or more of any of three medical conditions or none.\n",
    "\n",
    "Roughly, the code will look as follows:\n",
    "\n",
    "```\n",
    "import tensorflow_decision_forests as tfdf\n",
    "import pandas as pd\n",
    "\n",
    "dataset = pd.read_csv(\"project/dataset.csv\")\n",
    "tf_dataset = tfdf.keras.pd_dataframe_to_tf_dataset(dataset, label=\"my_label\")\n",
    "\n",
    "model = tfdf.keras.RandomForestModel()\n",
    "model.fit(tf_dataset)\n",
    "\n",
    "print(model.summary())\n",
    "```\n",
    "\n",
    "Decision Forests are a family of tree-based models including Random Forests and Gradient Boosted Trees. They are the best place to start when working with tabular data, and will often outperform (or provide a strong baseline) before you begin experimenting with neural networks."
   ]
  },
  {
   "cell_type": "markdown",
   "id": "71d7159e",
   "metadata": {
    "papermill": {
     "duration": 0.00898,
     "end_time": "2023-07-24T16:03:03.697945",
     "exception": false,
     "start_time": "2023-07-24T16:03:03.688965",
     "status": "completed"
    },
    "tags": []
   },
   "source": [
    "# Import the libraries"
   ]
  },
  {
   "cell_type": "code",
   "execution_count": 1,
   "id": "783600c4",
   "metadata": {
    "execution": {
     "iopub.execute_input": "2023-07-24T16:03:03.718430Z",
     "iopub.status.busy": "2023-07-24T16:03:03.718040Z",
     "iopub.status.idle": "2023-07-24T16:03:05.958678Z",
     "shell.execute_reply": "2023-07-24T16:03:05.957779Z"
    },
    "papermill": {
     "duration": 2.253878,
     "end_time": "2023-07-24T16:03:05.961122",
     "exception": false,
     "start_time": "2023-07-24T16:03:03.707244",
     "status": "completed"
    },
    "tags": []
   },
   "outputs": [],
   "source": [
    "#import tensorflow as tf\n",
    "#import tensorflow_decision_forests as tfdf\n",
    "import pandas as pd\n",
    "import numpy as np\n",
    "import seaborn as sns\n",
    "import matplotlib.pyplot as plt\n",
    "import sklearn \n",
    "from sklearn import linear_model\n",
    "\n",
    "from sklearn.model_selection import cross_val_score\n",
    "from sklearn.datasets import make_blobs\n",
    "from sklearn.ensemble import RandomForestClassifier\n",
    "from sklearn.ensemble import ExtraTreesClassifier\n",
    "from sklearn.tree import DecisionTreeClassifier\n"
   ]
  },
  {
   "cell_type": "code",
   "execution_count": 2,
   "id": "d66c7120",
   "metadata": {
    "execution": {
     "iopub.execute_input": "2023-07-24T16:03:05.981426Z",
     "iopub.status.busy": "2023-07-24T16:03:05.981088Z",
     "iopub.status.idle": "2023-07-24T16:03:05.984598Z",
     "shell.execute_reply": "2023-07-24T16:03:05.983994Z"
    },
    "papermill": {
     "duration": 0.015976,
     "end_time": "2023-07-24T16:03:05.986438",
     "exception": false,
     "start_time": "2023-07-24T16:03:05.970462",
     "status": "completed"
    },
    "tags": []
   },
   "outputs": [],
   "source": [
    "#print(\"TensorFlow v\" + tf.__version__)\n",
    "#print(\"TensorFlow Decision Forests v\" + tfdf.__version__)"
   ]
  },
  {
   "cell_type": "markdown",
   "id": "2dc01e96",
   "metadata": {
    "papermill": {
     "duration": 0.009087,
     "end_time": "2023-07-24T16:03:06.004995",
     "exception": false,
     "start_time": "2023-07-24T16:03:05.995908",
     "status": "completed"
    },
    "tags": []
   },
   "source": [
    "# Load the Dataset"
   ]
  },
  {
   "cell_type": "code",
   "execution_count": 3,
   "id": "5e99726c",
   "metadata": {
    "execution": {
     "iopub.execute_input": "2023-07-24T16:03:06.025411Z",
     "iopub.status.busy": "2023-07-24T16:03:06.024624Z",
     "iopub.status.idle": "2023-07-24T16:03:06.057824Z",
     "shell.execute_reply": "2023-07-24T16:03:06.056404Z"
    },
    "papermill": {
     "duration": 0.045878,
     "end_time": "2023-07-24T16:03:06.060148",
     "exception": false,
     "start_time": "2023-07-24T16:03:06.014270",
     "status": "completed"
    },
    "tags": []
   },
   "outputs": [
    {
     "name": "stdout",
     "output_type": "stream",
     "text": [
      "Full train dataset shape is (617, 58)\n"
     ]
    }
   ],
   "source": [
    "dataset_df = pd.read_csv('/kaggle/input/icr-identify-age-related-conditions/train.csv')\n",
    "print(f\"Full train dataset shape is {dataset_df.shape}\")"
   ]
  },
  {
   "cell_type": "markdown",
   "id": "6dd73946",
   "metadata": {
    "papermill": {
     "duration": 0.010296,
     "end_time": "2023-07-24T16:03:06.080002",
     "exception": false,
     "start_time": "2023-07-24T16:03:06.069706",
     "status": "completed"
    },
    "tags": []
   },
   "source": [
    "The data is composed of 58 columns and 617 entries. We can see all 58 dimensions(results will be truncated since the number of columns is big) of our dataset by printing out the first 5 entries using the following code:"
   ]
  },
  {
   "cell_type": "code",
   "execution_count": 4,
   "id": "c03cf75c",
   "metadata": {
    "execution": {
     "iopub.execute_input": "2023-07-24T16:03:06.100142Z",
     "iopub.status.busy": "2023-07-24T16:03:06.099783Z",
     "iopub.status.idle": "2023-07-24T16:03:06.142056Z",
     "shell.execute_reply": "2023-07-24T16:03:06.140995Z"
    },
    "papermill": {
     "duration": 0.054543,
     "end_time": "2023-07-24T16:03:06.143863",
     "exception": false,
     "start_time": "2023-07-24T16:03:06.089320",
     "status": "completed"
    },
    "tags": []
   },
   "outputs": [
    {
     "data": {
      "text/html": [
       "<div>\n",
       "<style scoped>\n",
       "    .dataframe tbody tr th:only-of-type {\n",
       "        vertical-align: middle;\n",
       "    }\n",
       "\n",
       "    .dataframe tbody tr th {\n",
       "        vertical-align: top;\n",
       "    }\n",
       "\n",
       "    .dataframe thead th {\n",
       "        text-align: right;\n",
       "    }\n",
       "</style>\n",
       "<table border=\"1\" class=\"dataframe\">\n",
       "  <thead>\n",
       "    <tr style=\"text-align: right;\">\n",
       "      <th></th>\n",
       "      <th>Id</th>\n",
       "      <th>AB</th>\n",
       "      <th>AF</th>\n",
       "      <th>AH</th>\n",
       "      <th>AM</th>\n",
       "      <th>AR</th>\n",
       "      <th>AX</th>\n",
       "      <th>AY</th>\n",
       "      <th>AZ</th>\n",
       "      <th>BC</th>\n",
       "      <th>...</th>\n",
       "      <th>FL</th>\n",
       "      <th>FR</th>\n",
       "      <th>FS</th>\n",
       "      <th>GB</th>\n",
       "      <th>GE</th>\n",
       "      <th>GF</th>\n",
       "      <th>GH</th>\n",
       "      <th>GI</th>\n",
       "      <th>GL</th>\n",
       "      <th>Class</th>\n",
       "    </tr>\n",
       "  </thead>\n",
       "  <tbody>\n",
       "    <tr>\n",
       "      <th>0</th>\n",
       "      <td>000ff2bfdfe9</td>\n",
       "      <td>0.209377</td>\n",
       "      <td>3109.03329</td>\n",
       "      <td>85.200147</td>\n",
       "      <td>22.394407</td>\n",
       "      <td>8.138688</td>\n",
       "      <td>0.699861</td>\n",
       "      <td>0.025578</td>\n",
       "      <td>9.812214</td>\n",
       "      <td>5.555634</td>\n",
       "      <td>...</td>\n",
       "      <td>7.298162</td>\n",
       "      <td>1.73855</td>\n",
       "      <td>0.094822</td>\n",
       "      <td>11.339138</td>\n",
       "      <td>72.611063</td>\n",
       "      <td>2003.810319</td>\n",
       "      <td>22.136229</td>\n",
       "      <td>69.834944</td>\n",
       "      <td>0.120343</td>\n",
       "      <td>1</td>\n",
       "    </tr>\n",
       "    <tr>\n",
       "      <th>1</th>\n",
       "      <td>007255e47698</td>\n",
       "      <td>0.145282</td>\n",
       "      <td>978.76416</td>\n",
       "      <td>85.200147</td>\n",
       "      <td>36.968889</td>\n",
       "      <td>8.138688</td>\n",
       "      <td>3.632190</td>\n",
       "      <td>0.025578</td>\n",
       "      <td>13.517790</td>\n",
       "      <td>1.229900</td>\n",
       "      <td>...</td>\n",
       "      <td>0.173229</td>\n",
       "      <td>0.49706</td>\n",
       "      <td>0.568932</td>\n",
       "      <td>9.292698</td>\n",
       "      <td>72.611063</td>\n",
       "      <td>27981.562750</td>\n",
       "      <td>29.135430</td>\n",
       "      <td>32.131996</td>\n",
       "      <td>21.978000</td>\n",
       "      <td>0</td>\n",
       "    </tr>\n",
       "    <tr>\n",
       "      <th>2</th>\n",
       "      <td>013f2bd269f5</td>\n",
       "      <td>0.470030</td>\n",
       "      <td>2635.10654</td>\n",
       "      <td>85.200147</td>\n",
       "      <td>32.360553</td>\n",
       "      <td>8.138688</td>\n",
       "      <td>6.732840</td>\n",
       "      <td>0.025578</td>\n",
       "      <td>12.824570</td>\n",
       "      <td>1.229900</td>\n",
       "      <td>...</td>\n",
       "      <td>7.709560</td>\n",
       "      <td>0.97556</td>\n",
       "      <td>1.198821</td>\n",
       "      <td>37.077772</td>\n",
       "      <td>88.609437</td>\n",
       "      <td>13676.957810</td>\n",
       "      <td>28.022851</td>\n",
       "      <td>35.192676</td>\n",
       "      <td>0.196941</td>\n",
       "      <td>0</td>\n",
       "    </tr>\n",
       "    <tr>\n",
       "      <th>3</th>\n",
       "      <td>043ac50845d5</td>\n",
       "      <td>0.252107</td>\n",
       "      <td>3819.65177</td>\n",
       "      <td>120.201618</td>\n",
       "      <td>77.112203</td>\n",
       "      <td>8.138688</td>\n",
       "      <td>3.685344</td>\n",
       "      <td>0.025578</td>\n",
       "      <td>11.053708</td>\n",
       "      <td>1.229900</td>\n",
       "      <td>...</td>\n",
       "      <td>6.122162</td>\n",
       "      <td>0.49706</td>\n",
       "      <td>0.284466</td>\n",
       "      <td>18.529584</td>\n",
       "      <td>82.416803</td>\n",
       "      <td>2094.262452</td>\n",
       "      <td>39.948656</td>\n",
       "      <td>90.493248</td>\n",
       "      <td>0.155829</td>\n",
       "      <td>0</td>\n",
       "    </tr>\n",
       "    <tr>\n",
       "      <th>4</th>\n",
       "      <td>044fb8a146ec</td>\n",
       "      <td>0.380297</td>\n",
       "      <td>3733.04844</td>\n",
       "      <td>85.200147</td>\n",
       "      <td>14.103738</td>\n",
       "      <td>8.138688</td>\n",
       "      <td>3.942255</td>\n",
       "      <td>0.054810</td>\n",
       "      <td>3.396778</td>\n",
       "      <td>102.151980</td>\n",
       "      <td>...</td>\n",
       "      <td>8.153058</td>\n",
       "      <td>48.50134</td>\n",
       "      <td>0.121914</td>\n",
       "      <td>16.408728</td>\n",
       "      <td>146.109943</td>\n",
       "      <td>8524.370502</td>\n",
       "      <td>45.381316</td>\n",
       "      <td>36.262628</td>\n",
       "      <td>0.096614</td>\n",
       "      <td>1</td>\n",
       "    </tr>\n",
       "  </tbody>\n",
       "</table>\n",
       "<p>5 rows × 58 columns</p>\n",
       "</div>"
      ],
      "text/plain": [
       "             Id        AB          AF          AH         AM        AR  \\\n",
       "0  000ff2bfdfe9  0.209377  3109.03329   85.200147  22.394407  8.138688   \n",
       "1  007255e47698  0.145282   978.76416   85.200147  36.968889  8.138688   \n",
       "2  013f2bd269f5  0.470030  2635.10654   85.200147  32.360553  8.138688   \n",
       "3  043ac50845d5  0.252107  3819.65177  120.201618  77.112203  8.138688   \n",
       "4  044fb8a146ec  0.380297  3733.04844   85.200147  14.103738  8.138688   \n",
       "\n",
       "         AX        AY         AZ          BC  ...        FL        FR  \\\n",
       "0  0.699861  0.025578   9.812214    5.555634  ...  7.298162   1.73855   \n",
       "1  3.632190  0.025578  13.517790    1.229900  ...  0.173229   0.49706   \n",
       "2  6.732840  0.025578  12.824570    1.229900  ...  7.709560   0.97556   \n",
       "3  3.685344  0.025578  11.053708    1.229900  ...  6.122162   0.49706   \n",
       "4  3.942255  0.054810   3.396778  102.151980  ...  8.153058  48.50134   \n",
       "\n",
       "         FS         GB          GE            GF         GH         GI  \\\n",
       "0  0.094822  11.339138   72.611063   2003.810319  22.136229  69.834944   \n",
       "1  0.568932   9.292698   72.611063  27981.562750  29.135430  32.131996   \n",
       "2  1.198821  37.077772   88.609437  13676.957810  28.022851  35.192676   \n",
       "3  0.284466  18.529584   82.416803   2094.262452  39.948656  90.493248   \n",
       "4  0.121914  16.408728  146.109943   8524.370502  45.381316  36.262628   \n",
       "\n",
       "          GL  Class  \n",
       "0   0.120343      1  \n",
       "1  21.978000      0  \n",
       "2   0.196941      0  \n",
       "3   0.155829      0  \n",
       "4   0.096614      1  \n",
       "\n",
       "[5 rows x 58 columns]"
      ]
     },
     "execution_count": 4,
     "metadata": {},
     "output_type": "execute_result"
    }
   ],
   "source": [
    "dataset_df.head()"
   ]
  },
  {
   "cell_type": "markdown",
   "id": "259bf055",
   "metadata": {
    "papermill": {
     "duration": 0.008687,
     "end_time": "2023-07-24T16:03:06.162532",
     "exception": false,
     "start_time": "2023-07-24T16:03:06.153845",
     "status": "completed"
    },
    "tags": []
   },
   "source": [
    "`Class` is the label column indicating if a person has one or more of any of the three medical conditions (i.e,`Class 1`), or none of the three medical conditions (i.e,`Class 0`).\n",
    "Given the features of the dataset, the goal of our model is to predict the value of `Class` for any person."
   ]
  },
  {
   "cell_type": "markdown",
   "id": "ca793a2a",
   "metadata": {
    "papermill": {
     "duration": 0.008612,
     "end_time": "2023-07-24T16:03:06.179968",
     "exception": false,
     "start_time": "2023-07-24T16:03:06.171356",
     "status": "completed"
    },
    "tags": []
   },
   "source": [
    "# Quick basic dataset exploration"
   ]
  },
  {
   "cell_type": "code",
   "execution_count": 5,
   "id": "de96234e",
   "metadata": {
    "execution": {
     "iopub.execute_input": "2023-07-24T16:03:06.199654Z",
     "iopub.status.busy": "2023-07-24T16:03:06.199064Z",
     "iopub.status.idle": "2023-07-24T16:03:06.202969Z",
     "shell.execute_reply": "2023-07-24T16:03:06.202042Z"
    },
    "papermill": {
     "duration": 0.016208,
     "end_time": "2023-07-24T16:03:06.204943",
     "exception": false,
     "start_time": "2023-07-24T16:03:06.188735",
     "status": "completed"
    },
    "tags": []
   },
   "outputs": [],
   "source": [
    "#dataset_df.info()"
   ]
  },
  {
   "cell_type": "markdown",
   "id": "9e5fe868",
   "metadata": {
    "papermill": {
     "duration": 0.008653,
     "end_time": "2023-07-24T16:03:06.222688",
     "exception": false,
     "start_time": "2023-07-24T16:03:06.214035",
     "status": "completed"
    },
    "tags": []
   },
   "source": [
    "## Pie chart for label column: Class"
   ]
  },
  {
   "cell_type": "code",
   "execution_count": 6,
   "id": "cc530cb7",
   "metadata": {
    "execution": {
     "iopub.execute_input": "2023-07-24T16:03:06.245210Z",
     "iopub.status.busy": "2023-07-24T16:03:06.244610Z",
     "iopub.status.idle": "2023-07-24T16:03:06.423751Z",
     "shell.execute_reply": "2023-07-24T16:03:06.421939Z"
    },
    "papermill": {
     "duration": 0.192806,
     "end_time": "2023-07-24T16:03:06.425758",
     "exception": false,
     "start_time": "2023-07-24T16:03:06.232952",
     "status": "completed"
    },
    "tags": []
   },
   "outputs": [
    {
     "data": {
      "text/plain": [
       "<Axes: ylabel='Class'>"
      ]
     },
     "execution_count": 6,
     "metadata": {},
     "output_type": "execute_result"
    },
    {
     "data": {
      "image/png": "[encoded data removed]",
      "text/plain": [
       "<Figure size 640x480 with 1 Axes>"
      ]
     },
     "metadata": {},
     "output_type": "display_data"
    }
   ],
   "source": [
    "plot_df = dataset_df.Class.value_counts()\n",
    "plot_df.plot(kind=\"pie\")"
   ]
  },
  {
   "cell_type": "markdown",
   "id": "784c3fed",
   "metadata": {
    "papermill": {
     "duration": 0.0122,
     "end_time": "2023-07-24T16:03:06.452952",
     "exception": false,
     "start_time": "2023-07-24T16:03:06.440752",
     "status": "completed"
    },
    "tags": []
   },
   "source": [
    "**Important**: From the pie chart we can see that the dataset is heavily imbalanced since the fraction of positive(`1`) samples is very small compared to the negative(`0`) samples."
   ]
  },
  {
   "cell_type": "markdown",
   "id": "495b77e4",
   "metadata": {
    "papermill": {
     "duration": 0.012006,
     "end_time": "2023-07-24T16:03:06.477513",
     "exception": false,
     "start_time": "2023-07-24T16:03:06.465507",
     "status": "completed"
    },
    "tags": []
   },
   "source": [
    "Data is imbalanced ! let's solve this "
   ]
  },
  {
   "cell_type": "markdown",
   "id": "9f6e8b9d",
   "metadata": {
    "papermill": {
     "duration": 0.012024,
     "end_time": "2023-07-24T16:03:06.501961",
     "exception": false,
     "start_time": "2023-07-24T16:03:06.489937",
     "status": "completed"
    },
    "tags": []
   },
   "source": [
    "Class Weighting "
   ]
  },
  {
   "cell_type": "code",
   "execution_count": 7,
   "id": "47ac6ba0",
   "metadata": {
    "execution": {
     "iopub.execute_input": "2023-07-24T16:03:06.522964Z",
     "iopub.status.busy": "2023-07-24T16:03:06.522655Z",
     "iopub.status.idle": "2023-07-24T16:03:06.529973Z",
     "shell.execute_reply": "2023-07-24T16:03:06.528520Z"
    },
    "papermill": {
     "duration": 0.019694,
     "end_time": "2023-07-24T16:03:06.531581",
     "exception": false,
     "start_time": "2023-07-24T16:03:06.511887",
     "status": "completed"
    },
    "tags": []
   },
   "outputs": [
    {
     "name": "stdout",
     "output_type": "stream",
     "text": [
      "Weight for class 0: 0.61\n",
      "Weight for class 1: 2.86\n"
     ]
    }
   ],
   "source": [
    "# Calculate the number of samples for each label.\n",
    "neg, pos = np.bincount(dataset_df['Class'])\n",
    "\n",
    "# Calculate total samples.\n",
    "total = neg + pos\n",
    "\n",
    "# Calculate the weight for each label.\n",
    "weight_for_0 = total / (neg * 2.0)\n",
    "weight_for_1 = total / (pos *  2.0) \n",
    "\n",
    "class_weight = {0: weight_for_0, 1: weight_for_1}\n",
    "\n",
    "print('Weight for class 0: {:.2f}'.format(weight_for_0))\n",
    "print('Weight for class 1: {:.2f}'.format(weight_for_1))"
   ]
  },
  {
   "cell_type": "markdown",
   "id": "f83c0889",
   "metadata": {
    "papermill": {
     "duration": 0.009233,
     "end_time": "2023-07-24T16:03:06.550355",
     "exception": false,
     "start_time": "2023-07-24T16:03:06.541122",
     "status": "completed"
    },
    "tags": []
   },
   "source": [
    "========== data splitting ============"
   ]
  },
  {
   "cell_type": "code",
   "execution_count": 8,
   "id": "3e73c1d0",
   "metadata": {
    "execution": {
     "iopub.execute_input": "2023-07-24T16:03:06.570754Z",
     "iopub.status.busy": "2023-07-24T16:03:06.570387Z",
     "iopub.status.idle": "2023-07-24T16:03:06.577969Z",
     "shell.execute_reply": "2023-07-24T16:03:06.576812Z"
    },
    "papermill": {
     "duration": 0.020706,
     "end_time": "2023-07-24T16:03:06.580426",
     "exception": false,
     "start_time": "2023-07-24T16:03:06.559720",
     "status": "completed"
    },
    "tags": []
   },
   "outputs": [
    {
     "data": {
      "text/plain": [
       "0.0036606494159727265"
      ]
     },
     "execution_count": 8,
     "metadata": {},
     "output_type": "execute_result"
    }
   ],
   "source": [
    "dataset_df.isna().mean().mean()"
   ]
  },
  {
   "cell_type": "markdown",
   "id": "f7e4f607",
   "metadata": {
    "papermill": {
     "duration": 0.009441,
     "end_time": "2023-07-24T16:03:06.600037",
     "exception": false,
     "start_time": "2023-07-24T16:03:06.590596",
     "status": "completed"
    },
    "tags": []
   },
   "source": [
    "There soma NA's in dataset. Let's impute it. "
   ]
  },
  {
   "cell_type": "code",
   "execution_count": 9,
   "id": "5e29378a",
   "metadata": {
    "execution": {
     "iopub.execute_input": "2023-07-24T16:03:06.622254Z",
     "iopub.status.busy": "2023-07-24T16:03:06.621394Z",
     "iopub.status.idle": "2023-07-24T16:03:06.628961Z",
     "shell.execute_reply": "2023-07-24T16:03:06.627820Z"
    },
    "papermill": {
     "duration": 0.021123,
     "end_time": "2023-07-24T16:03:06.631174",
     "exception": false,
     "start_time": "2023-07-24T16:03:06.610051",
     "status": "completed"
    },
    "tags": []
   },
   "outputs": [],
   "source": [
    "# select numeric data\n",
    "X = dataset_df.select_dtypes(exclude=object).drop(\"Class\",axis = 1)"
   ]
  },
  {
   "cell_type": "code",
   "execution_count": 10,
   "id": "b2e46c08",
   "metadata": {
    "execution": {
     "iopub.execute_input": "2023-07-24T16:03:06.654098Z",
     "iopub.status.busy": "2023-07-24T16:03:06.653476Z",
     "iopub.status.idle": "2023-07-24T16:03:06.661209Z",
     "shell.execute_reply": "2023-07-24T16:03:06.660383Z"
    },
    "papermill": {
     "duration": 0.021124,
     "end_time": "2023-07-24T16:03:06.663015",
     "exception": false,
     "start_time": "2023-07-24T16:03:06.641891",
     "status": "completed"
    },
    "tags": []
   },
   "outputs": [
    {
     "data": {
      "text/plain": [
       "0.003860321202298512"
      ]
     },
     "execution_count": 10,
     "metadata": {},
     "output_type": "execute_result"
    }
   ],
   "source": [
    "# proportion NA's\n",
    "X.isna().mean().mean()"
   ]
  },
  {
   "cell_type": "code",
   "execution_count": 11,
   "id": "3227aaaf",
   "metadata": {
    "execution": {
     "iopub.execute_input": "2023-07-24T16:03:06.686630Z",
     "iopub.status.busy": "2023-07-24T16:03:06.686269Z",
     "iopub.status.idle": "2023-07-24T16:03:06.704872Z",
     "shell.execute_reply": "2023-07-24T16:03:06.704073Z"
    },
    "papermill": {
     "duration": 0.031958,
     "end_time": "2023-07-24T16:03:06.706675",
     "exception": false,
     "start_time": "2023-07-24T16:03:06.674717",
     "status": "completed"
    },
    "tags": []
   },
   "outputs": [],
   "source": [
    "# impute dataset\n",
    "#import numpy as np\n",
    "import numpy as np\n",
    "#from sklearn.impute import KNNImputer\n",
    "#imputer = KNNImputer(n_neighbors=5)\n",
    "for var in X.columns :\n",
    "    if X[var].isna().mean() > 0 :\n",
    "        X[X[var].isna()] = X[var].median()\n",
    "   "
   ]
  },
  {
   "cell_type": "code",
   "execution_count": 12,
   "id": "e0fabe9f",
   "metadata": {
    "execution": {
     "iopub.execute_input": "2023-07-24T16:03:06.727878Z",
     "iopub.status.busy": "2023-07-24T16:03:06.727408Z",
     "iopub.status.idle": "2023-07-24T16:03:06.733293Z",
     "shell.execute_reply": "2023-07-24T16:03:06.732627Z"
    },
    "papermill": {
     "duration": 0.018196,
     "end_time": "2023-07-24T16:03:06.734864",
     "exception": false,
     "start_time": "2023-07-24T16:03:06.716668",
     "status": "completed"
    },
    "tags": []
   },
   "outputs": [
    {
     "data": {
      "text/plain": [
       "0.0"
      ]
     },
     "execution_count": 12,
     "metadata": {},
     "output_type": "execute_result"
    }
   ],
   "source": [
    "# check proportion of NA's\n",
    "X.isna().mean().mean()"
   ]
  },
  {
   "cell_type": "code",
   "execution_count": 13,
   "id": "537f2b2a",
   "metadata": {
    "execution": {
     "iopub.execute_input": "2023-07-24T16:03:06.757408Z",
     "iopub.status.busy": "2023-07-24T16:03:06.757081Z",
     "iopub.status.idle": "2023-07-24T16:03:06.771634Z",
     "shell.execute_reply": "2023-07-24T16:03:06.769967Z"
    },
    "papermill": {
     "duration": 0.028562,
     "end_time": "2023-07-24T16:03:06.774190",
     "exception": false,
     "start_time": "2023-07-24T16:03:06.745628",
     "status": "completed"
    },
    "tags": []
   },
   "outputs": [],
   "source": [
    "# replace imputed columns in original dataset \n",
    "dataset_df[X.columns.to_list()] = X"
   ]
  },
  {
   "cell_type": "code",
   "execution_count": 14,
   "id": "94a0bd42",
   "metadata": {
    "execution": {
     "iopub.execute_input": "2023-07-24T16:03:06.796281Z",
     "iopub.status.busy": "2023-07-24T16:03:06.795955Z",
     "iopub.status.idle": "2023-07-24T16:03:06.820351Z",
     "shell.execute_reply": "2023-07-24T16:03:06.819194Z"
    },
    "papermill": {
     "duration": 0.037938,
     "end_time": "2023-07-24T16:03:06.822484",
     "exception": false,
     "start_time": "2023-07-24T16:03:06.784546",
     "status": "completed"
    },
    "tags": []
   },
   "outputs": [
    {
     "data": {
      "text/html": [
       "<div>\n",
       "<style scoped>\n",
       "    .dataframe tbody tr th:only-of-type {\n",
       "        vertical-align: middle;\n",
       "    }\n",
       "\n",
       "    .dataframe tbody tr th {\n",
       "        vertical-align: top;\n",
       "    }\n",
       "\n",
       "    .dataframe thead th {\n",
       "        text-align: right;\n",
       "    }\n",
       "</style>\n",
       "<table border=\"1\" class=\"dataframe\">\n",
       "  <thead>\n",
       "    <tr style=\"text-align: right;\">\n",
       "      <th></th>\n",
       "      <th>Id</th>\n",
       "      <th>AB</th>\n",
       "      <th>AF</th>\n",
       "      <th>AH</th>\n",
       "      <th>AM</th>\n",
       "      <th>AR</th>\n",
       "      <th>AX</th>\n",
       "      <th>AY</th>\n",
       "      <th>AZ</th>\n",
       "      <th>BC</th>\n",
       "      <th>...</th>\n",
       "      <th>FL</th>\n",
       "      <th>FR</th>\n",
       "      <th>FS</th>\n",
       "      <th>GB</th>\n",
       "      <th>GE</th>\n",
       "      <th>GF</th>\n",
       "      <th>GH</th>\n",
       "      <th>GI</th>\n",
       "      <th>GL</th>\n",
       "      <th>Class</th>\n",
       "    </tr>\n",
       "  </thead>\n",
       "  <tbody>\n",
       "    <tr>\n",
       "      <th>0</th>\n",
       "      <td>000ff2bfdfe9</td>\n",
       "      <td>0.209377</td>\n",
       "      <td>3109.03329</td>\n",
       "      <td>85.200147</td>\n",
       "      <td>22.394407</td>\n",
       "      <td>8.138688</td>\n",
       "      <td>0.699861</td>\n",
       "      <td>0.025578</td>\n",
       "      <td>9.812214</td>\n",
       "      <td>5.555634</td>\n",
       "      <td>...</td>\n",
       "      <td>7.298162</td>\n",
       "      <td>1.73855</td>\n",
       "      <td>0.094822</td>\n",
       "      <td>11.339138</td>\n",
       "      <td>72.611063</td>\n",
       "      <td>2003.810319</td>\n",
       "      <td>22.136229</td>\n",
       "      <td>69.834944</td>\n",
       "      <td>0.120343</td>\n",
       "      <td>1</td>\n",
       "    </tr>\n",
       "    <tr>\n",
       "      <th>1</th>\n",
       "      <td>007255e47698</td>\n",
       "      <td>0.145282</td>\n",
       "      <td>978.76416</td>\n",
       "      <td>85.200147</td>\n",
       "      <td>36.968889</td>\n",
       "      <td>8.138688</td>\n",
       "      <td>3.632190</td>\n",
       "      <td>0.025578</td>\n",
       "      <td>13.517790</td>\n",
       "      <td>1.229900</td>\n",
       "      <td>...</td>\n",
       "      <td>0.173229</td>\n",
       "      <td>0.49706</td>\n",
       "      <td>0.568932</td>\n",
       "      <td>9.292698</td>\n",
       "      <td>72.611063</td>\n",
       "      <td>27981.562750</td>\n",
       "      <td>29.135430</td>\n",
       "      <td>32.131996</td>\n",
       "      <td>21.978000</td>\n",
       "      <td>0</td>\n",
       "    </tr>\n",
       "    <tr>\n",
       "      <th>2</th>\n",
       "      <td>013f2bd269f5</td>\n",
       "      <td>0.470030</td>\n",
       "      <td>2635.10654</td>\n",
       "      <td>85.200147</td>\n",
       "      <td>32.360553</td>\n",
       "      <td>8.138688</td>\n",
       "      <td>6.732840</td>\n",
       "      <td>0.025578</td>\n",
       "      <td>12.824570</td>\n",
       "      <td>1.229900</td>\n",
       "      <td>...</td>\n",
       "      <td>7.709560</td>\n",
       "      <td>0.97556</td>\n",
       "      <td>1.198821</td>\n",
       "      <td>37.077772</td>\n",
       "      <td>88.609437</td>\n",
       "      <td>13676.957810</td>\n",
       "      <td>28.022851</td>\n",
       "      <td>35.192676</td>\n",
       "      <td>0.196941</td>\n",
       "      <td>0</td>\n",
       "    </tr>\n",
       "    <tr>\n",
       "      <th>3</th>\n",
       "      <td>043ac50845d5</td>\n",
       "      <td>0.252107</td>\n",
       "      <td>3819.65177</td>\n",
       "      <td>120.201618</td>\n",
       "      <td>77.112203</td>\n",
       "      <td>8.138688</td>\n",
       "      <td>3.685344</td>\n",
       "      <td>0.025578</td>\n",
       "      <td>11.053708</td>\n",
       "      <td>1.229900</td>\n",
       "      <td>...</td>\n",
       "      <td>6.122162</td>\n",
       "      <td>0.49706</td>\n",
       "      <td>0.284466</td>\n",
       "      <td>18.529584</td>\n",
       "      <td>82.416803</td>\n",
       "      <td>2094.262452</td>\n",
       "      <td>39.948656</td>\n",
       "      <td>90.493248</td>\n",
       "      <td>0.155829</td>\n",
       "      <td>0</td>\n",
       "    </tr>\n",
       "    <tr>\n",
       "      <th>4</th>\n",
       "      <td>044fb8a146ec</td>\n",
       "      <td>0.380297</td>\n",
       "      <td>3733.04844</td>\n",
       "      <td>85.200147</td>\n",
       "      <td>14.103738</td>\n",
       "      <td>8.138688</td>\n",
       "      <td>3.942255</td>\n",
       "      <td>0.054810</td>\n",
       "      <td>3.396778</td>\n",
       "      <td>102.151980</td>\n",
       "      <td>...</td>\n",
       "      <td>8.153058</td>\n",
       "      <td>48.50134</td>\n",
       "      <td>0.121914</td>\n",
       "      <td>16.408728</td>\n",
       "      <td>146.109943</td>\n",
       "      <td>8524.370502</td>\n",
       "      <td>45.381316</td>\n",
       "      <td>36.262628</td>\n",
       "      <td>0.096614</td>\n",
       "      <td>1</td>\n",
       "    </tr>\n",
       "  </tbody>\n",
       "</table>\n",
       "<p>5 rows × 58 columns</p>\n",
       "</div>"
      ],
      "text/plain": [
       "             Id        AB          AF          AH         AM        AR  \\\n",
       "0  000ff2bfdfe9  0.209377  3109.03329   85.200147  22.394407  8.138688   \n",
       "1  007255e47698  0.145282   978.76416   85.200147  36.968889  8.138688   \n",
       "2  013f2bd269f5  0.470030  2635.10654   85.200147  32.360553  8.138688   \n",
       "3  043ac50845d5  0.252107  3819.65177  120.201618  77.112203  8.138688   \n",
       "4  044fb8a146ec  0.380297  3733.04844   85.200147  14.103738  8.138688   \n",
       "\n",
       "         AX        AY         AZ          BC  ...        FL        FR  \\\n",
       "0  0.699861  0.025578   9.812214    5.555634  ...  7.298162   1.73855   \n",
       "1  3.632190  0.025578  13.517790    1.229900  ...  0.173229   0.49706   \n",
       "2  6.732840  0.025578  12.824570    1.229900  ...  7.709560   0.97556   \n",
       "3  3.685344  0.025578  11.053708    1.229900  ...  6.122162   0.49706   \n",
       "4  3.942255  0.054810   3.396778  102.151980  ...  8.153058  48.50134   \n",
       "\n",
       "         FS         GB          GE            GF         GH         GI  \\\n",
       "0  0.094822  11.339138   72.611063   2003.810319  22.136229  69.834944   \n",
       "1  0.568932   9.292698   72.611063  27981.562750  29.135430  32.131996   \n",
       "2  1.198821  37.077772   88.609437  13676.957810  28.022851  35.192676   \n",
       "3  0.284466  18.529584   82.416803   2094.262452  39.948656  90.493248   \n",
       "4  0.121914  16.408728  146.109943   8524.370502  45.381316  36.262628   \n",
       "\n",
       "          GL  Class  \n",
       "0   0.120343      1  \n",
       "1  21.978000      0  \n",
       "2   0.196941      0  \n",
       "3   0.155829      0  \n",
       "4   0.096614      1  \n",
       "\n",
       "[5 rows x 58 columns]"
      ]
     },
     "execution_count": 14,
     "metadata": {},
     "output_type": "execute_result"
    }
   ],
   "source": [
    "# head dataset \n",
    "dataset_df.head()"
   ]
  },
  {
   "cell_type": "code",
   "execution_count": 15,
   "id": "568e9127",
   "metadata": {
    "execution": {
     "iopub.execute_input": "2023-07-24T16:03:06.845764Z",
     "iopub.status.busy": "2023-07-24T16:03:06.845404Z",
     "iopub.status.idle": "2023-07-24T16:03:06.856332Z",
     "shell.execute_reply": "2023-07-24T16:03:06.855309Z"
    },
    "papermill": {
     "duration": 0.025523,
     "end_time": "2023-07-24T16:03:06.858603",
     "exception": false,
     "start_time": "2023-07-24T16:03:06.833080",
     "status": "completed"
    },
    "tags": []
   },
   "outputs": [],
   "source": [
    "from sklearn.model_selection import train_test_split\n",
    "y = dataset_df[\"Class\"]\n",
    "train0, test = train_test_split(dataset_df,test_size = 0.2,\n",
    "                                stratify=dataset_df.Class, random_state=42)\n",
    "train, valid = train_test_split(train0,test_size = 0.2,\n",
    "                                stratify=train0.Class, random_state=42)"
   ]
  },
  {
   "cell_type": "markdown",
   "id": "055ce824",
   "metadata": {
    "papermill": {
     "duration": 0.009846,
     "end_time": "2023-07-24T16:03:06.878876",
     "exception": false,
     "start_time": "2023-07-24T16:03:06.869030",
     "status": "completed"
    },
    "tags": []
   },
   "source": [
    "=========== model testing ========="
   ]
  },
  {
   "cell_type": "markdown",
   "id": "bb8d26a3",
   "metadata": {
    "papermill": {
     "duration": 0.009516,
     "end_time": "2023-07-24T16:03:06.898117",
     "exception": false,
     "start_time": "2023-07-24T16:03:06.888601",
     "status": "completed"
    },
    "tags": []
   },
   "source": [
    "=== Logistic regression === "
   ]
  },
  {
   "cell_type": "code",
   "execution_count": 16,
   "id": "15c9c021",
   "metadata": {
    "execution": {
     "iopub.execute_input": "2023-07-24T16:03:06.919760Z",
     "iopub.status.busy": "2023-07-24T16:03:06.919402Z",
     "iopub.status.idle": "2023-07-24T16:03:06.931324Z",
     "shell.execute_reply": "2023-07-24T16:03:06.930182Z"
    },
    "papermill": {
     "duration": 0.025874,
     "end_time": "2023-07-24T16:03:06.933937",
     "exception": false,
     "start_time": "2023-07-24T16:03:06.908063",
     "status": "completed"
    },
    "tags": []
   },
   "outputs": [],
   "source": [
    "#### logistic regresion\n",
    "num_var = [var for var in dataset_df.columns if var not in [\"Id\",\"EJ\",\"Class\"]]\n",
    "X_train = train0[num_var]\n",
    "y_train0 = y[X_train.index]\n",
    "\n",
    "# scale X \n",
    "from sklearn import preprocessing\n",
    "scaler = preprocessing.StandardScaler().fit(X_train) # scaler\n",
    "X_train_scaled = scaler.transform(X_train)"
   ]
  },
  {
   "cell_type": "code",
   "execution_count": 17,
   "id": "7bcf07c9",
   "metadata": {
    "execution": {
     "iopub.execute_input": "2023-07-24T16:03:06.956604Z",
     "iopub.status.busy": "2023-07-24T16:03:06.956235Z",
     "iopub.status.idle": "2023-07-24T16:03:06.986723Z",
     "shell.execute_reply": "2023-07-24T16:03:06.985850Z"
    },
    "papermill": {
     "duration": 0.045619,
     "end_time": "2023-07-24T16:03:06.990075",
     "exception": false,
     "start_time": "2023-07-24T16:03:06.944456",
     "status": "completed"
    },
    "tags": []
   },
   "outputs": [],
   "source": [
    "# logistic regression \n",
    "from sklearn.linear_model import LogisticRegression\n",
    "regClf = LogisticRegression(random_state=42,\n",
    "                             class_weight ='balanced',\n",
    "                             multi_class = 'auto',\n",
    "                             max_iter= 1000)\n",
    "regClfModel = regClf.fit(X_train_scaled, y_train0)\n",
    " "
   ]
  },
  {
   "cell_type": "code",
   "execution_count": 18,
   "id": "06cdb231",
   "metadata": {
    "execution": {
     "iopub.execute_input": "2023-07-24T16:03:07.019151Z",
     "iopub.status.busy": "2023-07-24T16:03:07.018156Z",
     "iopub.status.idle": "2023-07-24T16:03:07.042246Z",
     "shell.execute_reply": "2023-07-24T16:03:07.041515Z"
    },
    "papermill": {
     "duration": 0.040918,
     "end_time": "2023-07-24T16:03:07.044640",
     "exception": false,
     "start_time": "2023-07-24T16:03:07.003722",
     "status": "completed"
    },
    "tags": []
   },
   "outputs": [],
   "source": [
    "# ridge \n",
    "from sklearn.linear_model import RidgeClassifier\n",
    "ridgeClf = RidgeClassifier(alpha = 0.1,\n",
    "                                random_state=42,\n",
    "                               class_weight ='balanced',\n",
    "                           max_iter= 1000\n",
    "                                ).fit(X_train_scaled,\n",
    "                                 y_train0,\n",
    "                                )\n"
   ]
  },
  {
   "cell_type": "code",
   "execution_count": 19,
   "id": "febdc01e",
   "metadata": {
    "execution": {
     "iopub.execute_input": "2023-07-24T16:03:07.073044Z",
     "iopub.status.busy": "2023-07-24T16:03:07.072165Z",
     "iopub.status.idle": "2023-07-24T16:03:07.077161Z",
     "shell.execute_reply": "2023-07-24T16:03:07.076390Z"
    },
    "papermill": {
     "duration": 0.022496,
     "end_time": "2023-07-24T16:03:07.080396",
     "exception": false,
     "start_time": "2023-07-24T16:03:07.057900",
     "status": "completed"
    },
    "tags": []
   },
   "outputs": [],
   "source": [
    "# ridgeCV\n",
    "from sklearn import linear_model\n",
    "ridgeCV = linear_model.RidgeCV(alphas=np.logspace(-6, 6, 13),cv = 5)"
   ]
  },
  {
   "cell_type": "code",
   "execution_count": 20,
   "id": "6874bf1c",
   "metadata": {
    "execution": {
     "iopub.execute_input": "2023-07-24T16:03:07.108836Z",
     "iopub.status.busy": "2023-07-24T16:03:07.107965Z",
     "iopub.status.idle": "2023-07-24T16:03:07.112093Z",
     "shell.execute_reply": "2023-07-24T16:03:07.111356Z"
    },
    "papermill": {
     "duration": 0.021571,
     "end_time": "2023-07-24T16:03:07.115185",
     "exception": false,
     "start_time": "2023-07-24T16:03:07.093614",
     "status": "completed"
    },
    "tags": []
   },
   "outputs": [],
   "source": [
    "from sklearn.ensemble import RandomForestClassifier\n",
    "Rf = RandomForestClassifier(n_estimators=10)"
   ]
  },
  {
   "cell_type": "code",
   "execution_count": 21,
   "id": "dac67641",
   "metadata": {
    "execution": {
     "iopub.execute_input": "2023-07-24T16:03:07.143758Z",
     "iopub.status.busy": "2023-07-24T16:03:07.142842Z",
     "iopub.status.idle": "2023-07-24T16:03:07.147047Z",
     "shell.execute_reply": "2023-07-24T16:03:07.146371Z"
    },
    "papermill": {
     "duration": 0.021205,
     "end_time": "2023-07-24T16:03:07.149693",
     "exception": false,
     "start_time": "2023-07-24T16:03:07.128488",
     "status": "completed"
    },
    "tags": []
   },
   "outputs": [],
   "source": [
    "DTclf = DecisionTreeClassifier(max_depth=None, min_samples_split=2,\n",
    "     random_state=0)\n",
    "#scores = cross_val_score(clf, X, y, cv=5)\n",
    "#scores.mean()\n"
   ]
  },
  {
   "cell_type": "code",
   "execution_count": 22,
   "id": "12532696",
   "metadata": {
    "execution": {
     "iopub.execute_input": "2023-07-24T16:03:07.172805Z",
     "iopub.status.busy": "2023-07-24T16:03:07.172458Z",
     "iopub.status.idle": "2023-07-24T16:03:07.178162Z",
     "shell.execute_reply": "2023-07-24T16:03:07.177269Z"
    },
    "papermill": {
     "duration": 0.018976,
     "end_time": "2023-07-24T16:03:07.179815",
     "exception": false,
     "start_time": "2023-07-24T16:03:07.160839",
     "status": "completed"
    },
    "tags": []
   },
   "outputs": [],
   "source": [
    "# extra tree classifier \n",
    "XTclf = ExtraTreesClassifier(n_estimators=10, max_depth=None,\n",
    "     min_samples_split=2, random_state=0)\n",
    " #scores = cross_val_score(clf, X, y, cv=5)\n"
   ]
  },
  {
   "cell_type": "code",
   "execution_count": 23,
   "id": "64d1ee62",
   "metadata": {
    "execution": {
     "iopub.execute_input": "2023-07-24T16:03:07.202005Z",
     "iopub.status.busy": "2023-07-24T16:03:07.201329Z",
     "iopub.status.idle": "2023-07-24T16:03:07.206680Z",
     "shell.execute_reply": "2023-07-24T16:03:07.205515Z"
    },
    "papermill": {
     "duration": 0.019005,
     "end_time": "2023-07-24T16:03:07.209073",
     "exception": false,
     "start_time": "2023-07-24T16:03:07.190068",
     "status": "completed"
    },
    "tags": []
   },
   "outputs": [],
   "source": [
    "from sklearn.ensemble import BaggingClassifier\n",
    "from sklearn.neighbors import KNeighborsClassifier\n",
    "bagging = BaggingClassifier(KNeighborsClassifier(),\n",
    "                             max_samples=0.5, max_features=0.5)"
   ]
  },
  {
   "cell_type": "code",
   "execution_count": 24,
   "id": "4bd0d226",
   "metadata": {
    "execution": {
     "iopub.execute_input": "2023-07-24T16:03:07.232192Z",
     "iopub.status.busy": "2023-07-24T16:03:07.231480Z",
     "iopub.status.idle": "2023-07-24T16:03:07.236241Z",
     "shell.execute_reply": "2023-07-24T16:03:07.235240Z"
    },
    "papermill": {
     "duration": 0.018486,
     "end_time": "2023-07-24T16:03:07.238281",
     "exception": false,
     "start_time": "2023-07-24T16:03:07.219795",
     "status": "completed"
    },
    "tags": []
   },
   "outputs": [],
   "source": [
    "from sklearn.ensemble import AdaBoostClassifier\n",
    "\n",
    "adaClf = AdaBoostClassifier(n_estimators=100)"
   ]
  },
  {
   "cell_type": "code",
   "execution_count": 25,
   "id": "6423a145",
   "metadata": {
    "execution": {
     "iopub.execute_input": "2023-07-24T16:03:07.262041Z",
     "iopub.status.busy": "2023-07-24T16:03:07.261681Z",
     "iopub.status.idle": "2023-07-24T16:03:07.267211Z",
     "shell.execute_reply": "2023-07-24T16:03:07.265819Z"
    },
    "papermill": {
     "duration": 0.019544,
     "end_time": "2023-07-24T16:03:07.269658",
     "exception": false,
     "start_time": "2023-07-24T16:03:07.250114",
     "status": "completed"
    },
    "tags": []
   },
   "outputs": [],
   "source": [
    "# gradient boosting classifier\n",
    "from sklearn.ensemble import GradientBoostingClassifier\n",
    "\n",
    "gbclf = GradientBoostingClassifier(n_estimators=100, learning_rate=1.0,\n",
    "     max_depth=1, random_state=0)"
   ]
  },
  {
   "cell_type": "code",
   "execution_count": 26,
   "id": "779ab824",
   "metadata": {
    "execution": {
     "iopub.execute_input": "2023-07-24T16:03:07.291908Z",
     "iopub.status.busy": "2023-07-24T16:03:07.291517Z",
     "iopub.status.idle": "2023-07-24T16:03:07.296724Z",
     "shell.execute_reply": "2023-07-24T16:03:07.295533Z"
    },
    "papermill": {
     "duration": 0.018339,
     "end_time": "2023-07-24T16:03:07.298559",
     "exception": false,
     "start_time": "2023-07-24T16:03:07.280220",
     "status": "completed"
    },
    "tags": []
   },
   "outputs": [],
   "source": [
    "# Histogram based Gradient Boosting Classifier\n",
    "from sklearn.ensemble import HistGradientBoostingClassifier\n",
    "\n",
    "hbGbclf = HistGradientBoostingClassifier(max_iter=100)\n"
   ]
  },
  {
   "cell_type": "code",
   "execution_count": 27,
   "id": "febbe4f6",
   "metadata": {
    "execution": {
     "iopub.execute_input": "2023-07-24T16:03:07.320941Z",
     "iopub.status.busy": "2023-07-24T16:03:07.320601Z",
     "iopub.status.idle": "2023-07-24T16:03:07.325706Z",
     "shell.execute_reply": "2023-07-24T16:03:07.324818Z"
    },
    "papermill": {
     "duration": 0.018675,
     "end_time": "2023-07-24T16:03:07.327751",
     "exception": false,
     "start_time": "2023-07-24T16:03:07.309076",
     "status": "completed"
    },
    "tags": []
   },
   "outputs": [],
   "source": [
    "# model dictionary\n",
    "model_dict = {\"regClf\": regClf,\n",
    "              \"ridge\": ridgeClf,\n",
    "              \"ridgeCV\": ridgeCV,\n",
    "    # average meodels \n",
    "              \"Rf\": Rf,\n",
    "              \"DTclf\": DTclf,\n",
    "              \"XTclf\": XTclf,\n",
    "              \"bagCl\": bagging,\n",
    "    # boosting models \n",
    "             \"adaClf\": adaClf,\n",
    "            \"gbCl\": gbclf ,\n",
    "            \"hbGbclf\" : hbGbclf\n",
    "    # voting classifier\n",
    "    # stacked (generalization ) classifier\n",
    "        }"
   ]
  },
  {
   "cell_type": "code",
   "execution_count": 28,
   "id": "9d2304f7",
   "metadata": {
    "execution": {
     "iopub.execute_input": "2023-07-24T16:03:07.352305Z",
     "iopub.status.busy": "2023-07-24T16:03:07.351673Z",
     "iopub.status.idle": "2023-07-24T16:03:07.357321Z",
     "shell.execute_reply": "2023-07-24T16:03:07.356700Z"
    },
    "papermill": {
     "duration": 0.020412,
     "end_time": "2023-07-24T16:03:07.359596",
     "exception": false,
     "start_time": "2023-07-24T16:03:07.339184",
     "status": "completed"
    },
    "tags": []
   },
   "outputs": [],
   "source": [
    "# function to run models \n",
    "def runModel(model_dict,train_data,y_train):\n",
    "    scores = {}\n",
    "    for model in model_dict :\n",
    "        model0 =model_dict[model].fit(train_data,y_train)\n",
    "        perf0 = cross_val_score(model0,train_data,y_train,cv= 5).mean()\n",
    "        scores[model] = perf0\n",
    "        print(model)\n",
    "    perf_df = (pd.DataFrame(data = scores.values(), index = scores.keys(), columns = [\"perf\"])\n",
    "        .sort_values(by=\"perf\",ascending = False)\n",
    "        )\n",
    "    print(\"\\n\")\n",
    "    return perf_df.iloc[:1,0]\n"
   ]
  },
  {
   "cell_type": "code",
   "execution_count": 29,
   "id": "2c8a14c1",
   "metadata": {
    "execution": {
     "iopub.execute_input": "2023-07-24T16:03:07.382697Z",
     "iopub.status.busy": "2023-07-24T16:03:07.382105Z",
     "iopub.status.idle": "2023-07-24T16:03:16.100806Z",
     "shell.execute_reply": "2023-07-24T16:03:16.099735Z"
    },
    "papermill": {
     "duration": 8.732874,
     "end_time": "2023-07-24T16:03:16.103205",
     "exception": false,
     "start_time": "2023-07-24T16:03:07.370331",
     "status": "completed"
    },
    "tags": []
   },
   "outputs": [
    {
     "name": "stderr",
     "output_type": "stream",
     "text": [
      "/opt/conda/lib/python3.10/site-packages/sklearn/linear_model/_logistic.py:458: ConvergenceWarning: lbfgs failed to converge (status=1):\n",
      "STOP: TOTAL NO. of ITERATIONS REACHED LIMIT.\n",
      "\n",
      "Increase the number of iterations (max_iter) or scale the data as shown in:\n",
      "    https://scikit-learn.org/stable/modules/preprocessing.html\n",
      "Please also refer to the documentation for alternative solver options:\n",
      "    https://scikit-learn.org/stable/modules/linear_model.html#logistic-regression\n",
      "  n_iter_i = _check_optimize_result(\n",
      "/opt/conda/lib/python3.10/site-packages/sklearn/linear_model/_logistic.py:458: ConvergenceWarning: lbfgs failed to converge (status=1):\n",
      "STOP: TOTAL NO. of ITERATIONS REACHED LIMIT.\n",
      "\n",
      "Increase the number of iterations (max_iter) or scale the data as shown in:\n",
      "    https://scikit-learn.org/stable/modules/preprocessing.html\n",
      "Please also refer to the documentation for alternative solver options:\n",
      "    https://scikit-learn.org/stable/modules/linear_model.html#logistic-regression\n",
      "  n_iter_i = _check_optimize_result(\n",
      "/opt/conda/lib/python3.10/site-packages/sklearn/linear_model/_logistic.py:458: ConvergenceWarning: lbfgs failed to converge (status=1):\n",
      "STOP: TOTAL NO. of ITERATIONS REACHED LIMIT.\n",
      "\n",
      "Increase the number of iterations (max_iter) or scale the data as shown in:\n",
      "    https://scikit-learn.org/stable/modules/preprocessing.html\n",
      "Please also refer to the documentation for alternative solver options:\n",
      "    https://scikit-learn.org/stable/modules/linear_model.html#logistic-regression\n",
      "  n_iter_i = _check_optimize_result(\n",
      "/opt/conda/lib/python3.10/site-packages/sklearn/linear_model/_logistic.py:458: ConvergenceWarning: lbfgs failed to converge (status=1):\n",
      "STOP: TOTAL NO. of ITERATIONS REACHED LIMIT.\n",
      "\n",
      "Increase the number of iterations (max_iter) or scale the data as shown in:\n",
      "    https://scikit-learn.org/stable/modules/preprocessing.html\n",
      "Please also refer to the documentation for alternative solver options:\n",
      "    https://scikit-learn.org/stable/modules/linear_model.html#logistic-regression\n",
      "  n_iter_i = _check_optimize_result(\n",
      "/opt/conda/lib/python3.10/site-packages/sklearn/linear_model/_logistic.py:458: ConvergenceWarning: lbfgs failed to converge (status=1):\n",
      "STOP: TOTAL NO. of ITERATIONS REACHED LIMIT.\n",
      "\n",
      "Increase the number of iterations (max_iter) or scale the data as shown in:\n",
      "    https://scikit-learn.org/stable/modules/preprocessing.html\n",
      "Please also refer to the documentation for alternative solver options:\n",
      "    https://scikit-learn.org/stable/modules/linear_model.html#logistic-regression\n",
      "  n_iter_i = _check_optimize_result(\n",
      "/opt/conda/lib/python3.10/site-packages/sklearn/linear_model/_logistic.py:458: ConvergenceWarning: lbfgs failed to converge (status=1):\n",
      "STOP: TOTAL NO. of ITERATIONS REACHED LIMIT.\n",
      "\n",
      "Increase the number of iterations (max_iter) or scale the data as shown in:\n",
      "    https://scikit-learn.org/stable/modules/preprocessing.html\n",
      "Please also refer to the documentation for alternative solver options:\n",
      "    https://scikit-learn.org/stable/modules/linear_model.html#logistic-regression\n",
      "  n_iter_i = _check_optimize_result(\n"
     ]
    },
    {
     "name": "stdout",
     "output_type": "stream",
     "text": [
      "regClf\n",
      "ridge\n",
      "ridgeCV\n",
      "Rf\n",
      "DTclf\n",
      "XTclf\n",
      "bagCl\n",
      "adaClf\n",
      "gbCl\n",
      "hbGbclf\n",
      "\n",
      "\n"
     ]
    },
    {
     "data": {
      "text/plain": [
       "hbGbclf    0.931107\n",
       "Name: perf, dtype: float64"
      ]
     },
     "execution_count": 29,
     "metadata": {},
     "output_type": "execute_result"
    }
   ],
   "source": [
    "perf = runModel(model_dict=model_dict,train_data = X_train,y_train = y_train0)\n",
    "perf"
   ]
  },
  {
   "cell_type": "code",
   "execution_count": 30,
   "id": "b47910f5",
   "metadata": {
    "execution": {
     "iopub.execute_input": "2023-07-24T16:03:16.127009Z",
     "iopub.status.busy": "2023-07-24T16:03:16.126644Z",
     "iopub.status.idle": "2023-07-24T16:03:16.434078Z",
     "shell.execute_reply": "2023-07-24T16:03:16.433269Z"
    },
    "papermill": {
     "duration": 0.321371,
     "end_time": "2023-07-24T16:03:16.435990",
     "exception": false,
     "start_time": "2023-07-24T16:03:16.114619",
     "status": "completed"
    },
    "tags": []
   },
   "outputs": [
    {
     "name": "stdout",
     "output_type": "stream",
     "text": [
      "valid score: 99.0 %\n",
      "\n"
     ]
    }
   ],
   "source": [
    "#valid score\n",
    "# fit model \n",
    "hbGbclf.fit(X_train,y_train0)\n",
    "\n",
    "# predict\n",
    "pred_val = hbGbclf.predict_proba(valid[num_var])\n",
    "pred_val2 = hbGbclf.predict(valid[num_var])\n",
    "print(f'valid score: {hbGbclf.score(valid[num_var],valid[\"Class\"]).round(2)*100} %\\n')"
   ]
  },
  {
   "cell_type": "code",
   "execution_count": 31,
   "id": "ebce91c5",
   "metadata": {
    "execution": {
     "iopub.execute_input": "2023-07-24T16:03:16.459736Z",
     "iopub.status.busy": "2023-07-24T16:03:16.459373Z",
     "iopub.status.idle": "2023-07-24T16:03:16.474798Z",
     "shell.execute_reply": "2023-07-24T16:03:16.473138Z"
    },
    "papermill": {
     "duration": 0.029611,
     "end_time": "2023-07-24T16:03:16.476929",
     "exception": false,
     "start_time": "2023-07-24T16:03:16.447318",
     "status": "completed"
    },
    "tags": []
   },
   "outputs": [
    {
     "name": "stdout",
     "output_type": "stream",
     "text": [
      "              precision    recall  f1-score   support\n",
      "\n",
      "     class_0       0.99      1.00      0.99        82\n",
      "     class_1       1.00      0.94      0.97        17\n",
      "\n",
      "    accuracy                           0.99        99\n",
      "   macro avg       0.99      0.97      0.98        99\n",
      "weighted avg       0.99      0.99      0.99        99\n",
      "\n"
     ]
    }
   ],
   "source": [
    "from sklearn.metrics import classification_report\n",
    "\n",
    "y_true = valid['Class']\n",
    "y_pred = pred_val2\n",
    "target_names = ['class_0', 'class_1']\n",
    "print(classification_report(y_true, y_pred, target_names=target_names))"
   ]
  },
  {
   "cell_type": "markdown",
   "id": "286bbe39",
   "metadata": {
    "papermill": {
     "duration": 0.010852,
     "end_time": "2023-07-24T16:03:16.499130",
     "exception": false,
     "start_time": "2023-07-24T16:03:16.488278",
     "status": "completed"
    },
    "tags": []
   },
   "source": [
    "Let us now plot the first 6 numerical columns and their values using bar charts."
   ]
  },
  {
   "cell_type": "code",
   "execution_count": 32,
   "id": "561495a9",
   "metadata": {
    "execution": {
     "iopub.execute_input": "2023-07-24T16:03:16.523398Z",
     "iopub.status.busy": "2023-07-24T16:03:16.523045Z",
     "iopub.status.idle": "2023-07-24T16:03:16.531824Z",
     "shell.execute_reply": "2023-07-24T16:03:16.530441Z"
    },
    "papermill": {
     "duration": 0.023785,
     "end_time": "2023-07-24T16:03:16.534211",
     "exception": false,
     "start_time": "2023-07-24T16:03:16.510426",
     "status": "completed"
    },
    "tags": []
   },
   "outputs": [
    {
     "data": {
      "text/plain": [
       "array([[82,  0],\n",
       "       [ 1, 16]])"
      ]
     },
     "execution_count": 32,
     "metadata": {},
     "output_type": "execute_result"
    }
   ],
   "source": [
    "from sklearn.metrics import confusion_matrix\n",
    "confusion_matrix(y_true, y_pred)"
   ]
  },
  {
   "cell_type": "markdown",
   "id": "ecd4d036",
   "metadata": {
    "papermill": {
     "duration": 0.010724,
     "end_time": "2023-07-24T16:03:16.556546",
     "exception": false,
     "start_time": "2023-07-24T16:03:16.545822",
     "status": "completed"
    },
    "tags": []
   },
   "source": [
    "# Submission"
   ]
  },
  {
   "cell_type": "code",
   "execution_count": 33,
   "id": "18b9d0b8",
   "metadata": {
    "execution": {
     "iopub.execute_input": "2023-07-24T16:03:16.580137Z",
     "iopub.status.busy": "2023-07-24T16:03:16.579847Z",
     "iopub.status.idle": "2023-07-24T16:03:16.601402Z",
     "shell.execute_reply": "2023-07-24T16:03:16.600551Z"
    },
    "papermill": {
     "duration": 0.035654,
     "end_time": "2023-07-24T16:03:16.603242",
     "exception": false,
     "start_time": "2023-07-24T16:03:16.567588",
     "status": "completed"
    },
    "tags": []
   },
   "outputs": [],
   "source": [
    "# read test dataframe and predict \n",
    "test_df = pd.read_csv('/kaggle/input/icr-identify-age-related-conditions/test.csv')\n",
    "predictions = hbGbclf.predict_proba(test_df.select_dtypes(exclude=object))\n",
    "\n",
    "predictions = pd.DataFrame(predictions)\n",
    "\n",
    "# add test Id\n",
    "predictions[\"Id\"] = test_df[\"Id\"]\n",
    "predictions[\"class_0\"] = predictions.iloc[:,0]\n",
    "predictions[\"class_1\"] = predictions.iloc[:,1]\n",
    "predictions = predictions[[\"Id\",\"class_0\",\"class_1\"]]"
   ]
  },
  {
   "cell_type": "code",
   "execution_count": 34,
   "id": "0f3487c4",
   "metadata": {
    "execution": {
     "iopub.execute_input": "2023-07-24T16:03:16.627457Z",
     "iopub.status.busy": "2023-07-24T16:03:16.627124Z",
     "iopub.status.idle": "2023-07-24T16:03:16.642531Z",
     "shell.execute_reply": "2023-07-24T16:03:16.641107Z"
    },
    "papermill": {
     "duration": 0.029757,
     "end_time": "2023-07-24T16:03:16.644429",
     "exception": false,
     "start_time": "2023-07-24T16:03:16.614672",
     "status": "completed"
    },
    "tags": []
   },
   "outputs": [
    {
     "data": {
      "text/html": [
       "<div>\n",
       "<style scoped>\n",
       "    .dataframe tbody tr th:only-of-type {\n",
       "        vertical-align: middle;\n",
       "    }\n",
       "\n",
       "    .dataframe tbody tr th {\n",
       "        vertical-align: top;\n",
       "    }\n",
       "\n",
       "    .dataframe thead th {\n",
       "        text-align: right;\n",
       "    }\n",
       "</style>\n",
       "<table border=\"1\" class=\"dataframe\">\n",
       "  <thead>\n",
       "    <tr style=\"text-align: right;\">\n",
       "      <th></th>\n",
       "      <th>Id</th>\n",
       "      <th>class_0</th>\n",
       "      <th>class_1</th>\n",
       "    </tr>\n",
       "  </thead>\n",
       "  <tbody>\n",
       "    <tr>\n",
       "      <th>0</th>\n",
       "      <td>00eed32682bb</td>\n",
       "      <td>0.030582</td>\n",
       "      <td>0.969418</td>\n",
       "    </tr>\n",
       "    <tr>\n",
       "      <th>1</th>\n",
       "      <td>010ebe33f668</td>\n",
       "      <td>0.030582</td>\n",
       "      <td>0.969418</td>\n",
       "    </tr>\n",
       "    <tr>\n",
       "      <th>2</th>\n",
       "      <td>02fa521e1838</td>\n",
       "      <td>0.030582</td>\n",
       "      <td>0.969418</td>\n",
       "    </tr>\n",
       "    <tr>\n",
       "      <th>3</th>\n",
       "      <td>040e15f562a2</td>\n",
       "      <td>0.030582</td>\n",
       "      <td>0.969418</td>\n",
       "    </tr>\n",
       "    <tr>\n",
       "      <th>4</th>\n",
       "      <td>046e85c7cc7f</td>\n",
       "      <td>0.030582</td>\n",
       "      <td>0.969418</td>\n",
       "    </tr>\n",
       "  </tbody>\n",
       "</table>\n",
       "</div>"
      ],
      "text/plain": [
       "             Id   class_0   class_1\n",
       "0  00eed32682bb  0.030582  0.969418\n",
       "1  010ebe33f668  0.030582  0.969418\n",
       "2  02fa521e1838  0.030582  0.969418\n",
       "3  040e15f562a2  0.030582  0.969418\n",
       "4  046e85c7cc7f  0.030582  0.969418"
      ]
     },
     "execution_count": 34,
     "metadata": {},
     "output_type": "execute_result"
    }
   ],
   "source": [
    "# write csv \n",
    "predictions.to_csv(\"submission.csv\", index = None)\n",
    "pd.read_csv(\"/kaggle/working/submission.csv\")\n",
    "#pd.read_csv('/kaggle/input/icr-identify-age-related-conditions/sample_submission.csv')"
   ]
  },
  {
   "cell_type": "code",
   "execution_count": 35,
   "id": "5a064422",
   "metadata": {
    "execution": {
     "iopub.execute_input": "2023-07-24T16:03:16.668845Z",
     "iopub.status.busy": "2023-07-24T16:03:16.668509Z",
     "iopub.status.idle": "2023-07-24T16:03:16.686967Z",
     "shell.execute_reply": "2023-07-24T16:03:16.685711Z"
    },
    "papermill": {
     "duration": 0.033551,
     "end_time": "2023-07-24T16:03:16.689448",
     "exception": false,
     "start_time": "2023-07-24T16:03:16.655897",
     "status": "completed"
    },
    "tags": []
   },
   "outputs": [
    {
     "data": {
      "text/html": [
       "<div>\n",
       "<style scoped>\n",
       "    .dataframe tbody tr th:only-of-type {\n",
       "        vertical-align: middle;\n",
       "    }\n",
       "\n",
       "    .dataframe tbody tr th {\n",
       "        vertical-align: top;\n",
       "    }\n",
       "\n",
       "    .dataframe thead th {\n",
       "        text-align: right;\n",
       "    }\n",
       "</style>\n",
       "<table border=\"1\" class=\"dataframe\">\n",
       "  <thead>\n",
       "    <tr style=\"text-align: right;\">\n",
       "      <th></th>\n",
       "      <th>Id</th>\n",
       "      <th>class_0</th>\n",
       "      <th>class_1</th>\n",
       "    </tr>\n",
       "  </thead>\n",
       "  <tbody>\n",
       "    <tr>\n",
       "      <th>0</th>\n",
       "      <td>00eed32682bb</td>\n",
       "      <td>0.030582</td>\n",
       "      <td>0.969418</td>\n",
       "    </tr>\n",
       "    <tr>\n",
       "      <th>1</th>\n",
       "      <td>010ebe33f668</td>\n",
       "      <td>0.030582</td>\n",
       "      <td>0.969418</td>\n",
       "    </tr>\n",
       "    <tr>\n",
       "      <th>2</th>\n",
       "      <td>02fa521e1838</td>\n",
       "      <td>0.030582</td>\n",
       "      <td>0.969418</td>\n",
       "    </tr>\n",
       "    <tr>\n",
       "      <th>3</th>\n",
       "      <td>040e15f562a2</td>\n",
       "      <td>0.030582</td>\n",
       "      <td>0.969418</td>\n",
       "    </tr>\n",
       "    <tr>\n",
       "      <th>4</th>\n",
       "      <td>046e85c7cc7f</td>\n",
       "      <td>0.030582</td>\n",
       "      <td>0.969418</td>\n",
       "    </tr>\n",
       "  </tbody>\n",
       "</table>\n",
       "</div>"
      ],
      "text/plain": [
       "             Id   class_0   class_1\n",
       "0  00eed32682bb  0.030582  0.969418\n",
       "1  010ebe33f668  0.030582  0.969418\n",
       "2  02fa521e1838  0.030582  0.969418\n",
       "3  040e15f562a2  0.030582  0.969418\n",
       "4  046e85c7cc7f  0.030582  0.969418"
      ]
     },
     "execution_count": 35,
     "metadata": {},
     "output_type": "execute_result"
    }
   ],
   "source": [
    "sample_submission = pd.read_csv(\"/kaggle/input/icr-identify-age-related-conditions/sample_submission.csv\")\n",
    "sample_submission[['class_0', 'class_1']] = predictions[['class_0', 'class_1']]\n",
    "sample_submission.to_csv('/kaggle/working/submission.csv', index=False)\n",
    "pd.read_csv(\"/kaggle/working/submission.csv\")"
   ]
  }
 ],
 "metadata": {
  "kernelspec": {
   "display_name": "Python 3",
   "language": "python",
   "name": "python3"
  },
  "language_info": {
   "codemirror_mode": {
    "name": "ipython",
    "version": 3
   },
   "file_extension": ".py",
   "mimetype": "text/x-python",
   "name": "python",
   "nbconvert_exporter": "python",
   "pygments_lexer": "ipython3",
   "version": "3.10.10"
  },
  "papermill": {
   "default_parameters": {},
   "duration": 24.295893,
   "end_time": "2023-07-24T16:03:17.622446",
   "environment_variables": {},
   "exception": null,
   "input_path": "__notebook__.ipynb",
   "output_path": "__notebook__.ipynb",
   "parameters": {},
   "start_time": "2023-07-24T16:02:53.326553",
   "version": "2.4.0"
  }
 },
 "nbformat": 4,
 "nbformat_minor": 5
}
