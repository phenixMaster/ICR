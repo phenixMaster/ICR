{
 "cells": [
  {
   "cell_type": "code",
   "execution_count": 1,
   "id": "89daba01",
   "metadata": {
    "_cell_guid": "b1076dfc-b9ad-4769-8c92-a6c4dae69d19",
    "_uuid": "8f2839f25d086af736a60e9eeb907d3b93b6e0e5",
    "execution": {
     "iopub.execute_input": "2023-08-08T09:30:37.587639Z",
     "iopub.status.busy": "2023-08-08T09:30:37.587023Z",
     "iopub.status.idle": "2023-08-08T09:30:50.773634Z",
     "shell.execute_reply": "2023-08-08T09:30:50.772655Z"
    },
    "papermill": {
     "duration": 13.196172,
     "end_time": "2023-08-08T09:30:50.776744",
     "exception": false,
     "start_time": "2023-08-08T09:30:37.580572",
     "status": "completed"
    },
    "tags": []
   },
   "outputs": [],
   "source": [
    "import pandas as pd\n",
    "from string import Template\n",
    "from pathlib import Path\n",
    "\n",
    "import warnings\n",
    "warnings.simplefilter(\"ignore\")\n",
    "\n",
    "import torch\n",
    "from transformers import T5Tokenizer, T5ForConditionalGeneration\n",
    "\n",
    "data_path = Path('/kaggle/input/kaggle-llm-science-exam')"
   ]
  },
  {
   "cell_type": "markdown",
   "id": "91d5bf01",
   "metadata": {
    "papermill": {
     "duration": 0.004417,
     "end_time": "2023-08-08T09:30:50.786361",
     "exception": false,
     "start_time": "2023-08-08T09:30:50.781944",
     "status": "completed"
    },
    "tags": []
   },
   "source": [
    "## We'll use `FLAN-T5-base` from Kaggle's Model Hub\n",
    "\n",
    "You'll probably want to turn on the GPU option for the notebook! (Remember though, since this is a Code competition, you'll need to set Internet to Off for Notebook submissions to the competition.)"
   ]
  },
  {
   "cell_type": "code",
   "execution_count": 2,
   "id": "c96677d5",
   "metadata": {
    "_kg_hide-output": true,
    "execution": {
     "iopub.execute_input": "2023-08-08T09:30:50.796940Z",
     "iopub.status.busy": "2023-08-08T09:30:50.796651Z",
     "iopub.status.idle": "2023-08-08T09:31:09.606980Z",
     "shell.execute_reply": "2023-08-08T09:31:09.605985Z"
    },
    "papermill": {
     "duration": 18.818624,
     "end_time": "2023-08-08T09:31:09.609745",
     "exception": false,
     "start_time": "2023-08-08T09:30:50.791121",
     "status": "completed"
    },
    "tags": []
   },
   "outputs": [],
   "source": [
    "llm = '/kaggle/input/flan-t5/pytorch/base/2'\n",
    "\n",
    "\n",
    "device = \"cuda:0\" if torch.cuda.is_available() else \"cpu\"\n",
    "model = T5ForConditionalGeneration.from_pretrained(llm).to(device)\n",
    "tokenizer = T5Tokenizer.from_pretrained(llm)"
   ]
  },
  {
   "cell_type": "markdown",
   "id": "eaab4d5a",
   "metadata": {
    "papermill": {
     "duration": 0.004418,
     "end_time": "2023-08-08T09:31:09.619212",
     "exception": false,
     "start_time": "2023-08-08T09:31:09.614794",
     "status": "completed"
    },
    "tags": []
   },
   "source": [
    "The data is formatted as follows. For each `prompt` (e.g., the question) there are five possible answers labeled `[A-E]`. Only one of the answers is correct."
   ]
  },
  {
   "cell_type": "code",
   "execution_count": 3,
   "id": "2da2695f",
   "metadata": {
    "execution": {
     "iopub.execute_input": "2023-08-08T09:31:09.629852Z",
     "iopub.status.busy": "2023-08-08T09:31:09.629546Z",
     "iopub.status.idle": "2023-08-08T09:31:09.664082Z",
     "shell.execute_reply": "2023-08-08T09:31:09.663001Z"
    },
    "papermill": {
     "duration": 0.043022,
     "end_time": "2023-08-08T09:31:09.667050",
     "exception": false,
     "start_time": "2023-08-08T09:31:09.624028",
     "status": "completed"
    },
    "tags": []
   },
   "outputs": [
    {
     "data": {
      "text/html": [
       "<div>\n",
       "<style scoped>\n",
       "    .dataframe tbody tr th:only-of-type {\n",
       "        vertical-align: middle;\n",
       "    }\n",
       "\n",
       "    .dataframe tbody tr th {\n",
       "        vertical-align: top;\n",
       "    }\n",
       "\n",
       "    .dataframe thead th {\n",
       "        text-align: right;\n",
       "    }\n",
       "</style>\n",
       "<table border=\"1\" class=\"dataframe\">\n",
       "  <thead>\n",
       "    <tr style=\"text-align: right;\">\n",
       "      <th></th>\n",
       "      <th>prompt</th>\n",
       "      <th>A</th>\n",
       "      <th>B</th>\n",
       "      <th>C</th>\n",
       "      <th>D</th>\n",
       "      <th>E</th>\n",
       "    </tr>\n",
       "    <tr>\n",
       "      <th>id</th>\n",
       "      <th></th>\n",
       "      <th></th>\n",
       "      <th></th>\n",
       "      <th></th>\n",
       "      <th></th>\n",
       "      <th></th>\n",
       "    </tr>\n",
       "  </thead>\n",
       "  <tbody>\n",
       "    <tr>\n",
       "      <th>0</th>\n",
       "      <td>Which of the following statements accurately d...</td>\n",
       "      <td>MOND is a theory that reduces the observed mis...</td>\n",
       "      <td>MOND is a theory that increases the discrepanc...</td>\n",
       "      <td>MOND is a theory that explains the missing bar...</td>\n",
       "      <td>MOND is a theory that reduces the discrepancy ...</td>\n",
       "      <td>MOND is a theory that eliminates the observed ...</td>\n",
       "    </tr>\n",
       "    <tr>\n",
       "      <th>1</th>\n",
       "      <td>Which of the following is an accurate definiti...</td>\n",
       "      <td>Dynamic scaling refers to the evolution of sel...</td>\n",
       "      <td>Dynamic scaling refers to the non-evolution of...</td>\n",
       "      <td>Dynamic scaling refers to the evolution of sel...</td>\n",
       "      <td>Dynamic scaling refers to the non-evolution of...</td>\n",
       "      <td>Dynamic scaling refers to the evolution of sel...</td>\n",
       "    </tr>\n",
       "    <tr>\n",
       "      <th>2</th>\n",
       "      <td>Which of the following statements accurately d...</td>\n",
       "      <td>The triskeles symbol was reconstructed as a fe...</td>\n",
       "      <td>The triskeles symbol is a representation of th...</td>\n",
       "      <td>The triskeles symbol is a representation of a ...</td>\n",
       "      <td>The triskeles symbol represents three interloc...</td>\n",
       "      <td>The triskeles symbol is a representation of th...</td>\n",
       "    </tr>\n",
       "    <tr>\n",
       "      <th>3</th>\n",
       "      <td>What is the significance of regularization in ...</td>\n",
       "      <td>Regularizing the mass-energy of an electron wi...</td>\n",
       "      <td>Regularizing the mass-energy of an electron wi...</td>\n",
       "      <td>Regularizing the mass-energy of an electron wi...</td>\n",
       "      <td>Regularizing the mass-energy of an electron wi...</td>\n",
       "      <td>Regularizing the mass-energy of an electron wi...</td>\n",
       "    </tr>\n",
       "    <tr>\n",
       "      <th>4</th>\n",
       "      <td>Which of the following statements accurately d...</td>\n",
       "      <td>The angular spacing of features in the diffrac...</td>\n",
       "      <td>The angular spacing of features in the diffrac...</td>\n",
       "      <td>The angular spacing of features in the diffrac...</td>\n",
       "      <td>The angular spacing of features in the diffrac...</td>\n",
       "      <td>The angular spacing of features in the diffrac...</td>\n",
       "    </tr>\n",
       "  </tbody>\n",
       "</table>\n",
       "</div>"
      ],
      "text/plain": [
       "                                               prompt  \\\n",
       "id                                                      \n",
       "0   Which of the following statements accurately d...   \n",
       "1   Which of the following is an accurate definiti...   \n",
       "2   Which of the following statements accurately d...   \n",
       "3   What is the significance of regularization in ...   \n",
       "4   Which of the following statements accurately d...   \n",
       "\n",
       "                                                    A  \\\n",
       "id                                                      \n",
       "0   MOND is a theory that reduces the observed mis...   \n",
       "1   Dynamic scaling refers to the evolution of sel...   \n",
       "2   The triskeles symbol was reconstructed as a fe...   \n",
       "3   Regularizing the mass-energy of an electron wi...   \n",
       "4   The angular spacing of features in the diffrac...   \n",
       "\n",
       "                                                    B  \\\n",
       "id                                                      \n",
       "0   MOND is a theory that increases the discrepanc...   \n",
       "1   Dynamic scaling refers to the non-evolution of...   \n",
       "2   The triskeles symbol is a representation of th...   \n",
       "3   Regularizing the mass-energy of an electron wi...   \n",
       "4   The angular spacing of features in the diffrac...   \n",
       "\n",
       "                                                    C  \\\n",
       "id                                                      \n",
       "0   MOND is a theory that explains the missing bar...   \n",
       "1   Dynamic scaling refers to the evolution of sel...   \n",
       "2   The triskeles symbol is a representation of a ...   \n",
       "3   Regularizing the mass-energy of an electron wi...   \n",
       "4   The angular spacing of features in the diffrac...   \n",
       "\n",
       "                                                    D  \\\n",
       "id                                                      \n",
       "0   MOND is a theory that reduces the discrepancy ...   \n",
       "1   Dynamic scaling refers to the non-evolution of...   \n",
       "2   The triskeles symbol represents three interloc...   \n",
       "3   Regularizing the mass-energy of an electron wi...   \n",
       "4   The angular spacing of features in the diffrac...   \n",
       "\n",
       "                                                    E  \n",
       "id                                                     \n",
       "0   MOND is a theory that eliminates the observed ...  \n",
       "1   Dynamic scaling refers to the evolution of sel...  \n",
       "2   The triskeles symbol is a representation of th...  \n",
       "3   Regularizing the mass-energy of an electron wi...  \n",
       "4   The angular spacing of features in the diffrac...  "
      ]
     },
     "execution_count": 3,
     "metadata": {},
     "output_type": "execute_result"
    }
   ],
   "source": [
    "test = pd.read_csv(data_path / 'test.csv', index_col='id')\n",
    "test.head()"
   ]
  },
  {
   "cell_type": "markdown",
   "id": "aeb7e7b7",
   "metadata": {
    "papermill": {
     "duration": 0.004896,
     "end_time": "2023-08-08T09:31:09.676808",
     "exception": false,
     "start_time": "2023-08-08T09:31:09.671912",
     "status": "completed"
    },
    "tags": []
   },
   "source": [
    "## Creating a preamble template\n",
    "\n",
    "How you format your prompt to input to the LLM can make a big difference in the output you get. Here, we try to instruct the LLM to rank all of the options from most likely to least likely."
   ]
  },
  {
   "cell_type": "code",
   "execution_count": 4,
   "id": "c17fe1c2",
   "metadata": {
    "execution": {
     "iopub.execute_input": "2023-08-08T09:31:09.688283Z",
     "iopub.status.busy": "2023-08-08T09:31:09.687856Z",
     "iopub.status.idle": "2023-08-08T09:31:09.692521Z",
     "shell.execute_reply": "2023-08-08T09:31:09.691403Z"
    },
    "papermill": {
     "duration": 0.013049,
     "end_time": "2023-08-08T09:31:09.695023",
     "exception": false,
     "start_time": "2023-08-08T09:31:09.681974",
     "status": "completed"
    },
    "tags": []
   },
   "outputs": [],
   "source": [
    "preamble = \\\n",
    "    'Answer the following question by outputting the letters A, B, C, D, and E '\\\n",
    "    'in order of the most likely to be correct to the to least likely to be correct.'\n",
    "\n",
    "template = Template('$preamble\\n\\n$prompt\\n\\nA) $a\\nB) $b\\nC) $c\\nD) $d\\nE) $e')"
   ]
  },
  {
   "cell_type": "code",
   "execution_count": 5,
   "id": "460c520e",
   "metadata": {
    "execution": {
     "iopub.execute_input": "2023-08-08T09:31:09.705984Z",
     "iopub.status.busy": "2023-08-08T09:31:09.705726Z",
     "iopub.status.idle": "2023-08-08T09:31:09.711831Z",
     "shell.execute_reply": "2023-08-08T09:31:09.710835Z"
    },
    "papermill": {
     "duration": 0.014399,
     "end_time": "2023-08-08T09:31:09.714294",
     "exception": false,
     "start_time": "2023-08-08T09:31:09.699895",
     "status": "completed"
    },
    "tags": []
   },
   "outputs": [],
   "source": [
    "def format_input(df, idx):\n",
    "    \n",
    "    prompt = df.loc[idx, 'prompt']\n",
    "    a = df.loc[idx, 'A']\n",
    "    b = df.loc[idx, 'B']\n",
    "    c = df.loc[idx, 'C']\n",
    "    d = df.loc[idx, 'D']\n",
    "    e = df.loc[idx, 'E']\n",
    "\n",
    "    input_text = template.substitute(\n",
    "        preamble=preamble, prompt=prompt, a=a, b=b, c=c, d=d, e=e)\n",
    "    \n",
    "    return input_text"
   ]
  },
  {
   "cell_type": "markdown",
   "id": "ecb52a8a",
   "metadata": {
    "papermill": {
     "duration": 0.004806,
     "end_time": "2023-08-08T09:31:09.723922",
     "exception": false,
     "start_time": "2023-08-08T09:31:09.719116",
     "status": "completed"
    },
    "tags": []
   },
   "source": [
    "This is an example of a formatted question that would be used as input to the LLM."
   ]
  },
  {
   "cell_type": "code",
   "execution_count": 6,
   "id": "67491781",
   "metadata": {
    "execution": {
     "iopub.execute_input": "2023-08-08T09:31:09.735045Z",
     "iopub.status.busy": "2023-08-08T09:31:09.734788Z",
     "iopub.status.idle": "2023-08-08T09:31:09.740100Z",
     "shell.execute_reply": "2023-08-08T09:31:09.739236Z"
    },
    "papermill": {
     "duration": 0.013862,
     "end_time": "2023-08-08T09:31:09.742842",
     "exception": false,
     "start_time": "2023-08-08T09:31:09.728980",
     "status": "completed"
    },
    "tags": []
   },
   "outputs": [
    {
     "name": "stdout",
     "output_type": "stream",
     "text": [
      "Answer the following question by outputting the letters A, B, C, D, and E in order of the most likely to be correct to the to least likely to be correct.\n",
      "\n",
      "Which of the following statements accurately describes the impact of Modified Newtonian Dynamics (MOND) on the observed \"missing baryonic mass\" discrepancy in galaxy clusters?\n",
      "\n",
      "A) MOND is a theory that reduces the observed missing baryonic mass in galaxy clusters by postulating the existence of a new form of matter called \"fuzzy dark matter.\"\n",
      "B) MOND is a theory that increases the discrepancy between the observed missing baryonic mass in galaxy clusters and the measured velocity dispersions from a factor of around 10 to a factor of about 20.\n",
      "C) MOND is a theory that explains the missing baryonic mass in galaxy clusters that was previously considered dark matter by demonstrating that the mass is in the form of neutrinos and axions.\n",
      "D) MOND is a theory that reduces the discrepancy between the observed missing baryonic mass in galaxy clusters and the measured velocity dispersions from a factor of around 10 to a factor of about 2.\n",
      "E) MOND is a theory that eliminates the observed missing baryonic mass in galaxy clusters by imposing a new mathematical formulation of gravity that does not require the existence of dark matter.\n"
     ]
    }
   ],
   "source": [
    "print(format_input(test, 0))"
   ]
  },
  {
   "cell_type": "code",
   "execution_count": 7,
   "id": "c9615953",
   "metadata": {
    "execution": {
     "iopub.execute_input": "2023-08-08T09:31:09.754103Z",
     "iopub.status.busy": "2023-08-08T09:31:09.753829Z",
     "iopub.status.idle": "2023-08-08T09:31:12.574138Z",
     "shell.execute_reply": "2023-08-08T09:31:12.573050Z"
    },
    "papermill": {
     "duration": 2.82836,
     "end_time": "2023-08-08T09:31:12.576234",
     "exception": false,
     "start_time": "2023-08-08T09:31:09.747874",
     "status": "completed"
    },
    "tags": []
   },
   "outputs": [
    {
     "name": "stdout",
     "output_type": "stream",
     "text": [
      "['A']\n"
     ]
    }
   ],
   "source": [
    "inputs = tokenizer(format_input(test, 0), return_tensors=\"pt\").to(device)\n",
    "outputs = model.generate(**inputs)\n",
    "answer = tokenizer.batch_decode(outputs, skip_special_tokens=True)\n",
    "\n",
    "print(answer)"
   ]
  },
  {
   "cell_type": "markdown",
   "id": "23dd4ab8",
   "metadata": {
    "papermill": {
     "duration": 0.005092,
     "end_time": "2023-08-08T09:31:12.586533",
     "exception": false,
     "start_time": "2023-08-08T09:31:12.581441",
     "status": "completed"
    },
    "tags": []
   },
   "source": [
    "## Post-processing\n",
    "\n",
    "You can see from the above that the LLM did not properly follow instructions. You'll need to figure out how to ensure your model provides at least the top three predictions, and have checks and post-processing in place for when they don't (such as in our example!)\n",
    "\n",
    "This notebook provides a naive and **very** fragile example of how to do this. You'll want to make something more rubust!"
   ]
  },
  {
   "cell_type": "code",
   "execution_count": 8,
   "id": "5aaf0789",
   "metadata": {
    "execution": {
     "iopub.execute_input": "2023-08-08T09:31:12.599691Z",
     "iopub.status.busy": "2023-08-08T09:31:12.598010Z",
     "iopub.status.idle": "2023-08-08T09:31:12.605270Z",
     "shell.execute_reply": "2023-08-08T09:31:12.604333Z"
    },
    "papermill": {
     "duration": 0.015683,
     "end_time": "2023-08-08T09:31:12.607366",
     "exception": false,
     "start_time": "2023-08-08T09:31:12.591683",
     "status": "completed"
    },
    "tags": []
   },
   "outputs": [],
   "source": [
    "def post_process(predictions):\n",
    "    valid = set(['A', 'B', 'C', 'D', 'E'])\n",
    "    # If there are no valid choices, return something and hope for partial credit\n",
    "    if set(predictions).isdisjoint(valid):\n",
    "        final_pred = 'A B C D E'\n",
    "    else:\n",
    "        final_pred = []\n",
    "        for prediction in predictions:\n",
    "            if prediction in valid:\n",
    "                final_pred += prediction\n",
    "        # add remaining letters\n",
    "        to_add = valid - set(final_pred)\n",
    "        final_pred.extend(list(to_add))\n",
    "        # put in space-delimited format\n",
    "        final_pred = ' '.join(final_pred)\n",
    "        \n",
    "    return final_pred"
   ]
  },
  {
   "cell_type": "markdown",
   "id": "fb72a775",
   "metadata": {
    "papermill": {
     "duration": 0.004863,
     "end_time": "2023-08-08T09:31:12.617189",
     "exception": false,
     "start_time": "2023-08-08T09:31:12.612326",
     "status": "completed"
    },
    "tags": []
   },
   "source": [
    "## Making a submission\n",
    "\n",
    "We can now make a simple script to make a submission to the competition."
   ]
  },
  {
   "cell_type": "code",
   "execution_count": 9,
   "id": "51607323",
   "metadata": {
    "execution": {
     "iopub.execute_input": "2023-08-08T09:31:12.628992Z",
     "iopub.status.busy": "2023-08-08T09:31:12.628265Z",
     "iopub.status.idle": "2023-08-08T09:31:22.841706Z",
     "shell.execute_reply": "2023-08-08T09:31:22.840718Z"
    },
    "papermill": {
     "duration": 10.2221,
     "end_time": "2023-08-08T09:31:22.844412",
     "exception": false,
     "start_time": "2023-08-08T09:31:12.622312",
     "status": "completed"
    },
    "tags": []
   },
   "outputs": [
    {
     "name": "stderr",
     "output_type": "stream",
     "text": [
      "Token indices sequence length is longer than the specified maximum sequence length for this model (596 > 512). Running this sequence through the model will result in indexing errors\n"
     ]
    }
   ],
   "source": [
    "submission = pd.read_csv(\n",
    "    data_path / 'sample_submission.csv', index_col='id')\n",
    "\n",
    "for idx in test.index:\n",
    "    inputs = tokenizer(format_input(test, idx), return_tensors=\"pt\").to(device)\n",
    "    outputs = model.generate(**inputs)\n",
    "    answer = tokenizer.batch_decode(outputs, skip_special_tokens=True)\n",
    "    submission.loc[idx, 'prediction'] = post_process(answer)"
   ]
  },
  {
   "cell_type": "markdown",
   "id": "59080faf",
   "metadata": {
    "papermill": {
     "duration": 0.005244,
     "end_time": "2023-08-08T09:31:22.855143",
     "exception": false,
     "start_time": "2023-08-08T09:31:22.849899",
     "status": "completed"
    },
    "tags": []
   },
   "source": [
    "You can include all five possible answers, but only the first three will be counted!"
   ]
  },
  {
   "cell_type": "code",
   "execution_count": 10,
   "id": "25331f00",
   "metadata": {
    "execution": {
     "iopub.execute_input": "2023-08-08T09:31:22.868334Z",
     "iopub.status.busy": "2023-08-08T09:31:22.866596Z",
     "iopub.status.idle": "2023-08-08T09:31:22.878237Z",
     "shell.execute_reply": "2023-08-08T09:31:22.877209Z"
    },
    "papermill": {
     "duration": 0.020347,
     "end_time": "2023-08-08T09:31:22.880511",
     "exception": false,
     "start_time": "2023-08-08T09:31:22.860164",
     "status": "completed"
    },
    "tags": []
   },
   "outputs": [
    {
     "data": {
      "text/html": [
       "<div>\n",
       "<style scoped>\n",
       "    .dataframe tbody tr th:only-of-type {\n",
       "        vertical-align: middle;\n",
       "    }\n",
       "\n",
       "    .dataframe tbody tr th {\n",
       "        vertical-align: top;\n",
       "    }\n",
       "\n",
       "    .dataframe thead th {\n",
       "        text-align: right;\n",
       "    }\n",
       "</style>\n",
       "<table border=\"1\" class=\"dataframe\">\n",
       "  <thead>\n",
       "    <tr style=\"text-align: right;\">\n",
       "      <th></th>\n",
       "      <th>prediction</th>\n",
       "    </tr>\n",
       "    <tr>\n",
       "      <th>id</th>\n",
       "      <th></th>\n",
       "    </tr>\n",
       "  </thead>\n",
       "  <tbody>\n",
       "    <tr>\n",
       "      <th>0</th>\n",
       "      <td>A E D B C</td>\n",
       "    </tr>\n",
       "    <tr>\n",
       "      <th>1</th>\n",
       "      <td>A E D B C</td>\n",
       "    </tr>\n",
       "    <tr>\n",
       "      <th>2</th>\n",
       "      <td>C E D A B</td>\n",
       "    </tr>\n",
       "    <tr>\n",
       "      <th>3</th>\n",
       "      <td>A E D B C</td>\n",
       "    </tr>\n",
       "    <tr>\n",
       "      <th>4</th>\n",
       "      <td>A E D B C</td>\n",
       "    </tr>\n",
       "  </tbody>\n",
       "</table>\n",
       "</div>"
      ],
      "text/plain": [
       "   prediction\n",
       "id           \n",
       "0   A E D B C\n",
       "1   A E D B C\n",
       "2   C E D A B\n",
       "3   A E D B C\n",
       "4   A E D B C"
      ]
     },
     "execution_count": 10,
     "metadata": {},
     "output_type": "execute_result"
    }
   ],
   "source": [
    "submission.head()"
   ]
  },
  {
   "cell_type": "code",
   "execution_count": 11,
   "id": "2db00073",
   "metadata": {
    "execution": {
     "iopub.execute_input": "2023-08-08T09:31:22.893364Z",
     "iopub.status.busy": "2023-08-08T09:31:22.892482Z",
     "iopub.status.idle": "2023-08-08T09:31:22.900030Z",
     "shell.execute_reply": "2023-08-08T09:31:22.899169Z"
    },
    "papermill": {
     "duration": 0.015761,
     "end_time": "2023-08-08T09:31:22.902050",
     "exception": false,
     "start_time": "2023-08-08T09:31:22.886289",
     "status": "completed"
    },
    "tags": []
   },
   "outputs": [],
   "source": [
    "submission.to_csv('submission.csv')"
   ]
  }
 ],
 "metadata": {
  "kernelspec": {
   "display_name": "Python 3",
   "language": "python",
   "name": "python3"
  },
  "language_info": {
   "codemirror_mode": {
    "name": "ipython",
    "version": 3
   },
   "file_extension": ".py",
   "mimetype": "text/x-python",
   "name": "python",
   "nbconvert_exporter": "python",
   "pygments_lexer": "ipython3",
   "version": "3.10.10"
  },
  "papermill": {
   "default_parameters": {},
   "duration": 59.726906,
   "end_time": "2023-08-08T09:31:26.541845",
   "environment_variables": {},
   "exception": null,
   "input_path": "__notebook__.ipynb",
   "output_path": "__notebook__.ipynb",
   "parameters": {},
   "start_time": "2023-08-08T09:30:26.814939",
   "version": "2.4.0"
  }
 },
 "nbformat": 4,
 "nbformat_minor": 5
}
